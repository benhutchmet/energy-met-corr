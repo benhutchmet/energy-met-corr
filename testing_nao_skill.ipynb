{
 "cells": [
  {
   "cell_type": "markdown",
   "metadata": {},
   "source": [
    "### NAO correlations with energy variables ###\n",
    "\n",
    "Exploring how well the NAO correlates with energy variables on seasonal to decadal timescales during the winter (ONDJFM, DJFM, or DJF). Using the following datasets:\n",
    "\n",
    "* CLEARHEADS - ERA5-derived energy time series, includes offshore wind in EEZs and Heating Degree Days.\n",
    "* ERA5 - reanalysis product for deriving the NAO indices at different timescales.\n",
    "* ENTSO-E - shorter observed time series of capacity factors and other energy variables. For ground truthing the CLEARHEADS data above."
   ]
  },
  {
   "cell_type": "code",
   "execution_count": 1,
   "metadata": {},
   "outputs": [],
   "source": [
    "# -*- coding: utf-8 -*-\n",
    "%matplotlib inline\n",
    "%load_ext autoreload\n",
    "%autoreload 2\n",
    "\n",
    "# Import local modules\n",
    "import sys\n",
    "import os\n",
    "import glob\n",
    "\n",
    "# Import third-party modules\n",
    "import numpy as np\n",
    "import pandas as pd\n",
    "import matplotlib.pyplot as plt\n",
    "import xarray as xr\n",
    "import iris\n",
    "import cartopy.crs as ccrs\n",
    "import cartopy.feature as cfeature\n",
    "import cdsapi\n",
    "# import xesmf as xe\n",
    "from datetime import datetime\n",
    "from tqdm import tqdm\n",
    "from scipy.stats import pearsonr"
   ]
  },
  {
   "cell_type": "code",
   "execution_count": 2,
   "metadata": {},
   "outputs": [],
   "source": [
    "sys.path.append(\"/home/users/benhutch/energy-met-corr-functions\")\n",
    "\n",
    "# Import the semi-local functions\n",
    "import functions_em as funcs_em"
   ]
  },
  {
   "cell_type": "code",
   "execution_count": 3,
   "metadata": {},
   "outputs": [],
   "source": [
    "sys.path.append(\"/home/users/benhutch/energy-met-corr\")\n",
    "import dictionaries_em as dicts\n",
    "\n",
    "sys.path.append(\"/home/users/benhutch/skill-maps/python\")\n",
    "import functions as fnc\n",
    "\n",
    "sys.path.append(\"/home/users/benhutch/skill-maps\")\n",
    "import dictionaries as dicts_sm"
   ]
  },
  {
   "cell_type": "markdown",
   "metadata": {},
   "source": [
    "### Aggregate correlations ###\n",
    "\n",
    "Test the function for aggregating correlations for the dataframes."
   ]
  },
  {
   "cell_type": "code",
   "execution_count": 4,
   "metadata": {},
   "outputs": [],
   "source": [
    "# # Set up the list of filenames\n",
    "# filenames = [\n",
    "#     \"solar_power_cfs_NUTS_obs_corr.csv\",\n",
    "#     \"onshore_wp_NUTS0_obs_corr.csv\",\n",
    "#     \"offshore_wp_EEZ_obs_corr.csv\",\n",
    "#     \"HDD_NUTS_obs_corr.csv\",\n",
    "#     \"corr_obs_nao_obs_pr_NUTS0.csv\",\n",
    "#     \"corr_obs_delta_p_obs_pr_NUTS0.csv\",\n",
    "# ]\n",
    "\n",
    "# # Set up the prefixes\n",
    "# prefixes = [            \n",
    "#     \"solar_cfs\",\n",
    "#     \"onshore_wp_cfs\",\n",
    "#     \"offshore_wp_cfs\",\n",
    "#     \"hdd\",\n",
    "#     \"nao_pr\",\n",
    "#     \"delta_p_pr\",\n",
    "# ]"
   ]
  },
  {
   "cell_type": "code",
   "execution_count": 5,
   "metadata": {},
   "outputs": [],
   "source": [
    "# # Call the function\n",
    "# df = funcs_em.merge_dfs_by_region(\n",
    "#     dfs_dir=\"/home/users/benhutch/energy-met-corr/df\",\n",
    "#     filenames=filenames,\n",
    "#     prefixes=prefixes,\n",
    "# )"
   ]
  },
  {
   "cell_type": "code",
   "execution_count": 6,
   "metadata": {},
   "outputs": [],
   "source": [
    "# dfs = funcs_em.calc_nao_region_corr(\n",
    "#     shp_fname=\"NUTS_RG_10M_2021_4326.shp\",\n",
    "#     shp_fpath=\"/home/users/benhutch/shapefiles/NUTS/\",\n",
    "#     predictand_var_name=\"var228\",\n",
    "#     predictand_var_data_path=dicts.regrid_file_pr,\n",
    "#     nao_n_grid=dicts.uk_n_box_corrected,\n",
    "#     nao_s_grid=dicts.uk_s_box_corrected,\n",
    "#     save_fname=\"corr_obs_delta_p_obs_pr_NUTS0.csv\",\n",
    "# )"
   ]
  },
  {
   "cell_type": "code",
   "execution_count": 7,
   "metadata": {},
   "outputs": [],
   "source": [
    "# df = funcs_em.aggregate_obs_correlations(\n",
    "#     uread_fname=\"NUTS_0_HDD_historical_pop_weighted.nc\",\n",
    "#     shp_fname=\"NUTS_RG_10M_2021_4326.shp\",\n",
    "#     shp_fpath=\"/home/users/benhutch/shapefiles/NUTS/\",\n",
    "#     obs_vars=[],\n",
    "#     obs_var_data_paths=[],\n",
    "#     obs_var_levels=[],\n",
    "#     save_fname=\"pr_NUTS_obs_corr_indices.csv\",\n",
    "# )"
   ]
  },
  {
   "cell_type": "markdown",
   "metadata": {},
   "source": [
    "### Testing mean stats function ###"
   ]
  },
  {
   "cell_type": "code",
   "execution_count": 8,
   "metadata": {},
   "outputs": [],
   "source": [
    "# # And for the NUTS data\n",
    "# df = funcs_em.plot_eu_clearheads(\n",
    "#     file=\"NUTS_0_t2m_detrended_timeseries_historical_pop_weighted.nc\",\n",
    "#     shp_file=\"NUTS_RG_10M_2021_4326.shp\",\n",
    "#     shp_file_dir=\"/home/users/benhutch/shapefiles/NUTS/\",\n",
    "#     label=\"Pop. weighted temp (K)\",\n",
    "#     trend_level=2020.0,\n",
    "# )"
   ]
  },
  {
   "cell_type": "code",
   "execution_count": 9,
   "metadata": {},
   "outputs": [],
   "source": [
    "# # Test the function for plotting the winter mean state\n",
    "# funcs_em.plot_winter_mean(\n",
    "#     obs_var=\"si10\",\n",
    "#     obs_var_data_path=dicts.era5_msl_path,\n",
    "#     cmap=\"Greys\",\n",
    "#     vmin=0,\n",
    "#     vmax=10,\n",
    "# )"
   ]
  },
  {
   "cell_type": "code",
   "execution_count": 10,
   "metadata": {},
   "outputs": [],
   "source": [
    "# data = \"/home/users/benhutch/CLEARHEADS_EU_Power_Data/NUTS_0_t2m_detrended_timeseries_historical_pop_weighted.nc\"\n",
    "\n",
    "# # Load the data\n",
    "# ds = xr.open_dataset(data)\n",
    "\n",
    "# # print the variables\n",
    "# print(ds)"
   ]
  },
  {
   "cell_type": "code",
   "execution_count": 11,
   "metadata": {},
   "outputs": [],
   "source": [
    "# print(ds.NUTS_keys.values)"
   ]
  },
  {
   "cell_type": "code",
   "execution_count": 12,
   "metadata": {},
   "outputs": [],
   "source": [
    "# # print the values of the trend levels\n",
    "# print(ds.trend_levels.values)"
   ]
  },
  {
   "cell_type": "code",
   "execution_count": 13,
   "metadata": {},
   "outputs": [],
   "source": [
    "# # select the 2020 trend level\n",
    "# trend_level = 2020.0\n",
    "\n",
    "# trend_levels = ds.trend_levels.values\n",
    "\n",
    "# # find the index of teh trend\n",
    "# trend_i = np.where(trend_levels == trend_level)\n",
    "\n",
    "# print(trend_i[0])\n",
    "\n",
    "# ds = ds.sel(trend=trend_i[0])"
   ]
  },
  {
   "cell_type": "code",
   "execution_count": 14,
   "metadata": {},
   "outputs": [],
   "source": [
    "# ds.trend_levels.values"
   ]
  },
  {
   "cell_type": "markdown",
   "metadata": {},
   "source": [
    "### Testing scatter functions ###"
   ]
  },
  {
   "cell_type": "code",
   "execution_count": 15,
   "metadata": {},
   "outputs": [],
   "source": [
    "# # # /gws/nopw/j04/canari/users/benhutch/alternate-lag-processed-data/tas_ONDJFM_global_1961_2014_2-9_4_20_1709338673.215247_nao_matched_members.npy\n",
    "\n",
    "\n",
    "# # Dictionary for predictor var\n",
    "# pred_var_dict = {\n",
    "#     \"lag\": 4,\n",
    "#     \"alt_lag\": \"nao_matched\",\n",
    "#     \"method\": \"nao_matched\",\n",
    "#     \"region\": \"global\",\n",
    "# }"
   ]
  },
  {
   "cell_type": "code",
   "execution_count": 16,
   "metadata": {},
   "outputs": [],
   "source": [
    "# # test the function for loading the scatter data\n",
    "# dict = funcs_em.process_data_for_scatter(\n",
    "#     season=\"ONDJFM\",\n",
    "#     forecast_range=\"2-9\",\n",
    "#     start_year=1961,\n",
    "#     end_year=2014,\n",
    "#     predictor_var=\"sfcWind\",\n",
    "#     predictor_var_dict=pred_var_dict,\n",
    "#     predictand_var=\"pr\",\n",
    "#     predictand_var_file=dicts.regrid_file,\n",
    "#     region=dicts.scandi_box,\n",
    "#     region_name=\"uk\",\n",
    "# )"
   ]
  },
  {
   "cell_type": "code",
   "execution_count": 17,
   "metadata": {},
   "outputs": [],
   "source": [
    "# # Loop over dict and print the keys\n",
    "# for key in dict.keys():\n",
    "#     print(key)"
   ]
  },
  {
   "cell_type": "code",
   "execution_count": 18,
   "metadata": {},
   "outputs": [],
   "source": [
    "# # Plot the scatter data\n",
    "# funcs_em.plot_scatter(\n",
    "#     scatter_dict=dict,\n",
    "# )"
   ]
  },
  {
   "cell_type": "markdown",
   "metadata": {},
   "source": [
    "### Downloading ERA5 data ###\n",
    "\n",
    "For calculating the NAO index, we want to query the CDS API for ERA5 data:\n",
    "\n",
    "* From 1950-2023\n",
    "* For ONDJFM\n",
    "* Monthly-means\n",
    "\n",
    "*Note - this data should be regridded before comparison with the CLEARHEADS/ENTSO-E data*"
   ]
  },
  {
   "cell_type": "code",
   "execution_count": 19,
   "metadata": {},
   "outputs": [],
   "source": [
    "# # Set up a new client\n",
    "# c = cdsapi.Client()"
   ]
  },
  {
   "cell_type": "code",
   "execution_count": 20,
   "metadata": {},
   "outputs": [],
   "source": [
    "# # Set up the dictionary for the ERA5 request\n",
    "# era5_request_dict = {\n",
    "#     'variable': 'mean_sea_level_pressure',\n",
    "#     'product_type': 'monthly_averaged_reanalysis',\n",
    "#     'year': [x for x in map(str, range(1950, 2023))],\n",
    "#     'month': [1, 2, 3, 10, 11, 12],\n",
    "#     'format': 'netcdf',\n",
    "#     'time': '00:00'\n",
    "# }\n",
    "\n",
    "# # Print the request dictionary\n",
    "# print(era5_request_dict)"
   ]
  },
  {
   "cell_type": "code",
   "execution_count": 21,
   "metadata": {},
   "outputs": [],
   "source": [
    "# # Set up the target directory\n",
    "# target_dir = '/gws/nopw/j04/canari/users/benhutch/ERA5'\n",
    "\n",
    "# # Assert that the target directory exists\n",
    "# assert os.path.exists(target_dir)\n",
    "\n",
    "# # Assert that the target directory is not empty\n",
    "# assert len(os.listdir(target_dir)) > 0\n",
    "\n",
    "# # Set up the target file\n",
    "# target_file = os.path.join(target_dir, 'era5_mslp_monthly_1950_2022_ONDJFM.nc')\n",
    "\n",
    "# # Print the target file\n",
    "# print(target_file)\n",
    "\n",
    "# # If the target file does not exist, download the data\n",
    "# if not os.path.exists(target_file):\n",
    "#     c.retrieve(\n",
    "#         'reanalysis-era5-single-levels',\n",
    "#         era5_request_dict,\n",
    "#         target_file)\n",
    "# else:\n",
    "#     print('The target file already exists: {}'.format(target_file))"
   ]
  },
  {
   "cell_type": "markdown",
   "metadata": {},
   "source": [
    "Now we want to plot the observed spatial correlations between the NAO and 10m wind speeds and precipitation."
   ]
  },
  {
   "cell_type": "code",
   "execution_count": 22,
   "metadata": {},
   "outputs": [
    {
     "name": "stdout",
     "output_type": "stream",
     "text": [
      "corr_var_field.dims:  2 metre temperature / (K)           (time: 775; latitude: 72; longitude: 144)\n",
      "    Dimension coordinates:\n",
      "        time                             x              -              -\n",
      "        latitude                         -              x              -\n",
      "        longitude                        -              -              x\n",
      "corr_var_field.dims:  2 metre temperature / (K)           (time: 775; latitude: 72; longitude: 144)\n",
      "    Dimension coordinates:\n",
      "        time                             x              -              -\n",
      "        latitude                         -              x              -\n",
      "        longitude                        -              -              x\n"
     ]
    },
    {
     "name": "stderr",
     "output_type": "stream",
     "text": [
      "/home/users/benhutch/.local/lib/python3.10/site-packages/iris/coords.py:2237: UserWarning: Cannot check if coordinate is contiguous: Invalid operation for 'time', with 0 bound(s). Contiguous bounds are only defined for 1D coordinates with 2 bounds. Metadata may not be fully descriptive for 'time'. Ignoring bounds.\n",
      "  warnings.warn(msg.format(str(exc), self.name()))\n",
      "/home/users/benhutch/.local/lib/python3.10/site-packages/iris/coords.py:2237: UserWarning: Cannot check if coordinate is contiguous: Invalid operation for 'time', with 0 bound(s). Contiguous bounds are only defined for 1D coordinates with 2 bounds. Metadata may not be fully descriptive for 'time'. Ignoring bounds.\n",
      "  warnings.warn(msg.format(str(exc), self.name()))\n",
      "/home/users/benhutch/.local/lib/python3.10/site-packages/xarray/core/groupby.py:509: FutureWarning: 'Y' is deprecated and will be removed in a future version, please use 'YE' instead.\n",
      "  index_grouper = pd.Grouper(\n",
      "/home/users/benhutch/.local/lib/python3.10/site-packages/xarray/core/groupby.py:509: FutureWarning: 'Y' is deprecated and will be removed in a future version, please use 'YE' instead.\n",
      "  index_grouper = pd.Grouper(\n"
     ]
    },
    {
     "name": "stdout",
     "output_type": "stream",
     "text": [
      "Time dimension of obs: ['1960-12-31T00:00:00.000000000' '1961-12-31T00:00:00.000000000'\n",
      " '1962-12-31T00:00:00.000000000' '1963-12-31T00:00:00.000000000'\n",
      " '1964-12-31T00:00:00.000000000' '1965-12-31T00:00:00.000000000'\n",
      " '1966-12-31T00:00:00.000000000' '1967-12-31T00:00:00.000000000'\n",
      " '1968-12-31T00:00:00.000000000' '1969-12-31T00:00:00.000000000'\n",
      " '1970-12-31T00:00:00.000000000' '1971-12-31T00:00:00.000000000'\n",
      " '1972-12-31T00:00:00.000000000' '1973-12-31T00:00:00.000000000'\n",
      " '1974-12-31T00:00:00.000000000' '1975-12-31T00:00:00.000000000'\n",
      " '1976-12-31T00:00:00.000000000' '1977-12-31T00:00:00.000000000'\n",
      " '1978-12-31T00:00:00.000000000' '1979-12-31T00:00:00.000000000'\n",
      " '1980-12-31T00:00:00.000000000' '1981-12-31T00:00:00.000000000'\n",
      " '1982-12-31T00:00:00.000000000' '1983-12-31T00:00:00.000000000'\n",
      " '1984-12-31T00:00:00.000000000' '1985-12-31T00:00:00.000000000'\n",
      " '1986-12-31T00:00:00.000000000' '1987-12-31T00:00:00.000000000'\n",
      " '1988-12-31T00:00:00.000000000' '1989-12-31T00:00:00.000000000'\n",
      " '1990-12-31T00:00:00.000000000' '1991-12-31T00:00:00.000000000'\n",
      " '1992-12-31T00:00:00.000000000' '1993-12-31T00:00:00.000000000'\n",
      " '1994-12-31T00:00:00.000000000' '1995-12-31T00:00:00.000000000'\n",
      " '1996-12-31T00:00:00.000000000' '1997-12-31T00:00:00.000000000'\n",
      " '1998-12-31T00:00:00.000000000' '1999-12-31T00:00:00.000000000'\n",
      " '2000-12-31T00:00:00.000000000' '2001-12-31T00:00:00.000000000'\n",
      " '2002-12-31T00:00:00.000000000' '2003-12-31T00:00:00.000000000'\n",
      " '2004-12-31T00:00:00.000000000' '2005-12-31T00:00:00.000000000'\n",
      " '2006-12-31T00:00:00.000000000' '2007-12-31T00:00:00.000000000'\n",
      " '2008-12-31T00:00:00.000000000' '2009-12-31T00:00:00.000000000'\n",
      " '2010-12-31T00:00:00.000000000' '2011-12-31T00:00:00.000000000'\n",
      " '2012-12-31T00:00:00.000000000' '2013-12-31T00:00:00.000000000'\n",
      " '2014-12-31T00:00:00.000000000' '2015-12-31T00:00:00.000000000'\n",
      " '2016-12-31T00:00:00.000000000' '2017-12-31T00:00:00.000000000'\n",
      " '2018-12-31T00:00:00.000000000' '2019-12-31T00:00:00.000000000'\n",
      " '2020-12-31T00:00:00.000000000' '2021-12-31T00:00:00.000000000'\n",
      " '2022-12-31T00:00:00.000000000' '2023-12-31T00:00:00.000000000']\n",
      "Time dimension of obs: ['1960-12-31T00:00:00.000000000' '1961-12-31T00:00:00.000000000'\n",
      " '1962-12-31T00:00:00.000000000' '1963-12-31T00:00:00.000000000'\n",
      " '1964-12-31T00:00:00.000000000' '1965-12-31T00:00:00.000000000'\n",
      " '1966-12-31T00:00:00.000000000' '1967-12-31T00:00:00.000000000'\n",
      " '1968-12-31T00:00:00.000000000' '1969-12-31T00:00:00.000000000'\n",
      " '1970-12-31T00:00:00.000000000' '1971-12-31T00:00:00.000000000'\n",
      " '1972-12-31T00:00:00.000000000' '1973-12-31T00:00:00.000000000'\n",
      " '1974-12-31T00:00:00.000000000' '1975-12-31T00:00:00.000000000'\n",
      " '1976-12-31T00:00:00.000000000' '1977-12-31T00:00:00.000000000'\n",
      " '1978-12-31T00:00:00.000000000' '1979-12-31T00:00:00.000000000'\n",
      " '1980-12-31T00:00:00.000000000' '1981-12-31T00:00:00.000000000'\n",
      " '1982-12-31T00:00:00.000000000' '1983-12-31T00:00:00.000000000'\n",
      " '1984-12-31T00:00:00.000000000' '1985-12-31T00:00:00.000000000'\n",
      " '1986-12-31T00:00:00.000000000' '1987-12-31T00:00:00.000000000'\n",
      " '1988-12-31T00:00:00.000000000' '1989-12-31T00:00:00.000000000'\n",
      " '1990-12-31T00:00:00.000000000' '1991-12-31T00:00:00.000000000'\n",
      " '1992-12-31T00:00:00.000000000' '1993-12-31T00:00:00.000000000'\n",
      " '1994-12-31T00:00:00.000000000' '1995-12-31T00:00:00.000000000'\n",
      " '1996-12-31T00:00:00.000000000' '1997-12-31T00:00:00.000000000'\n",
      " '1998-12-31T00:00:00.000000000' '1999-12-31T00:00:00.000000000'\n",
      " '2000-12-31T00:00:00.000000000' '2001-12-31T00:00:00.000000000'\n",
      " '2002-12-31T00:00:00.000000000' '2003-12-31T00:00:00.000000000'\n",
      " '2004-12-31T00:00:00.000000000' '2005-12-31T00:00:00.000000000'\n",
      " '2006-12-31T00:00:00.000000000' '2007-12-31T00:00:00.000000000'\n",
      " '2008-12-31T00:00:00.000000000' '2009-12-31T00:00:00.000000000'\n",
      " '2010-12-31T00:00:00.000000000' '2011-12-31T00:00:00.000000000'\n",
      " '2012-12-31T00:00:00.000000000' '2013-12-31T00:00:00.000000000'\n",
      " '2014-12-31T00:00:00.000000000' '2015-12-31T00:00:00.000000000'\n",
      " '2016-12-31T00:00:00.000000000' '2017-12-31T00:00:00.000000000'\n",
      " '2018-12-31T00:00:00.000000000' '2019-12-31T00:00:00.000000000'\n",
      " '2020-12-31T00:00:00.000000000' '2021-12-31T00:00:00.000000000'\n",
      " '2022-12-31T00:00:00.000000000' '2023-12-31T00:00:00.000000000']\n",
      "len(psl_anom.time):  64\n",
      "len(corr_var_anom.time):  64\n",
      "n_invalid_years:  4.0\n",
      "type of psl_anom:  <class 'xarray.core.dataarray.DataArray'>\n",
      "type of corr_var_anom:  <class 'xarray.core.dataarray.DataArray'>\n"
     ]
    }
   ],
   "source": [
    "# Test this function\n",
    "stats_dict_tas = funcs_em.calc_nao_spatial_corr(\n",
    "    season=\"ONDJFM\",\n",
    "    forecast_range=\"2-9\",\n",
    "    start_year=1960,\n",
    "    end_year=2023,\n",
    "    corr_var=\"t2m\",\n",
    "    corr_var_obs_file=dicts.regrid_file,\n",
    "    nao_n_grid=dicts.uk_n_box_corrected,\n",
    "    nao_s_grid=dicts.uk_s_box_corrected,\n",
    ")"
   ]
  },
  {
   "cell_type": "code",
   "execution_count": 23,
   "metadata": {},
   "outputs": [
    {
     "name": "stdout",
     "output_type": "stream",
     "text": [
      "corr_var_field.dims:  10 metre wind speed / (m s**-1)     (time: 775; latitude: 72; longitude: 144)\n",
      "    Dimension coordinates:\n",
      "        time                             x              -              -\n",
      "        latitude                         -              x              -\n",
      "        longitude                        -              -              x\n",
      "corr_var_field.dims:  10 metre wind speed / (m s**-1)     (time: 775; latitude: 72; longitude: 144)\n",
      "    Dimension coordinates:\n",
      "        time                             x              -              -\n",
      "        latitude                         -              x              -\n",
      "        longitude                        -              -              x\n",
      "Time dimension of obs: ['1960-12-31T00:00:00.000000000' '1961-12-31T00:00:00.000000000'\n",
      " '1962-12-31T00:00:00.000000000' '1963-12-31T00:00:00.000000000'\n",
      " '1964-12-31T00:00:00.000000000' '1965-12-31T00:00:00.000000000'\n",
      " '1966-12-31T00:00:00.000000000' '1967-12-31T00:00:00.000000000'\n",
      " '1968-12-31T00:00:00.000000000' '1969-12-31T00:00:00.000000000'\n",
      " '1970-12-31T00:00:00.000000000' '1971-12-31T00:00:00.000000000'\n",
      " '1972-12-31T00:00:00.000000000' '1973-12-31T00:00:00.000000000'\n",
      " '1974-12-31T00:00:00.000000000' '1975-12-31T00:00:00.000000000'\n",
      " '1976-12-31T00:00:00.000000000' '1977-12-31T00:00:00.000000000'\n",
      " '1978-12-31T00:00:00.000000000' '1979-12-31T00:00:00.000000000'\n",
      " '1980-12-31T00:00:00.000000000' '1981-12-31T00:00:00.000000000'\n",
      " '1982-12-31T00:00:00.000000000' '1983-12-31T00:00:00.000000000'\n",
      " '1984-12-31T00:00:00.000000000' '1985-12-31T00:00:00.000000000'\n",
      " '1986-12-31T00:00:00.000000000' '1987-12-31T00:00:00.000000000'\n",
      " '1988-12-31T00:00:00.000000000' '1989-12-31T00:00:00.000000000'\n",
      " '1990-12-31T00:00:00.000000000' '1991-12-31T00:00:00.000000000'\n",
      " '1992-12-31T00:00:00.000000000' '1993-12-31T00:00:00.000000000'\n",
      " '1994-12-31T00:00:00.000000000' '1995-12-31T00:00:00.000000000'\n",
      " '1996-12-31T00:00:00.000000000' '1997-12-31T00:00:00.000000000'\n",
      " '1998-12-31T00:00:00.000000000' '1999-12-31T00:00:00.000000000'\n",
      " '2000-12-31T00:00:00.000000000' '2001-12-31T00:00:00.000000000'\n",
      " '2002-12-31T00:00:00.000000000' '2003-12-31T00:00:00.000000000'\n",
      " '2004-12-31T00:00:00.000000000' '2005-12-31T00:00:00.000000000'\n",
      " '2006-12-31T00:00:00.000000000' '2007-12-31T00:00:00.000000000'\n",
      " '2008-12-31T00:00:00.000000000' '2009-12-31T00:00:00.000000000'\n",
      " '2010-12-31T00:00:00.000000000' '2011-12-31T00:00:00.000000000'\n",
      " '2012-12-31T00:00:00.000000000' '2013-12-31T00:00:00.000000000'\n",
      " '2014-12-31T00:00:00.000000000' '2015-12-31T00:00:00.000000000'\n",
      " '2016-12-31T00:00:00.000000000' '2017-12-31T00:00:00.000000000'\n",
      " '2018-12-31T00:00:00.000000000' '2019-12-31T00:00:00.000000000'\n",
      " '2020-12-31T00:00:00.000000000' '2021-12-31T00:00:00.000000000'\n",
      " '2022-12-31T00:00:00.000000000' '2023-12-31T00:00:00.000000000']\n",
      "Time dimension of obs: ['1960-12-31T00:00:00.000000000' '1961-12-31T00:00:00.000000000'\n",
      " '1962-12-31T00:00:00.000000000' '1963-12-31T00:00:00.000000000'\n",
      " '1964-12-31T00:00:00.000000000' '1965-12-31T00:00:00.000000000'\n",
      " '1966-12-31T00:00:00.000000000' '1967-12-31T00:00:00.000000000'\n",
      " '1968-12-31T00:00:00.000000000' '1969-12-31T00:00:00.000000000'\n",
      " '1970-12-31T00:00:00.000000000' '1971-12-31T00:00:00.000000000'\n",
      " '1972-12-31T00:00:00.000000000' '1973-12-31T00:00:00.000000000'\n",
      " '1974-12-31T00:00:00.000000000' '1975-12-31T00:00:00.000000000'\n",
      " '1976-12-31T00:00:00.000000000' '1977-12-31T00:00:00.000000000'\n",
      " '1978-12-31T00:00:00.000000000' '1979-12-31T00:00:00.000000000'\n",
      " '1980-12-31T00:00:00.000000000' '1981-12-31T00:00:00.000000000'\n",
      " '1982-12-31T00:00:00.000000000' '1983-12-31T00:00:00.000000000'\n",
      " '1984-12-31T00:00:00.000000000' '1985-12-31T00:00:00.000000000'\n",
      " '1986-12-31T00:00:00.000000000' '1987-12-31T00:00:00.000000000'\n",
      " '1988-12-31T00:00:00.000000000' '1989-12-31T00:00:00.000000000'\n",
      " '1990-12-31T00:00:00.000000000' '1991-12-31T00:00:00.000000000'\n",
      " '1992-12-31T00:00:00.000000000' '1993-12-31T00:00:00.000000000'\n",
      " '1994-12-31T00:00:00.000000000' '1995-12-31T00:00:00.000000000'\n",
      " '1996-12-31T00:00:00.000000000' '1997-12-31T00:00:00.000000000'\n",
      " '1998-12-31T00:00:00.000000000' '1999-12-31T00:00:00.000000000'\n",
      " '2000-12-31T00:00:00.000000000' '2001-12-31T00:00:00.000000000'\n",
      " '2002-12-31T00:00:00.000000000' '2003-12-31T00:00:00.000000000'\n",
      " '2004-12-31T00:00:00.000000000' '2005-12-31T00:00:00.000000000'\n",
      " '2006-12-31T00:00:00.000000000' '2007-12-31T00:00:00.000000000'\n",
      " '2008-12-31T00:00:00.000000000' '2009-12-31T00:00:00.000000000'\n",
      " '2010-12-31T00:00:00.000000000' '2011-12-31T00:00:00.000000000'\n",
      " '2012-12-31T00:00:00.000000000' '2013-12-31T00:00:00.000000000'\n",
      " '2014-12-31T00:00:00.000000000' '2015-12-31T00:00:00.000000000'\n",
      " '2016-12-31T00:00:00.000000000' '2017-12-31T00:00:00.000000000'\n",
      " '2018-12-31T00:00:00.000000000' '2019-12-31T00:00:00.000000000'\n",
      " '2020-12-31T00:00:00.000000000' '2021-12-31T00:00:00.000000000'\n",
      " '2022-12-31T00:00:00.000000000' '2023-12-31T00:00:00.000000000']\n",
      "len(psl_anom.time):  64\n",
      "len(corr_var_anom.time):  64\n",
      "n_invalid_years:  4.0\n",
      "type of psl_anom:  <class 'xarray.core.dataarray.DataArray'>\n",
      "type of corr_var_anom:  <class 'xarray.core.dataarray.DataArray'>\n"
     ]
    },
    {
     "name": "stderr",
     "output_type": "stream",
     "text": [
      "/home/users/benhutch/.local/lib/python3.10/site-packages/iris/coords.py:2237: UserWarning: Cannot check if coordinate is contiguous: Invalid operation for 'time', with 0 bound(s). Contiguous bounds are only defined for 1D coordinates with 2 bounds. Metadata may not be fully descriptive for 'time'. Ignoring bounds.\n",
      "  warnings.warn(msg.format(str(exc), self.name()))\n",
      "/home/users/benhutch/.local/lib/python3.10/site-packages/iris/coords.py:2237: UserWarning: Cannot check if coordinate is contiguous: Invalid operation for 'time', with 0 bound(s). Contiguous bounds are only defined for 1D coordinates with 2 bounds. Metadata may not be fully descriptive for 'time'. Ignoring bounds.\n",
      "  warnings.warn(msg.format(str(exc), self.name()))\n",
      "/home/users/benhutch/.local/lib/python3.10/site-packages/xarray/core/groupby.py:509: FutureWarning: 'Y' is deprecated and will be removed in a future version, please use 'YE' instead.\n",
      "  index_grouper = pd.Grouper(\n",
      "/home/users/benhutch/.local/lib/python3.10/site-packages/xarray/core/groupby.py:509: FutureWarning: 'Y' is deprecated and will be removed in a future version, please use 'YE' instead.\n",
      "  index_grouper = pd.Grouper(\n"
     ]
    }
   ],
   "source": [
    "# Calculate the stats for the precipitation\n",
    "stats_dict_sfcWind = funcs_em.calc_nao_spatial_corr(\n",
    "    season=\"ONDJFM\",\n",
    "    forecast_range=\"2-9\",\n",
    "    start_year=1960,\n",
    "    end_year=2023,\n",
    "    corr_var=\"si10\",\n",
    "    nao_n_grid=dicts.uk_n_box_corrected,\n",
    "    nao_s_grid=dicts.uk_s_box_corrected,\n",
    ")"
   ]
  },
  {
   "cell_type": "code",
   "execution_count": 24,
   "metadata": {},
   "outputs": [
    {
     "name": "stdout",
     "output_type": "stream",
     "text": [
      "corr_var_field.dims:  surface_downwelling_shortwave_flux_in_air / (J m**-2) (time: 775; latitude: 72; longitude: 144)\n",
      "    Dimension coordinates:\n",
      "        time                                               x              -              -\n",
      "        latitude                                           -              x              -\n",
      "        longitude                                          -              -              x\n",
      "corr_var_field.dims:  surface_downwelling_shortwave_flux_in_air / (J m**-2) (time: 775; latitude: 72; longitude: 144)\n",
      "    Dimension coordinates:\n",
      "        time                                               x              -              -\n",
      "        latitude                                           -              x              -\n",
      "        longitude                                          -              -              x\n",
      "Time dimension of obs: ['1960-12-31T00:00:00.000000000' '1961-12-31T00:00:00.000000000'\n",
      " '1962-12-31T00:00:00.000000000' '1963-12-31T00:00:00.000000000'\n",
      " '1964-12-31T00:00:00.000000000' '1965-12-31T00:00:00.000000000'\n",
      " '1966-12-31T00:00:00.000000000' '1967-12-31T00:00:00.000000000'\n",
      " '1968-12-31T00:00:00.000000000' '1969-12-31T00:00:00.000000000'\n",
      " '1970-12-31T00:00:00.000000000' '1971-12-31T00:00:00.000000000'\n",
      " '1972-12-31T00:00:00.000000000' '1973-12-31T00:00:00.000000000'\n",
      " '1974-12-31T00:00:00.000000000' '1975-12-31T00:00:00.000000000'\n",
      " '1976-12-31T00:00:00.000000000' '1977-12-31T00:00:00.000000000'\n",
      " '1978-12-31T00:00:00.000000000' '1979-12-31T00:00:00.000000000'\n",
      " '1980-12-31T00:00:00.000000000' '1981-12-31T00:00:00.000000000'\n",
      " '1982-12-31T00:00:00.000000000' '1983-12-31T00:00:00.000000000'\n",
      " '1984-12-31T00:00:00.000000000' '1985-12-31T00:00:00.000000000'\n",
      " '1986-12-31T00:00:00.000000000' '1987-12-31T00:00:00.000000000'\n",
      " '1988-12-31T00:00:00.000000000' '1989-12-31T00:00:00.000000000'\n",
      " '1990-12-31T00:00:00.000000000' '1991-12-31T00:00:00.000000000'\n",
      " '1992-12-31T00:00:00.000000000' '1993-12-31T00:00:00.000000000'\n",
      " '1994-12-31T00:00:00.000000000' '1995-12-31T00:00:00.000000000'\n",
      " '1996-12-31T00:00:00.000000000' '1997-12-31T00:00:00.000000000'\n",
      " '1998-12-31T00:00:00.000000000' '1999-12-31T00:00:00.000000000'\n",
      " '2000-12-31T00:00:00.000000000' '2001-12-31T00:00:00.000000000'\n",
      " '2002-12-31T00:00:00.000000000' '2003-12-31T00:00:00.000000000'\n",
      " '2004-12-31T00:00:00.000000000' '2005-12-31T00:00:00.000000000'\n",
      " '2006-12-31T00:00:00.000000000' '2007-12-31T00:00:00.000000000'\n",
      " '2008-12-31T00:00:00.000000000' '2009-12-31T00:00:00.000000000'\n",
      " '2010-12-31T00:00:00.000000000' '2011-12-31T00:00:00.000000000'\n",
      " '2012-12-31T00:00:00.000000000' '2013-12-31T00:00:00.000000000'\n",
      " '2014-12-31T00:00:00.000000000' '2015-12-31T00:00:00.000000000'\n",
      " '2016-12-31T00:00:00.000000000' '2017-12-31T00:00:00.000000000'\n",
      " '2018-12-31T00:00:00.000000000' '2019-12-31T00:00:00.000000000'\n",
      " '2020-12-31T00:00:00.000000000' '2021-12-31T00:00:00.000000000'\n",
      " '2022-12-31T00:00:00.000000000' '2023-12-31T00:00:00.000000000']\n"
     ]
    },
    {
     "name": "stderr",
     "output_type": "stream",
     "text": [
      "/home/users/benhutch/.local/lib/python3.10/site-packages/iris/coords.py:2237: UserWarning: Cannot check if coordinate is contiguous: Invalid operation for 'time', with 0 bound(s). Contiguous bounds are only defined for 1D coordinates with 2 bounds. Metadata may not be fully descriptive for 'time'. Ignoring bounds.\n",
      "  warnings.warn(msg.format(str(exc), self.name()))\n",
      "/home/users/benhutch/.local/lib/python3.10/site-packages/iris/coords.py:2237: UserWarning: Cannot check if coordinate is contiguous: Invalid operation for 'time', with 0 bound(s). Contiguous bounds are only defined for 1D coordinates with 2 bounds. Metadata may not be fully descriptive for 'time'. Ignoring bounds.\n",
      "  warnings.warn(msg.format(str(exc), self.name()))\n",
      "/home/users/benhutch/.local/lib/python3.10/site-packages/xarray/core/groupby.py:509: FutureWarning: 'Y' is deprecated and will be removed in a future version, please use 'YE' instead.\n",
      "  index_grouper = pd.Grouper(\n",
      "/home/users/benhutch/.local/lib/python3.10/site-packages/xarray/core/groupby.py:509: FutureWarning: 'Y' is deprecated and will be removed in a future version, please use 'YE' instead.\n",
      "  index_grouper = pd.Grouper(\n"
     ]
    },
    {
     "name": "stdout",
     "output_type": "stream",
     "text": [
      "Time dimension of obs: ['1960-12-31T00:00:00.000000000' '1961-12-31T00:00:00.000000000'\n",
      " '1962-12-31T00:00:00.000000000' '1963-12-31T00:00:00.000000000'\n",
      " '1964-12-31T00:00:00.000000000' '1965-12-31T00:00:00.000000000'\n",
      " '1966-12-31T00:00:00.000000000' '1967-12-31T00:00:00.000000000'\n",
      " '1968-12-31T00:00:00.000000000' '1969-12-31T00:00:00.000000000'\n",
      " '1970-12-31T00:00:00.000000000' '1971-12-31T00:00:00.000000000'\n",
      " '1972-12-31T00:00:00.000000000' '1973-12-31T00:00:00.000000000'\n",
      " '1974-12-31T00:00:00.000000000' '1975-12-31T00:00:00.000000000'\n",
      " '1976-12-31T00:00:00.000000000' '1977-12-31T00:00:00.000000000'\n",
      " '1978-12-31T00:00:00.000000000' '1979-12-31T00:00:00.000000000'\n",
      " '1980-12-31T00:00:00.000000000' '1981-12-31T00:00:00.000000000'\n",
      " '1982-12-31T00:00:00.000000000' '1983-12-31T00:00:00.000000000'\n",
      " '1984-12-31T00:00:00.000000000' '1985-12-31T00:00:00.000000000'\n",
      " '1986-12-31T00:00:00.000000000' '1987-12-31T00:00:00.000000000'\n",
      " '1988-12-31T00:00:00.000000000' '1989-12-31T00:00:00.000000000'\n",
      " '1990-12-31T00:00:00.000000000' '1991-12-31T00:00:00.000000000'\n",
      " '1992-12-31T00:00:00.000000000' '1993-12-31T00:00:00.000000000'\n",
      " '1994-12-31T00:00:00.000000000' '1995-12-31T00:00:00.000000000'\n",
      " '1996-12-31T00:00:00.000000000' '1997-12-31T00:00:00.000000000'\n",
      " '1998-12-31T00:00:00.000000000' '1999-12-31T00:00:00.000000000'\n",
      " '2000-12-31T00:00:00.000000000' '2001-12-31T00:00:00.000000000'\n",
      " '2002-12-31T00:00:00.000000000' '2003-12-31T00:00:00.000000000'\n",
      " '2004-12-31T00:00:00.000000000' '2005-12-31T00:00:00.000000000'\n",
      " '2006-12-31T00:00:00.000000000' '2007-12-31T00:00:00.000000000'\n",
      " '2008-12-31T00:00:00.000000000' '2009-12-31T00:00:00.000000000'\n",
      " '2010-12-31T00:00:00.000000000' '2011-12-31T00:00:00.000000000'\n",
      " '2012-12-31T00:00:00.000000000' '2013-12-31T00:00:00.000000000'\n",
      " '2014-12-31T00:00:00.000000000' '2015-12-31T00:00:00.000000000'\n",
      " '2016-12-31T00:00:00.000000000' '2017-12-31T00:00:00.000000000'\n",
      " '2018-12-31T00:00:00.000000000' '2019-12-31T00:00:00.000000000'\n",
      " '2020-12-31T00:00:00.000000000' '2021-12-31T00:00:00.000000000'\n",
      " '2022-12-31T00:00:00.000000000' '2023-12-31T00:00:00.000000000']\n",
      "len(psl_anom.time):  64\n",
      "len(corr_var_anom.time):  64\n",
      "n_invalid_years:  4.0\n",
      "type of psl_anom:  <class 'xarray.core.dataarray.DataArray'>\n",
      "type of corr_var_anom:  <class 'xarray.core.dataarray.DataArray'>\n"
     ]
    }
   ],
   "source": [
    "# Calculate the stats for the precipitation\n",
    "stats_dict_rsds = funcs_em.calc_nao_spatial_corr(\n",
    "    season=\"ONDJFM\",\n",
    "    forecast_range=\"2-9\",\n",
    "    start_year=1960,\n",
    "    end_year=2023,\n",
    "    corr_var=\"ssrd\",\n",
    "    nao_n_grid=dicts.uk_n_box_corrected,\n",
    "    nao_s_grid=dicts.uk_s_box_corrected,\n",
    ")"
   ]
  },
  {
   "cell_type": "code",
   "execution_count": 25,
   "metadata": {},
   "outputs": [
    {
     "name": "stdout",
     "output_type": "stream",
     "text": [
      "The obs variable is a wind speed variable\n",
      "Loading regrid obs file using xarray:  /gws/nopw/j04/canari/users/benhutch/ERA5/global_regrid_sel_region_var228.nc\n",
      "corr_var_field.dims:  var228 / (unknown)                  (time: 769; latitude: 72; longitude: 144)\n",
      "    Dimension coordinates:\n",
      "        time                             x              -              -\n",
      "        latitude                         -              x              -\n",
      "        longitude                        -              -              x\n",
      "    Attributes:\n",
      "        CDI                         'Climate Data Interface version 2.0.5 (https://mpimet.mpg.de/cdi)'\n",
      "        CDO                         'Climate Data Operators version 2.0.5 (https://mpimet.mpg.de/cdo)'\n",
      "        Conventions                 'CF-1.6'\n",
      "        code                        228\n",
      "        history                     'Wed Feb 28 10:56:43 2024: cdo -O -s -remapbil,/home/users/benhutch/gridspec/gridspec-global.txt ...'\n",
      "        institution                 'European Centre for Medium-Range Weather Forecasts'\n",
      "        table                       128\n",
      "corr_var_field.dims:  var228 / (unknown)                  (time: 769; latitude: 72; longitude: 144)\n",
      "    Dimension coordinates:\n",
      "        time                             x              -              -\n",
      "        latitude                         -              x              -\n",
      "        longitude                        -              -              x\n",
      "    Attributes:\n",
      "        CDI                         'Climate Data Interface version 2.0.5 (https://mpimet.mpg.de/cdi)'\n",
      "        CDO                         'Climate Data Operators version 2.0.5 (https://mpimet.mpg.de/cdo)'\n",
      "        Conventions                 'CF-1.6'\n",
      "        code                        228\n",
      "        history                     'Wed Feb 28 10:56:43 2024: cdo -O -s -remapbil,/home/users/benhutch/gridspec/gridspec-global.txt ...'\n",
      "        institution                 'European Centre for Medium-Range Weather Forecasts'\n",
      "        table                       128\n",
      "Time dimension of obs: ['1960-12-31T00:00:00.000000000' '1961-12-31T00:00:00.000000000'\n",
      " '1962-12-31T00:00:00.000000000' '1963-12-31T00:00:00.000000000'\n",
      " '1964-12-31T00:00:00.000000000' '1965-12-31T00:00:00.000000000'\n",
      " '1966-12-31T00:00:00.000000000' '1967-12-31T00:00:00.000000000'\n",
      " '1968-12-31T00:00:00.000000000' '1969-12-31T00:00:00.000000000'\n",
      " '1970-12-31T00:00:00.000000000' '1971-12-31T00:00:00.000000000'\n",
      " '1972-12-31T00:00:00.000000000' '1973-12-31T00:00:00.000000000'\n",
      " '1974-12-31T00:00:00.000000000' '1975-12-31T00:00:00.000000000'\n",
      " '1976-12-31T00:00:00.000000000' '1977-12-31T00:00:00.000000000'\n",
      " '1978-12-31T00:00:00.000000000' '1979-12-31T00:00:00.000000000'\n",
      " '1980-12-31T00:00:00.000000000' '1981-12-31T00:00:00.000000000'\n",
      " '1982-12-31T00:00:00.000000000' '1983-12-31T00:00:00.000000000'\n",
      " '1984-12-31T00:00:00.000000000' '1985-12-31T00:00:00.000000000'\n",
      " '1986-12-31T00:00:00.000000000' '1987-12-31T00:00:00.000000000'\n",
      " '1988-12-31T00:00:00.000000000' '1989-12-31T00:00:00.000000000'\n",
      " '1990-12-31T00:00:00.000000000' '1991-12-31T00:00:00.000000000'\n",
      " '1992-12-31T00:00:00.000000000' '1993-12-31T00:00:00.000000000'\n",
      " '1994-12-31T00:00:00.000000000' '1995-12-31T00:00:00.000000000'\n",
      " '1996-12-31T00:00:00.000000000' '1997-12-31T00:00:00.000000000'\n",
      " '1998-12-31T00:00:00.000000000' '1999-12-31T00:00:00.000000000'\n",
      " '2000-12-31T00:00:00.000000000' '2001-12-31T00:00:00.000000000'\n",
      " '2002-12-31T00:00:00.000000000' '2003-12-31T00:00:00.000000000'\n",
      " '2004-12-31T00:00:00.000000000' '2005-12-31T00:00:00.000000000'\n",
      " '2006-12-31T00:00:00.000000000' '2007-12-31T00:00:00.000000000'\n",
      " '2008-12-31T00:00:00.000000000' '2009-12-31T00:00:00.000000000'\n",
      " '2010-12-31T00:00:00.000000000' '2011-12-31T00:00:00.000000000'\n",
      " '2012-12-31T00:00:00.000000000' '2013-12-31T00:00:00.000000000'\n",
      " '2014-12-31T00:00:00.000000000' '2015-12-31T00:00:00.000000000'\n",
      " '2016-12-31T00:00:00.000000000' '2017-12-31T00:00:00.000000000'\n",
      " '2018-12-31T00:00:00.000000000' '2019-12-31T00:00:00.000000000'\n",
      " '2020-12-31T00:00:00.000000000' '2021-12-31T00:00:00.000000000'\n",
      " '2022-12-31T00:00:00.000000000' '2023-12-31T00:00:00.000000000']\n"
     ]
    },
    {
     "name": "stderr",
     "output_type": "stream",
     "text": [
      "/home/users/benhutch/.local/lib/python3.10/site-packages/iris/coords.py:2237: UserWarning: Cannot check if coordinate is contiguous: Invalid operation for 'time', with 0 bound(s). Contiguous bounds are only defined for 1D coordinates with 2 bounds. Metadata may not be fully descriptive for 'time'. Ignoring bounds.\n",
      "  warnings.warn(msg.format(str(exc), self.name()))\n",
      "/home/users/benhutch/.local/lib/python3.10/site-packages/iris/coords.py:2237: UserWarning: Cannot check if coordinate is contiguous: Invalid operation for 'time', with 0 bound(s). Contiguous bounds are only defined for 1D coordinates with 2 bounds. Metadata may not be fully descriptive for 'time'. Ignoring bounds.\n",
      "  warnings.warn(msg.format(str(exc), self.name()))\n",
      "/home/users/benhutch/.local/lib/python3.10/site-packages/xarray/core/groupby.py:509: FutureWarning: 'Y' is deprecated and will be removed in a future version, please use 'YE' instead.\n",
      "  index_grouper = pd.Grouper(\n",
      "/home/users/benhutch/.local/lib/python3.10/site-packages/xarray/core/groupby.py:509: FutureWarning: 'Y' is deprecated and will be removed in a future version, please use 'YE' instead.\n",
      "  index_grouper = pd.Grouper(\n"
     ]
    },
    {
     "name": "stdout",
     "output_type": "stream",
     "text": [
      "Time dimension of obs: ['1960-12-31T00:00:00.000000000' '1961-12-31T00:00:00.000000000'\n",
      " '1962-12-31T00:00:00.000000000' '1963-12-31T00:00:00.000000000'\n",
      " '1964-12-31T00:00:00.000000000' '1965-12-31T00:00:00.000000000'\n",
      " '1966-12-31T00:00:00.000000000' '1967-12-31T00:00:00.000000000'\n",
      " '1968-12-31T00:00:00.000000000' '1969-12-31T00:00:00.000000000'\n",
      " '1970-12-31T00:00:00.000000000' '1971-12-31T00:00:00.000000000'\n",
      " '1972-12-31T00:00:00.000000000' '1973-12-31T00:00:00.000000000'\n",
      " '1974-12-31T00:00:00.000000000' '1975-12-31T00:00:00.000000000'\n",
      " '1976-12-31T00:00:00.000000000' '1977-12-31T00:00:00.000000000'\n",
      " '1978-12-31T00:00:00.000000000' '1979-12-31T00:00:00.000000000'\n",
      " '1980-12-31T00:00:00.000000000' '1981-12-31T00:00:00.000000000'\n",
      " '1982-12-31T00:00:00.000000000' '1983-12-31T00:00:00.000000000'\n",
      " '1984-12-31T00:00:00.000000000' '1985-12-31T00:00:00.000000000'\n",
      " '1986-12-31T00:00:00.000000000' '1987-12-31T00:00:00.000000000'\n",
      " '1988-12-31T00:00:00.000000000' '1989-12-31T00:00:00.000000000'\n",
      " '1990-12-31T00:00:00.000000000' '1991-12-31T00:00:00.000000000'\n",
      " '1992-12-31T00:00:00.000000000' '1993-12-31T00:00:00.000000000'\n",
      " '1994-12-31T00:00:00.000000000' '1995-12-31T00:00:00.000000000'\n",
      " '1996-12-31T00:00:00.000000000' '1997-12-31T00:00:00.000000000'\n",
      " '1998-12-31T00:00:00.000000000' '1999-12-31T00:00:00.000000000'\n",
      " '2000-12-31T00:00:00.000000000' '2001-12-31T00:00:00.000000000'\n",
      " '2002-12-31T00:00:00.000000000' '2003-12-31T00:00:00.000000000'\n",
      " '2004-12-31T00:00:00.000000000' '2005-12-31T00:00:00.000000000'\n",
      " '2006-12-31T00:00:00.000000000' '2007-12-31T00:00:00.000000000'\n",
      " '2008-12-31T00:00:00.000000000' '2009-12-31T00:00:00.000000000'\n",
      " '2010-12-31T00:00:00.000000000' '2011-12-31T00:00:00.000000000'\n",
      " '2012-12-31T00:00:00.000000000' '2013-12-31T00:00:00.000000000'\n",
      " '2014-12-31T00:00:00.000000000' '2015-12-31T00:00:00.000000000'\n",
      " '2016-12-31T00:00:00.000000000' '2017-12-31T00:00:00.000000000'\n",
      " '2018-12-31T00:00:00.000000000' '2019-12-31T00:00:00.000000000'\n",
      " '2020-12-31T00:00:00.000000000' '2021-12-31T00:00:00.000000000'\n",
      " '2022-12-31T00:00:00.000000000' '2023-12-31T00:00:00.000000000']\n",
      "len(psl_anom.time):  64\n",
      "len(corr_var_anom.time):  64\n",
      "n_invalid_years:  4.0\n",
      "type of psl_anom:  <class 'xarray.core.dataarray.DataArray'>\n",
      "type of corr_var_anom:  <class 'xarray.core.dataarray.DataArray'>\n"
     ]
    }
   ],
   "source": [
    "# Calculate the stats for the precipitation\n",
    "stats_dict_pr = funcs_em.calc_nao_spatial_corr(\n",
    "    season=\"ONDJFM\",\n",
    "    forecast_range=\"2-9\",\n",
    "    start_year=1960,\n",
    "    end_year=2023,\n",
    "    corr_var=\"var228\",\n",
    "    corr_var_obs_file=dicts.regrid_file_pr,\n",
    "    nao_n_grid=dicts.uk_n_box_corrected,\n",
    "    nao_s_grid=dicts.uk_s_box_corrected,\n",
    ")"
   ]
  },
  {
   "cell_type": "code",
   "execution_count": 26,
   "metadata": {},
   "outputs": [
    {
     "name": "stderr",
     "output_type": "stream",
     "text": [
      "100%|██████████| 72/72 [00:00<00:00, 83.04it/s]\n"
     ]
    }
   ],
   "source": [
    "corr_tas, pval_tas = funcs_em.calculate_correlation_and_pvalue(\n",
    "    stats_dict = stats_dict_tas,\n",
    ")"
   ]
  },
  {
   "cell_type": "code",
   "execution_count": 27,
   "metadata": {},
   "outputs": [
    {
     "name": "stderr",
     "output_type": "stream",
     "text": [
      "100%|██████████| 72/72 [00:00<00:00, 83.29it/s]\n"
     ]
    }
   ],
   "source": [
    "# Same for sfcwind\n",
    "corr_sfcWind, pval_sfcWind = funcs_em.calculate_correlation_and_pvalue(\n",
    "    stats_dict = stats_dict_sfcWind,\n",
    ")"
   ]
  },
  {
   "cell_type": "code",
   "execution_count": 28,
   "metadata": {},
   "outputs": [
    {
     "name": "stderr",
     "output_type": "stream",
     "text": [
      "  0%|          | 0/72 [00:00<?, ?it/s]"
     ]
    },
    {
     "name": "stderr",
     "output_type": "stream",
     "text": [
      "100%|██████████| 72/72 [00:01<00:00, 70.71it/s]\n"
     ]
    }
   ],
   "source": [
    "# Same for rsds\n",
    "corr_rsds, pval_rsds = funcs_em.calculate_correlation_and_pvalue(\n",
    "    stats_dict = stats_dict_rsds,\n",
    ")"
   ]
  },
  {
   "cell_type": "code",
   "execution_count": 29,
   "metadata": {},
   "outputs": [
    {
     "name": "stderr",
     "output_type": "stream",
     "text": [
      " 11%|█         | 8/72 [00:00<00:00, 76.15it/s]"
     ]
    },
    {
     "name": "stderr",
     "output_type": "stream",
     "text": [
      "100%|██████████| 72/72 [00:00<00:00, 76.20it/s]\n"
     ]
    }
   ],
   "source": [
    "# same for pr\n",
    "corr_pr, pval_pr = funcs_em.calculate_correlation_and_pvalue(\n",
    "    stats_dict = stats_dict_pr,\n",
    ")"
   ]
  },
  {
   "cell_type": "code",
   "execution_count": 30,
   "metadata": {},
   "outputs": [],
   "source": [
    "# # Extract the nao index\n",
    "# nao = stats_dict_[\"nao\"]\n",
    "\n",
    "# # extract ua 850\n",
    "# corr_var_ts_u850 = stats_dict_[\"corr_var_ts\"]\n",
    "\n",
    "# # # Extract the corr var anomalies\n",
    "# # corr_var_ts_wind = stats_dict_wind[\"corr_var_ts\"]\n",
    "\n",
    "# # # Extract the corr var anomalies\n",
    "# # corr_var_ts_precip = stats_dict_precip[\"corr_var_ts\"]"
   ]
  },
  {
   "cell_type": "code",
   "execution_count": 31,
   "metadata": {},
   "outputs": [],
   "source": [
    "# # Plot the nao index\n",
    "# plt.plot(nao)"
   ]
  },
  {
   "cell_type": "code",
   "execution_count": 32,
   "metadata": {},
   "outputs": [],
   "source": [
    "# # Plot the scatter plot\n",
    "# df = funcs_em.plot_scatter_obs(\n",
    "#     index=nao,\n",
    "#     variable=corr_var_ts,\n",
    "#     lats=stats_dict[\"lats\"],\n",
    "#     lons=stats_dict[\"lons\"],\n",
    "#     index_name=\"delta p\",\n",
    "#     variable_name=\"pr\",\n",
    "#     plot_gridbox=dicts.scandi_box,\n",
    "#     title=\"Obs delta P vs precip. Scandinavia\",\n",
    "#     show_eqn=True,\n",
    "# )"
   ]
  },
  {
   "cell_type": "code",
   "execution_count": 33,
   "metadata": {},
   "outputs": [],
   "source": [
    "# pd.set_option(\"display.float_format\", \"{:.10f}\".format)\n",
    "\n",
    "# df.slope"
   ]
  },
  {
   "cell_type": "code",
   "execution_count": 34,
   "metadata": {},
   "outputs": [],
   "source": [
    "# # Set up a filename for the dataframe\n",
    "# dir = \"/home/users/benhutch/energy-met-corr/coeffs\"\n",
    "\n",
    "# # If the directory does not exist, create it\n",
    "# if not os.path.exists(dir):\n",
    "#     os.makedirs(dir)\n",
    "\n",
    "# # Set up the filename\n",
    "# filename = os.path.join(dir, \"delta_p_pr_scandi_slope.csv\")\n",
    "\n",
    "# # Save the dataframe\n",
    "# df.to_csv(filename)"
   ]
  },
  {
   "cell_type": "code",
   "execution_count": 35,
   "metadata": {},
   "outputs": [],
   "source": [
    "# # Extract the nao index\n",
    "# nao = stats_dict_[\"nao\"]\n",
    "\n",
    "# # extract ua 850\n",
    "# corr_var_ts_u850 = stats_dict_[\"corr_var_ts\"]\n",
    "\n",
    "# # Create an empty array with the correct shape\n",
    "# corr_array_ua = np.empty(\n",
    "#     [corr_var_ts_u850.shape[1], corr_var_ts_u850.shape[2]]\n",
    "# )  # lat  # lon\n",
    "\n",
    "# # Same for the p-values\n",
    "# pval_array_ua = np.empty(\n",
    "#     [corr_var_ts_u850.shape[1], corr_var_ts_u850.shape[2]]\n",
    "# )  # lat  # lon\n",
    "\n",
    "# # Loop over the lats\n",
    "# for lat in tqdm(range(corr_var_ts_u850.shape[1])):\n",
    "#     # Loop over the lons\n",
    "#     for lon in range(corr_var_ts_u850.shape[2]):\n",
    "#         # Extract the corr_var_ts_u850 for the lat and lon\n",
    "#         corr_var_anom_values_lat_lon = corr_var_ts_u850[:, lat, lon]\n",
    "\n",
    "#         # Replace NaNs with 0\n",
    "#         corr_var_anom_values_lat_lon = np.nan_to_num(\n",
    "#             corr_var_anom_values_lat_lon, nan=0\n",
    "#         )\n",
    "\n",
    "#         # Calculate the correlation\n",
    "#         corr, pval = pearsonr(nao, corr_var_anom_values_lat_lon)\n",
    "\n",
    "#         # Assign the correlation to the array\n",
    "#         corr_array_ua[lat, lon] = corr\n",
    "\n",
    "#         # Assign the p-value to the array\n",
    "#         pval_array_ua[lat, lon] = pval\n",
    "\n",
    "# # Print the shape of the corr_array\n",
    "# print(\"shape of corr_array: \", corr_array_ua.shape)\n",
    "# print(\"shape of pval_array: \", pval_array_ua.shape)"
   ]
  },
  {
   "cell_type": "code",
   "execution_count": 36,
   "metadata": {},
   "outputs": [],
   "source": [
    "# # DO the same thing for the precipitation\n",
    "# corr_array_precip = np.empty([corr_var_ts_precip.shape[1], corr_var_ts_precip.shape[2]])\n",
    "\n",
    "# # Same for the p-values\n",
    "# pval_array_precip = np.empty([corr_var_ts_precip.shape[1], corr_var_ts_precip.shape[2]])\n",
    "\n",
    "# # Loop over the lats\n",
    "# for lat in tqdm(range(corr_var_ts_precip.shape[1])):\n",
    "#     # Loop over the lons\n",
    "#     for lon in range(corr_var_ts_precip.shape[2]):\n",
    "#         # Extract the corr_var_ts_wind for the lat and lon\n",
    "#         corr_var_anom_values_lat_lon = corr_var_ts_precip[:, lat, lon]\n",
    "\n",
    "#         # Replace NaNs with 0\n",
    "#         corr_var_anom_values_lat_lon = np.nan_to_num(\n",
    "#             corr_var_anom_values_lat_lon, nan=0\n",
    "#         )\n",
    "\n",
    "#         # Calculate the correlation\n",
    "#         corr, pval = pearsonr(nao, corr_var_anom_values_lat_lon)\n",
    "\n",
    "#         # Assign the correlation to the array\n",
    "#         corr_array_precip[lat, lon] = corr\n",
    "\n",
    "#         # Assign the p-value to the array\n",
    "#         pval_array_precip[lat, lon] = pval\n",
    "\n",
    "# # Print the shape of the corr_array\n",
    "# print(\"shape of corr_array: \", corr_array_precip.shape)\n",
    "# print(\"shape of pval_array: \", pval_array_precip.shape)"
   ]
  },
  {
   "cell_type": "code",
   "execution_count": 37,
   "metadata": {},
   "outputs": [],
   "source": [
    "# # Test the function with the wind stuff\n",
    "# funcs_em.plot_corr(\n",
    "#     corr_array=corr_array_ua,\n",
    "#     pval_array=pval_array_ua,\n",
    "#     lats=stats_dict_[\"lats\"],\n",
    "#     lons=stats_dict_[\"lons\"],\n",
    "#     variable=\"t2m\",\n",
    "#     sig_threshold=0.05,\n",
    "#     plot_gridbox=[dicts.northern_europe_grid],\n",
    "#     nao=stats_dict_[\"nao\"],\n",
    "#     corr_var_ts=stats_dict_[\"corr_var_ts\"],\n",
    "# )"
   ]
  },
  {
   "cell_type": "code",
   "execution_count": 38,
   "metadata": {},
   "outputs": [
    {
     "data": {
      "text/plain": [
       "<module 'functions_em' from '/home/users/benhutch/energy-met-corr-functions/functions_em.py'>"
      ]
     },
     "execution_count": 38,
     "metadata": {},
     "output_type": "execute_result"
    }
   ],
   "source": [
    "import importlib\n",
    "\n",
    "importlib.reload(funcs_em)"
   ]
  },
  {
   "cell_type": "code",
   "execution_count": 39,
   "metadata": {},
   "outputs": [],
   "source": [
    "# Form the lists\n",
    "corr_arrays = [\n",
    "    corr_tas,\n",
    "    corr_sfcWind,\n",
    "    corr_rsds,\n",
    "    corr_pr,\n",
    "]\n",
    "pval_arrays = [\n",
    "    pval_tas,\n",
    "    pval_sfcWind,\n",
    "    pval_rsds,\n",
    "    pval_pr,\n",
    "]\n",
    "\n",
    "# corr_var_ts\n",
    "corr_var_ts = [\n",
    "    stats_dict_tas[\"corr_var_ts\"],\n",
    "    stats_dict_sfcWind[\"corr_var_ts\"],\n",
    "    stats_dict_rsds[\"corr_var_ts\"],\n",
    "    stats_dict_pr[\"corr_var_ts\"],\n",
    "]\n",
    "\n",
    "# List of variables\n",
    "variables = [\n",
    "    \"tas\",\n",
    "    \"sfcWind\",\n",
    "    \"rsds\",\n",
    "    \"pr\",\n",
    "]\n",
    "\n",
    "# List of fig labels\n",
    "fig_labels = [\n",
    "    \"a\",\n",
    "    \"b\",\n",
    "    \"c\",\n",
    "    \"d\",\n",
    "]\n",
    "\n",
    "# Plot_gribdox\n",
    "plot_gridboxes = [\n",
    "    dicts_sm.uk_grid,\n",
    "    dicts_sm.north_sea_kay,\n",
    "    dicts_sm.med_box_focus,\n",
    "    dicts_sm.scandi_box,\n",
    "]"
   ]
  },
  {
   "cell_type": "code",
   "execution_count": 40,
   "metadata": {},
   "outputs": [
    {
     "data": {
      "text/plain": [
       "<module 'functions_em' from '/home/users/benhutch/energy-met-corr-functions/functions_em.py'>"
      ]
     },
     "execution_count": 40,
     "metadata": {},
     "output_type": "execute_result"
    }
   ],
   "source": [
    "import importlib\n",
    "\n",
    "importlib.reload(funcs_em)"
   ]
  },
  {
   "cell_type": "code",
   "execution_count": 41,
   "metadata": {},
   "outputs": [
    {
     "name": "stdout",
     "output_type": "stream",
     "text": [
      "fig:  Figure(720x576)\n",
      "fig:  Figure(720x576)\n",
      "cf:  <cartopy.mpl.contour.GeoContourSet object at 0x7f5678218d30>\n",
      "axs:  [<GeoAxesSubplot:> <GeoAxesSubplot:> <GeoAxesSubplot:> <GeoAxesSubplot:>]\n",
      "type(axs):  <class 'numpy.ndarray'>\n",
      "type(axes):  <class 'list'>\n",
      "type(cf_list):  <class 'list'>\n"
     ]
    },
    {
     "data": {
      "image/png": "[encoded data removed]",
      "text/plain": [
       "<Figure size 720x576 with 5 Axes>"
      ]
     },
     "metadata": {
      "needs_background": "light"
     },
     "output_type": "display_data"
    }
   ],
   "source": [
    "# Test the subplots functions\n",
    "funcs_em.plot_corr_subplots(\n",
    "    corr_arrays=corr_arrays,\n",
    "    pval_arrays=pval_arrays,\n",
    "    lats=stats_dict_tas[\"lats\"],\n",
    "    lons=stats_dict_tas[\"lons\"],\n",
    "    variables=variables,\n",
    "    sig_threshold=0.05,\n",
    "    plot_gridbox=plot_gridboxes,\n",
    "    nao=stats_dict_tas[\"nao\"],\n",
    "    corr_var_ts=corr_var_ts,\n",
    "    figsize_x=10,\n",
    "    figsize_y=8,\n",
    "    save_dpi=1000,\n",
    "    fig_labels=fig_labels,\n",
    "    fontsize=10,\n",
    "    w_space=0.05,\n",
    "    h_space=0.05,\n",
    ")"
   ]
  }
 ],
 "metadata": {
  "kernelspec": {
   "display_name": "Python 3",
   "language": "python",
   "name": "python3"
  },
  "language_info": {
   "codemirror_mode": {
    "name": "ipython",
    "version": 3
   },
   "file_extension": ".py",
   "mimetype": "text/x-python",
   "name": "python",
   "nbconvert_exporter": "python",
   "pygments_lexer": "ipython3",
   "version": "3.10.5"
  }
 },
 "nbformat": 4,
 "nbformat_minor": 4
}
