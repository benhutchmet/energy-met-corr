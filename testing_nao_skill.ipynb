{
 "cells": [
  {
   "cell_type": "markdown",
   "metadata": {},
   "source": [
    "### NAO correlations with energy variables ###\n",
    "\n",
    "Exploring how well the NAO correlates with energy variables on seasonal to decadal timescales during the winter (ONDJFM, DJFM, or DJF). Using the following datasets:\n",
    "\n",
    "* CLEARHEADS - ERA5-derived energy time series, includes offshore wind in EEZs and Heating Degree Days.\n",
    "* ERA5 - reanalysis product for deriving the NAO indices at different timescales.\n",
    "* ENTSO-E - shorter observed time series of capacity factors and other energy variables. For ground truthing the CLEARHEADS data above."
   ]
  },
  {
   "cell_type": "code",
   "execution_count": 1,
   "metadata": {},
   "outputs": [],
   "source": [
    "# -*- coding: utf-8 -*-\n",
    "%matplotlib inline\n",
    "%load_ext autoreload\n",
    "%autoreload 2\n",
    "\n",
    "# Import local modules\n",
    "import sys\n",
    "import os\n",
    "import glob\n",
    "\n",
    "# Import third-party modules\n",
    "import numpy as np\n",
    "import pandas as pd\n",
    "import matplotlib.pyplot as plt\n",
    "import xarray as xr\n",
    "import iris\n",
    "import cartopy.crs as ccrs\n",
    "import cartopy.feature as cfeature\n",
    "import cdsapi\n",
    "import xesmf as xe\n",
    "from datetime import datetime\n",
    "from tqdm import tqdm\n",
    "from scipy.stats import pearsonr"
   ]
  },
  {
   "cell_type": "code",
   "execution_count": 2,
   "metadata": {},
   "outputs": [],
   "source": [
    "# Import the local functions\n",
    "import functions_em as funcs_em"
   ]
  },
  {
   "cell_type": "code",
   "execution_count": 3,
   "metadata": {},
   "outputs": [],
   "source": [
    "sys.path.append(\"/home/users/benhutch/energy-met-corr\")\n",
    "import dictionaries_em as dicts\n",
    "\n",
    "sys.path.append(\"/home/users/benhutch/skill-maps/python\")\n",
    "import functions as fnc"
   ]
  },
  {
   "cell_type": "markdown",
   "metadata": {},
   "source": [
    "### Testing scatter functions ###"
   ]
  },
  {
   "cell_type": "code",
   "execution_count": 4,
   "metadata": {},
   "outputs": [],
   "source": [
    "#/gws/nopw/j04/canari/users/benhutch/alternate-lag-processed-data/tas_ONDJFM_global_1961_2014_2-9_4_20_1709338673.215247_nao_matched_members.npy\n",
    "\n",
    "\n",
    "# Dictionary for predictor var\n",
    "pred_var_dict = {\n",
    "    \"lag\": 4,\n",
    "    \"alt_lag\": \"nao_matched\",\n",
    "    \"method\": \"nao_matched\",\n",
    "    \"region\": \"global\",\n",
    "}"
   ]
  },
  {
   "cell_type": "code",
   "execution_count": 5,
   "metadata": {},
   "outputs": [
    {
     "name": "stdout",
     "output_type": "stream",
     "text": [
      "The region is a dictionary.\n",
      "Extracting the lats and lons from the region dictionary.\n",
      "The predictor variable is not the NAO index.\n",
      "Extracting the predictor variable from the predictor variable file.\n",
      "Loading the nao matched data\n",
      "More than one file found\n",
      "Using the latest datetime file: /gws/nopw/j04/canari/users/benhutch/alternate-lag-processed-data/sfcWind_ONDJFM_global_1961_2014_2-9_4_20_1709332379.3200548_nao_matched_members.npy\n",
      "Shape of the data: (20, 51, 72, 144)\n"
     ]
    },
    {
     "name": "stderr",
     "output_type": "stream",
     "text": [
      "/home/users/benhutch/.local/lib/python3.10/site-packages/iris/coords.py:2237: UserWarning: Cannot check if coordinate is contiguous: Invalid operation for 'time', with 0 bound(s). Contiguous bounds are only defined for 1D coordinates with 2 bounds. Metadata may not be fully descriptive for 'time'. Ignoring bounds.\n",
      "  warnings.warn(msg.format(str(exc), self.name()))\n"
     ]
    },
    {
     "name": "stdout",
     "output_type": "stream",
     "text": [
      "Time dimension of obs: ['1960-12-31T00:00:00.000000000' '1961-12-31T00:00:00.000000000'\n",
      " '1962-12-31T00:00:00.000000000' '1963-12-31T00:00:00.000000000'\n",
      " '1964-12-31T00:00:00.000000000' '1965-12-31T00:00:00.000000000'\n",
      " '1966-12-31T00:00:00.000000000' '1967-12-31T00:00:00.000000000'\n",
      " '1968-12-31T00:00:00.000000000' '1969-12-31T00:00:00.000000000'\n",
      " '1970-12-31T00:00:00.000000000' '1971-12-31T00:00:00.000000000'\n",
      " '1972-12-31T00:00:00.000000000' '1973-12-31T00:00:00.000000000'\n",
      " '1974-12-31T00:00:00.000000000' '1975-12-31T00:00:00.000000000'\n",
      " '1976-12-31T00:00:00.000000000' '1977-12-31T00:00:00.000000000'\n",
      " '1978-12-31T00:00:00.000000000' '1979-12-31T00:00:00.000000000'\n",
      " '1980-12-31T00:00:00.000000000' '1981-12-31T00:00:00.000000000'\n",
      " '1982-12-31T00:00:00.000000000' '1983-12-31T00:00:00.000000000'\n",
      " '1984-12-31T00:00:00.000000000' '1985-12-31T00:00:00.000000000'\n",
      " '1986-12-31T00:00:00.000000000' '1987-12-31T00:00:00.000000000'\n",
      " '1988-12-31T00:00:00.000000000' '1989-12-31T00:00:00.000000000'\n",
      " '1990-12-31T00:00:00.000000000' '1991-12-31T00:00:00.000000000'\n",
      " '1992-12-31T00:00:00.000000000' '1993-12-31T00:00:00.000000000'\n",
      " '1994-12-31T00:00:00.000000000' '1995-12-31T00:00:00.000000000'\n",
      " '1996-12-31T00:00:00.000000000' '1997-12-31T00:00:00.000000000'\n",
      " '1998-12-31T00:00:00.000000000' '1999-12-31T00:00:00.000000000'\n",
      " '2000-12-31T00:00:00.000000000' '2001-12-31T00:00:00.000000000'\n",
      " '2002-12-31T00:00:00.000000000' '2003-12-31T00:00:00.000000000'\n",
      " '2004-12-31T00:00:00.000000000' '2005-12-31T00:00:00.000000000'\n",
      " '2006-12-31T00:00:00.000000000' '2007-12-31T00:00:00.000000000'\n",
      " '2008-12-31T00:00:00.000000000' '2009-12-31T00:00:00.000000000'\n",
      " '2010-12-31T00:00:00.000000000' '2011-12-31T00:00:00.000000000'\n",
      " '2012-12-31T00:00:00.000000000' '2013-12-31T00:00:00.000000000'\n",
      " '2014-12-31T00:00:00.000000000' '2015-12-31T00:00:00.000000000'\n",
      " '2016-12-31T00:00:00.000000000' '2017-12-31T00:00:00.000000000'\n",
      " '2018-12-31T00:00:00.000000000' '2019-12-31T00:00:00.000000000'\n",
      " '2020-12-31T00:00:00.000000000' '2021-12-31T00:00:00.000000000'\n",
      " '2022-12-31T00:00:00.000000000' '2023-12-31T00:00:00.000000000']\n",
      "Processing the alt_lag data\n",
      "alt_lag_first_year = 1969\n",
      "alt_lag_last_year = 2019\n",
      "obs_anoms.shape = (51,)\n",
      "data.shape = (20, 51, 72, 144)\n",
      "obs_anoms.shape = (51,)\n",
      "len valid_years = 51\n",
      "modified model data.shape = (20, 51, 72, 144)\n",
      "model data members.shape = (20, 51)\n"
     ]
    }
   ],
   "source": [
    "# test the function for loading the scatter data\n",
    "dict = funcs_em.process_data_for_scatter(\n",
    "    season=\"ONDJFM\",\n",
    "    forecast_range=\"2-9\",\n",
    "    start_year=1961,\n",
    "    end_year=2014,\n",
    "    predictor_var=\"sfcWind\",\n",
    "    predictor_var_dict=pred_var_dict,\n",
    "    predictand_var=\"sfcWind\",\n",
    "    predictand_var_file=dicts.regrid_file,\n",
    "    region=dicts.uk_grid,\n",
    "    region_name=\"uk\",\n",
    ")"
   ]
  },
  {
   "cell_type": "code",
   "execution_count": 6,
   "metadata": {},
   "outputs": [
    {
     "name": "stdout",
     "output_type": "stream",
     "text": [
      "predictor_var\n",
      "predictand_var\n",
      "season\n",
      "forecast_range\n",
      "start_year\n",
      "end_year\n",
      "quantiles\n",
      "region\n",
      "predictor_var_ts\n",
      "predictand_var_ts\n",
      "rval\n",
      "pval\n",
      "slope\n",
      "intercept\n",
      "std_err\n",
      "first_quantile_0.75\n",
      "second_quantile_0.95\n",
      "init_years\n",
      "valid_years\n",
      "nens\n",
      "ts_corr\n",
      "ts_pval\n",
      "ts_rpc\n",
      "ts_rps\n",
      "lag\n",
      "gridbox\n",
      "gridbox_name\n",
      "method\n"
     ]
    }
   ],
   "source": [
    "# Loop over dict and print the keys\n",
    "for key in dict.keys():\n",
    "    print(key)"
   ]
  },
  {
   "cell_type": "code",
   "execution_count": 19,
   "metadata": {},
   "outputs": [
    {
     "data": {
      "image/png": "[encoded data removed]",
      "text/plain": [
       "<Figure size 720x360 with 1 Axes>"
      ]
     },
     "metadata": {
      "needs_background": "light"
     },
     "output_type": "display_data"
    }
   ],
   "source": [
    "# Plot the scatter data\n",
    "funcs_em.plot_scatter(\n",
    "    scatter_dict=dict,\n",
    ")"
   ]
  },
  {
   "cell_type": "markdown",
   "metadata": {},
   "source": [
    "### Downloading ERA5 data ###\n",
    "\n",
    "For calculating the NAO index, we want to query the CDS API for ERA5 data:\n",
    "\n",
    "* From 1950-2023\n",
    "* For ONDJFM\n",
    "* Monthly-means\n",
    "\n",
    "*Note - this data should be regridded before comparison with the CLEARHEADS/ENTSO-E data*"
   ]
  },
  {
   "cell_type": "code",
   "execution_count": null,
   "metadata": {},
   "outputs": [],
   "source": [
    "# # Set up a new client\n",
    "# c = cdsapi.Client()"
   ]
  },
  {
   "cell_type": "code",
   "execution_count": null,
   "metadata": {},
   "outputs": [],
   "source": [
    "# # Set up the dictionary for the ERA5 request\n",
    "# era5_request_dict = {\n",
    "#     'variable': 'mean_sea_level_pressure',\n",
    "#     'product_type': 'monthly_averaged_reanalysis',\n",
    "#     'year': [x for x in map(str, range(1950, 2023))],\n",
    "#     'month': [1, 2, 3, 10, 11, 12],\n",
    "#     'format': 'netcdf',\n",
    "#     'time': '00:00'\n",
    "# }\n",
    "\n",
    "# # Print the request dictionary\n",
    "# print(era5_request_dict)"
   ]
  },
  {
   "cell_type": "code",
   "execution_count": null,
   "metadata": {},
   "outputs": [],
   "source": [
    "# # Set up the target directory\n",
    "# target_dir = '/gws/nopw/j04/canari/users/benhutch/ERA5'\n",
    "\n",
    "# # Assert that the target directory exists\n",
    "# assert os.path.exists(target_dir)\n",
    "\n",
    "# # Assert that the target directory is not empty\n",
    "# assert len(os.listdir(target_dir)) > 0\n",
    "\n",
    "# # Set up the target file\n",
    "# target_file = os.path.join(target_dir, 'era5_mslp_monthly_1950_2022_ONDJFM.nc')\n",
    "\n",
    "# # Print the target file\n",
    "# print(target_file)\n",
    "\n",
    "# # If the target file does not exist, download the data\n",
    "# if not os.path.exists(target_file):\n",
    "#     c.retrieve(\n",
    "#         'reanalysis-era5-single-levels',\n",
    "#         era5_request_dict,\n",
    "#         target_file)\n",
    "# else:\n",
    "#     print('The target file already exists: {}'.format(target_file))"
   ]
  },
  {
   "cell_type": "markdown",
   "metadata": {},
   "source": [
    "Now we want to plot the observed spatial correlations between the NAO and 10m wind speeds and precipitation."
   ]
  },
  {
   "cell_type": "code",
   "execution_count": null,
   "metadata": {},
   "outputs": [],
   "source": [
    "# Test this function\n",
    "stats_dict = funcs_em.calc_nao_spatial_corr(\n",
    "    season=\"ONDJFM\",\n",
    "    forecast_range=\"2-9\",\n",
    "    start_year=1960,\n",
    "    end_year=2014,\n",
    "    corr_var=\"pr\",\n",
    ")"
   ]
  },
  {
   "cell_type": "code",
   "execution_count": null,
   "metadata": {},
   "outputs": [],
   "source": [
    "# Extract the nao index\n",
    "nao = stats_dict[\"nao\"]\n",
    "\n",
    "# Extract the corr var anomalies\n",
    "corr_var_ts = stats_dict[\"corr_var_ts\"]"
   ]
  },
  {
   "cell_type": "code",
   "execution_count": null,
   "metadata": {},
   "outputs": [],
   "source": [
    "# Plot the nao index\n",
    "plt.plot(nao)"
   ]
  },
  {
   "cell_type": "code",
   "execution_count": null,
   "metadata": {},
   "outputs": [],
   "source": [
    "# Create an empty array with the correct shape\n",
    "corr_array = np.empty([corr_var_ts.shape[1], # lat\n",
    "                          corr_var_ts.shape[2]]) # lon\n",
    "\n",
    "# Same for the p-values\n",
    "pval_array = np.empty([corr_var_ts.shape[1], # lat\n",
    "                          corr_var_ts.shape[2]]) # lon\n",
    "\n",
    "# Loop over the lats\n",
    "for lat in tqdm(range(corr_var_ts.shape[1])):\n",
    "    # Loop over the lons\n",
    "    for lon in range(corr_var_ts.shape[2]):\n",
    "         # Extract the corr_var_ts for the lat and lon\n",
    "         corr_var_anom_values_lat_lon = corr_var_ts[:, lat, lon]\n",
    "\n",
    "         # Replace NaNs with 0\n",
    "         corr_var_anom_values_lat_lon = np.nan_to_num(corr_var_anom_values_lat_lon, nan=0)\n",
    "\n",
    "         # Calculate the correlation\n",
    "         corr, pval = pearsonr(nao, corr_var_anom_values_lat_lon)\n",
    "\n",
    "         # Assign the correlation to the array\n",
    "         corr_array[lat, lon] = corr\n",
    "\n",
    "         # Assign the p-value to the array\n",
    "         pval_array[lat, lon] = pval\n",
    "\n",
    "# Print the shape of the corr_array\n",
    "print(\"shape of corr_array: \", corr_array.shape)\n",
    "print(\"shape of pval_array: \", pval_array.shape)"
   ]
  },
  {
   "cell_type": "code",
   "execution_count": null,
   "metadata": {},
   "outputs": [],
   "source": [
    "# Test the function\n",
    "funcs_em.plot_corr(\n",
    "    corr_array=corr_array,\n",
    "    pval_array=pval_array,\n",
    "    lats=stats_dict[\"lats\"],\n",
    "    lons=stats_dict[\"lons\"],\n",
    "    sig_threshold=0.05\n",
    ")"
   ]
  }
 ],
 "metadata": {
  "kernelspec": {
   "display_name": "Python 3",
   "language": "python",
   "name": "python3"
  },
  "language_info": {
   "codemirror_mode": {
    "name": "ipython",
    "version": 3
   },
   "file_extension": ".py",
   "mimetype": "text/x-python",
   "name": "python",
   "nbconvert_exporter": "python",
   "pygments_lexer": "ipython3",
   "version": "3.10.5"
  }
 },
 "nbformat": 4,
 "nbformat_minor": 2
}
