{
 "cells": [
  {
   "cell_type": "markdown",
   "metadata": {},
   "source": [
    "### Relationship between gas demand and CET ###\n",
    "\n",
    "Quantifying the relationship between gas demand and central england temperature (CET) during ONDJFM to create a reconstruction of gas demand using CET between 1960 and 2023 to correspond with the decadal predictions. This data enables us to explore the relationship between NAO, delta P, UK mean temperature and reconstructed gas demand. The hope is to find a predictor at decadal timescales that gives skill for predictions of 8yrRM ONDJFM gas demand."
   ]
  },
  {
   "cell_type": "code",
   "execution_count": null,
   "metadata": {},
   "outputs": [],
   "source": [
    "# Local libraries\n",
    "import os\n",
    "import sys\n",
    "import glob\n",
    "\n",
    "# Third-party libraries\n",
    "import numpy as np\n",
    "import matplotlib.pyplot as plt\n",
    "import pandas as pd\n",
    "from scipy.stats import pearsonr\n",
    "from scipy import signal"
   ]
  },
  {
   "cell_type": "code",
   "execution_count": null,
   "metadata": {},
   "outputs": [],
   "source": [
    "# load in the CET data\n",
    "cet_data = \"/home/users/benhutch/energy-met-corr/CET/meantemp_daily_totals.txt\"\n",
    "\n",
    "# load in the CET data using pandas\n",
    "cet_df = pd.read_csv(cet_data, delim_whitespace=True, header=0)"
   ]
  },
  {
   "cell_type": "code",
   "execution_count": null,
   "metadata": {},
   "outputs": [],
   "source": [
    "cet_df.head()"
   ]
  },
  {
   "cell_type": "code",
   "execution_count": null,
   "metadata": {},
   "outputs": [],
   "source": [
    "# ensure that Date is in datetime format\n",
    "cet_df[\"Date\"] = pd.to_datetime(cet_df[\"Date\"])"
   ]
  },
  {
   "cell_type": "code",
   "execution_count": null,
   "metadata": {},
   "outputs": [],
   "source": [
    "# Restrict to years 1950 onwards\n",
    "# # Convert the index to datetime if it's not already\n",
    "cet_df.set_index(\"Date\", inplace=True)\n",
    "\n",
    "# Filter the dataframe to only include rows from 1950 onwards\n",
    "cet_df_1950_onwards = cet_df[cet_df.index.year >= 1950]"
   ]
  },
  {
   "cell_type": "code",
   "execution_count": null,
   "metadata": {},
   "outputs": [],
   "source": [
    "cet_df_1950_onwards.head()"
   ]
  }
 ],
 "metadata": {
  "kernelspec": {
   "display_name": "Python 3",
   "language": "python",
   "name": "python3"
  },
  "language_info": {
   "codemirror_mode": {
    "name": "ipython",
    "version": 3
   },
   "file_extension": ".py",
   "mimetype": "text/x-python",
   "name": "python",
   "nbconvert_exporter": "python",
   "pygments_lexer": "ipython3",
   "version": "3.10.8"
  }
 },
 "nbformat": 4,
 "nbformat_minor": 2
}
