{
 "cells": [
  {
   "cell_type": "markdown",
   "metadata": {},
   "source": [
    "### Bloomfield demand correlations ###\n",
    "\n",
    "Exploring the correlations between some of Hannah's older datasets which include demand (hopefully in some kind of GW/GWh unit) to explore the relationship between climate indices and electricity demand.\n",
    "\n",
    "Goal is to move towards a space where we have some quantification of UK demand (in GW/GWh) which we can predict to some capacity, along with UK offshore wind power CF.'s (in GW/GWh, which we know we can predict using delta P), to quantify a time series of demand-net-wind (demand - wind) to explore whether this is something we can predict on decadal timescales."
   ]
  },
  {
   "cell_type": "code",
   "execution_count": null,
   "metadata": {},
   "outputs": [],
   "source": [
    "# Local libraries\n",
    "import os\n",
    "import sys\n",
    "import glob\n",
    "\n",
    "# Third-party libraries\n",
    "import numpy as np\n",
    "import matplotlib.pyplot as plt\n",
    "import pandas as pd\n",
    "from scipy.stats import pearsonr\n",
    "from scipy import signal"
   ]
  },
  {
   "cell_type": "code",
   "execution_count": null,
   "metadata": {},
   "outputs": [],
   "source": [
    "# Show the directory in which the files are stored\n",
    "dir = \"/home/users/benhutch/ERA5_energy_update\"\n",
    "\n",
    "# LIst the files in this directory\n",
    "os.listdir(dir)"
   ]
  },
  {
   "cell_type": "markdown",
   "metadata": {},
   "source": [
    "### Demand data ###\n",
    "\n",
    "* *ERA5_full_demand_1979_2018.csv* - Daily mean country level electricity demand for the 28 countries modelled in this study from 01/01/1979 to 31/12/2018.   \n",
    "* *ERA5_weather_dependent_demand_1979_2018.csv* - Daily mean country level electricity weather-dependent demand for the 28 countries modelled in this study from 01/01/1979 to 31/12/2018.\n",
    "\n",
    "#### Demand model ####\n",
    "\n",
    "A time series of daily mean electricity demand for 28 European countries was derived from 2m temperature (T2m) data from the ERA5 reanalysis. The model was developed on a daily resolution using a multiple-linear regression model where the possible model inputs are the day of the week, heating degree days (HDD) and cooling degree days (CDD). The model is optimised to choose the best set of parameters to minimise the Akaike information criteria. Time-series of the weather-dependent model input parameters (T2m, HDD, CDD) are available as well as the full demand model output and weather-dependent demand (i.e. the demand with the effects of the day of the week removed by setting those regression coefficients to zero)."
   ]
  },
  {
   "cell_type": "code",
   "execution_count": null,
   "metadata": {},
   "outputs": [],
   "source": [
    "# Load in the demand data\n",
    "full_demand_fname = \"ERA5_full_demand_1979_2018.csv\"\n",
    "full_demand_wdependent_fname = \"ERA5_weather_dependent_demand_1979_2018.csv\"\n",
    "\n",
    "# Load in the demand data\n",
    "full_demand = pd.read_csv(os.path.join(dir, full_demand_fname))\n",
    "\n",
    "# Load in the demand data\n",
    "full_demand_weather = pd.read_csv(os.path.join(dir, full_demand_wdependent_fname))"
   ]
  },
  {
   "cell_type": "code",
   "execution_count": null,
   "metadata": {},
   "outputs": [],
   "source": [
    "full_demand.head()"
   ]
  },
  {
   "cell_type": "code",
   "execution_count": null,
   "metadata": {},
   "outputs": [],
   "source": [
    "# restrict to column United_Kingdom_full_demand_no_pop_weights_1979_2018.dat\n",
    "# and Unnamed: 0\n",
    "full_demand = full_demand[['Unnamed: 0', 'United_Kingdom_full_demand_no_pop_weights_1979_2018.dat']]\n"
   ]
  },
  {
   "cell_type": "code",
   "execution_count": null,
   "metadata": {},
   "outputs": [],
   "source": [
    "full_demand.head()"
   ]
  },
  {
   "cell_type": "code",
   "execution_count": null,
   "metadata": {},
   "outputs": [],
   "source": [
    "# rename Unnamed: 0\tas date\n",
    "full_demand.rename(columns = {'Unnamed: 0':'date'}, inplace = True)\n",
    "\n",
    "# rename United_Kingdom_full_demand_no_pop_weights_1979_2018.dat\n",
    "# as UK_demand (GW)\n",
    "full_demand.rename(columns = {'United_Kingdom_full_demand_no_pop_weights_1979_2018.dat':'UK_demand (GW)'}, inplace = True)"
   ]
  },
  {
   "cell_type": "code",
   "execution_count": null,
   "metadata": {},
   "outputs": [],
   "source": [
    "full_demand.head()"
   ]
  },
  {
   "cell_type": "code",
   "execution_count": null,
   "metadata": {},
   "outputs": [],
   "source": [
    "# if date is now \t('1979-01-01',)\n",
    "# strip out YYYY-MM-DD and convert to datetime\n",
    "# remove the brackets\n",
    "full_demand['date'] = full_demand['date'].str[2:-3]\n",
    "\n",
    "# convert to datetime\n",
    "full_demand['date'] = pd.to_datetime(full_demand['date'])"
   ]
  },
  {
   "cell_type": "code",
   "execution_count": null,
   "metadata": {},
   "outputs": [],
   "source": [
    "full_demand.head()"
   ]
  },
  {
   "cell_type": "code",
   "execution_count": null,
   "metadata": {},
   "outputs": [],
   "source": [
    "# process for ONDJFM 8yrRM\n",
    "# Set the date as the index\n",
    "full_demand.set_index('date', inplace=True)\n",
    "\n",
    "# Take monthly averages\n",
    "full_demand_monthly = full_demand.resample('M').mean()\n",
    "\n",
    "# Set up the months of interest\n",
    "ondjfm_months = [10, 11, 12, 1, 2, 3]\n",
    "\n",
    "# Select only the months of interest\n",
    "full_demand_ondjfm = full_demand_monthly[full_demand_monthly.index.month.isin(ondjfm_months)]\n",
    "\n",
    "# Remove the first 3 and last 3 months\n",
    "full_demand_ondjfm = full_demand_ondjfm[3:-3]\n",
    "\n",
    "# Take the annual mean\n",
    "full_demand_ondjfm_8yrRM = full_demand_ondjfm.resample('A').mean()\n",
    "\n",
    "# Take the 8-year rolling mean\n",
    "full_demand_ondjfm_8yrRM = full_demand_ondjfm_8yrRM.rolling(window=8, center=True).mean()"
   ]
  },
  {
   "cell_type": "code",
   "execution_count": null,
   "metadata": {},
   "outputs": [],
   "source": [
    "# Set month back to a column\n",
    "full_demand_ondjfm_8yrRM.reset_index(inplace=True)"
   ]
  },
  {
   "cell_type": "code",
   "execution_count": null,
   "metadata": {},
   "outputs": [],
   "source": [
    "full_demand_ondjfm_8yrRM.head()"
   ]
  },
  {
   "cell_type": "code",
   "execution_count": null,
   "metadata": {},
   "outputs": [],
   "source": [
    "# set up a filename\n",
    "fname = \"ERA5_full_demand_1979_2018_8yrRM_ONDJFM.csv\"\n",
    "\n",
    "# save the file\n",
    "full_demand_ondjfm_8yrRM.to_csv(os.path.join(dir, fname), index=False)"
   ]
  },
  {
   "cell_type": "code",
   "execution_count": null,
   "metadata": {},
   "outputs": [],
   "source": [
    "# full_demand_weather.columns"
   ]
  },
  {
   "cell_type": "code",
   "execution_count": null,
   "metadata": {},
   "outputs": [],
   "source": [
    "# now for full_demand_weather\n",
    "# restrict to column United_Kingdom_full_demand_no_pop_weights_1979_2018.dat and Unnamed: 0\n",
    "full_demand_weather = full_demand_weather[['Unnamed: 0', 'United_Kingdom_wd_demand_no_pop_weights_no_time_trend_1979_2018.dat']]\n",
    "\n",
    "# rename Unnamed: 0\tas date\n",
    "full_demand_weather.rename(columns = {'Unnamed: 0':'date'}, inplace = True)\n",
    "\n",
    "# rename United_Kingdom_full_demand_no_pop_weights_1979_2018.dat as UK_demand (GW)\n",
    "full_demand_weather.rename(columns = {'United_Kingdom_wd_demand_no_pop_weights_no_time_trend_1979_2018.dat':'UK_wd_demand (GW)'}, inplace = True)\n",
    "\n",
    "# convert date to datetime\n",
    "full_demand_weather['date'] = pd.to_datetime(full_demand_weather['date'])\n",
    "\n",
    "# Set the date as the index\n",
    "full_demand_weather.set_index('date', inplace=True)"
   ]
  },
  {
   "cell_type": "code",
   "execution_count": null,
   "metadata": {},
   "outputs": [],
   "source": [
    "# Take monthly averages\n",
    "full_demand_weather_monthly = full_demand_weather.resample('M').mean()\n",
    "\n",
    "# Select only the months of interest\n",
    "full_demand_weather_ondjfm = full_demand_weather_monthly[full_demand_weather_monthly.index.month.isin(ondjfm_months)]\n",
    "\n",
    "# Remove the first 3 and last 3 months\n",
    "full_demand_weather_ondjfm = full_demand_weather_ondjfm[3:-3]\n",
    "\n",
    "# Take the annual mean\n",
    "full_demand_weather_ondjfm_8yrRM = full_demand_weather_ondjfm.resample('A').mean()\n",
    "\n",
    "# Take the 8-year rolling mean\n",
    "full_demand_weather_ondjfm_8yrRM = full_demand_weather_ondjfm_8yrRM.rolling(window=8, center=True).mean()\n",
    "\n",
    "# Set month back to a column\n",
    "full_demand_weather_ondjfm_8yrRM.reset_index(inplace=True)"
   ]
  },
  {
   "cell_type": "code",
   "execution_count": null,
   "metadata": {},
   "outputs": [],
   "source": [
    "full_demand_weather_ondjfm_8yrRM.head()"
   ]
  },
  {
   "cell_type": "code",
   "execution_count": null,
   "metadata": {},
   "outputs": [],
   "source": [
    "# Set up a filename\n",
    "fname = \"ERA5_weather_dependent_demand_1979_2018_8yrRM_ONDJFM.csv\"\n",
    "\n",
    "# Save the file\n",
    "full_demand_weather_ondjfm_8yrRM.to_csv(os.path.join(dir, fname), index=False)"
   ]
  },
  {
   "cell_type": "code",
   "execution_count": null,
   "metadata": {},
   "outputs": [],
   "source": [
    "print(dir)"
   ]
  },
  {
   "cell_type": "code",
   "execution_count": null,
   "metadata": {},
   "outputs": [],
   "source": [
    "# join the two dataframes\n",
    "UK_demand = pd.merge(full_demand_ondjfm_8yrRM, full_demand_weather_ondjfm_8yrRM, on='date')"
   ]
  },
  {
   "cell_type": "code",
   "execution_count": null,
   "metadata": {},
   "outputs": [],
   "source": [
    "UK_demand.head()"
   ]
  },
  {
   "cell_type": "code",
   "execution_count": null,
   "metadata": {},
   "outputs": [],
   "source": [
    "# merge with climate indices demand to look at decadal correlations\n",
    "path = \"/home/users/benhutch/NGrid_demand/csv_files/climate_indices_demand.csv\"\n",
    "\n",
    "# load in the climate indices demand data\n",
    "climate_indices_demand = pd.read_csv(\n",
    "    path,\n",
    ")"
   ]
  },
  {
   "cell_type": "code",
   "execution_count": null,
   "metadata": {},
   "outputs": [],
   "source": [
    "climate_indices_demand.head()"
   ]
  },
  {
   "cell_type": "code",
   "execution_count": null,
   "metadata": {},
   "outputs": [],
   "source": [
    "# Ensure that date is in datetime format\n",
    "climate_indices_demand['date'] = pd.to_datetime(climate_indices_demand['date'])\n",
    "\n",
    "# Join the two dataframes\n",
    "climate_indices_demand = climate_indices_demand.merge(UK_demand, on='date', how='left')"
   ]
  },
  {
   "cell_type": "code",
   "execution_count": null,
   "metadata": {},
   "outputs": [],
   "source": [
    "climate_indices_demand.head()"
   ]
  },
  {
   "cell_type": "code",
   "execution_count": null,
   "metadata": {},
   "outputs": [],
   "source": [
    "# write a function for plotting the data\n",
    "def plot_corr(\n",
    "    df: pd.DataFrame,\n",
    "    predictor: str,\n",
    "    predictand: str,\n",
    "    time: str = \"date\",\n",
    "    standardise: bool = True,\n",
    "    predictor_label: str = None,\n",
    "    predictand_label: str = None,\n",
    "    time_interval: int = 5,\n",
    "    ylabel: str = \"Normalised anomaly\",\n",
    "):\n",
    "    \"\"\"\n",
    "    A function to plot the correlation between two variables\n",
    "    \n",
    "    Inputs\n",
    "\n",
    "    df: pd.DataFrame\n",
    "        A pandas dataframe containing the data\n",
    "\n",
    "    predictor: str\n",
    "        The column name of the predictor variable\n",
    "\n",
    "    predictand: str\n",
    "        The column name of the predictand variable\n",
    "\n",
    "    time: str\n",
    "        The column name of the time variable\n",
    "\n",
    "    standardise: bool\n",
    "        Whether to standardise the data before calculating the correlation\n",
    "\n",
    "    predictor_label: str\n",
    "        The label for the predictor variable\n",
    "\n",
    "    predictand_label: str\n",
    "        The label for the predictand variable\n",
    "\n",
    "    time_interval: int\n",
    "        The time interval over which to set xticks\n",
    "\n",
    "    ylabel: str\n",
    "        The y-axis label\n",
    "\n",
    "    Outputs\n",
    "\n",
    "    None\n",
    "    \"\"\"\n",
    "\n",
    "    # Set the figure size\n",
    "    plt.figure(figsize=(10, 5))\n",
    "\n",
    "    # Find the indices where both variables are not NaN\n",
    "    idx = np.isfinite(df[predictor]) & np.isfinite(df[predictand])\n",
    "\n",
    "    # Apply these indices to the dataframe\n",
    "    df = df[idx]\n",
    "\n",
    "    # Calculate the correlation and p-value\n",
    "    corr, pval = pearsonr(df[predictor], df[predictand])\n",
    "\n",
    "\n",
    "\n",
    "    # Plot the data\n",
    "    if standardise:\n",
    "        plt.plot(\n",
    "            df[time],\n",
    "            (df[predictor] - df[predictor].mean()) / df[predictor].std(),\n",
    "            label=f\"{predictor_label} (corr = {corr:.2f}, p = {pval:.2f})\",\n",
    "        )\n",
    "        plt.plot(\n",
    "            df[time],\n",
    "            (df[predictand] - df[predictand].mean()) / df[predictand].std(),\n",
    "            label=f\"{predictand_label}\",\n",
    "        )\n",
    "    else:\n",
    "        plt.plot(df[time], df[predictor], label=f\"{predictor_label} (corr = {corr:.2f}, p = {pval:.2f})\")\n",
    "        plt.plot(df[time], df[predictand], label=predictand_label)\n",
    "\n",
    "    # Set the xticks\n",
    "    plt.xticks(\n",
    "        df[time][::time_interval],\n",
    "        df[time].dt.year[::time_interval],\n",
    "    )\n",
    "\n",
    "    # Set the y-axis label\n",
    "    plt.ylabel(ylabel)\n",
    "\n",
    "    # Set the x-axis label\n",
    "    plt.xlabel(\"Year\")\n",
    "\n",
    "    # Set the title\n",
    "    plt.title(f\"{predictor} vs {predictand}\")\n",
    "\n",
    "    # Add a legend\n",
    "    plt.legend()\n",
    "\n",
    "    # Show the plot\n",
    "    plt.show()\n",
    "    "
   ]
  },
  {
   "cell_type": "code",
   "execution_count": null,
   "metadata": {},
   "outputs": [],
   "source": [
    "climate_indices_demand.head()"
   ]
  },
  {
   "cell_type": "code",
   "execution_count": null,
   "metadata": {},
   "outputs": [],
   "source": [
    "# Test the function\n",
    "plot_corr(\n",
    "    df=climate_indices_demand,\n",
    "    predictor=\"NAO anomaly (Pa)\",\n",
    "    predictand=\"UK_demand (GW)\",\n",
    "    predictor_label=\"NAO anomaly (Pa)\",\n",
    "    predictand_label=\"UK demand (GW)\",\n",
    ")"
   ]
  },
  {
   "cell_type": "code",
   "execution_count": null,
   "metadata": {},
   "outputs": [],
   "source": [
    "# Now for weathe dependent\n",
    "plot_corr(\n",
    "    df=climate_indices_demand,\n",
    "    predictor=\"NAO anomaly (Pa)\",\n",
    "    predictand=\"UK_wd_demand (GW)\",\n",
    "    predictor_label=\"NAO anomaly (Pa)\",\n",
    "    predictand_label=\"UK weather-dependent demand (GW)\",\n",
    ")"
   ]
  },
  {
   "cell_type": "code",
   "execution_count": null,
   "metadata": {},
   "outputs": [],
   "source": [
    "# Now for delta P\n",
    "plot_corr(\n",
    "    df=climate_indices_demand,\n",
    "    predictor=\"delta P anomaly (Pa)\",\n",
    "    predictand=\"UK_demand (GW)\",\n",
    "    predictor_label=\"delta P anomaly (Pa)\",\n",
    "    predictand_label=\"UK demand (GW)\",\n",
    ")"
   ]
  },
  {
   "cell_type": "code",
   "execution_count": null,
   "metadata": {},
   "outputs": [],
   "source": [
    "# And for weather dependent\n",
    "plot_corr(\n",
    "    df=climate_indices_demand,\n",
    "    predictor=\"delta P anomaly (Pa)\",\n",
    "    predictand=\"UK_wd_demand (GW)\",\n",
    "    predictor_label=\"delta P anomaly (Pa)\",\n",
    "    predictand_label=\"UK weather-dependent demand (GW)\",\n",
    ")"
   ]
  },
  {
   "cell_type": "code",
   "execution_count": null,
   "metadata": {},
   "outputs": [],
   "source": [
    "# Temperature and UK demand\n",
    "plot_corr(\n",
    "    df=climate_indices_demand,\n",
    "    predictor=\"UK_temp_anomaly\",\n",
    "    predictand=\"UK_demand (GW)\",\n",
    "    predictor_label=\"UK temperature (K)\",\n",
    "    predictand_label=\"UK demand (GW)\",\n",
    ")"
   ]
  },
  {
   "cell_type": "code",
   "execution_count": null,
   "metadata": {},
   "outputs": [],
   "source": [
    "# Temperature and UK weather dependent demand\n",
    "plot_corr(\n",
    "    df=climate_indices_demand,\n",
    "    predictor=\"UK_temp_anomaly\",\n",
    "    predictand=\"UK_wd_demand (GW)\",\n",
    "    predictor_label=\"UK temperature (K)\",\n",
    "    predictand_label=\"UK weather-dependent demand (GW)\",\n",
    ")"
   ]
  }
 ],
 "metadata": {
  "kernelspec": {
   "display_name": "Python 3",
   "language": "python",
   "name": "python3"
  },
  "language_info": {
   "codemirror_mode": {
    "name": "ipython",
    "version": 3
   },
   "file_extension": ".py",
   "mimetype": "text/x-python",
   "name": "python",
   "nbconvert_exporter": "python",
   "pygments_lexer": "ipython3",
   "version": "3.10.8"
  }
 },
 "nbformat": 4,
 "nbformat_minor": 2
}
