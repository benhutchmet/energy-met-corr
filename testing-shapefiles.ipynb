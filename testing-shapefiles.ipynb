{
 "cells": [
  {
   "cell_type": "code",
   "execution_count": 1,
   "metadata": {},
   "outputs": [],
   "source": [
    "# Import the relevant modules\n",
    "import os\n",
    "import sys\n",
    "import glob\n",
    "\n",
    "# Import third party modules\n",
    "import numpy as np\n",
    "import xarray as xr\n",
    "# import geopandas as gpd\n",
    "import pandas as pd\n",
    "import matplotlib.pyplot as plt"
   ]
  },
  {
   "cell_type": "code",
   "execution_count": 2,
   "metadata": {},
   "outputs": [],
   "source": [
    "import dictionaries_em as dicts"
   ]
  },
  {
   "cell_type": "code",
   "execution_count": 3,
   "metadata": {},
   "outputs": [
    {
     "name": "stderr",
     "output_type": "stream",
     "text": [
      "/home/users/benhutch/.conda/envs/bens-conda-env2/lib/python3.11/site-packages/pyproj/network.py:59: UserWarning: pyproj unable to set PROJ database path.\n",
      "  _set_context_ca_bundle_path(ca_bundle_path)\n"
     ]
    }
   ],
   "source": [
    "sys.path.append(\"/home/users/benhutch/energy-met-corr-functions\")\n",
    "\n",
    "# Import the functions\n",
    "import functions_em as funcs"
   ]
  },
  {
   "cell_type": "code",
   "execution_count": 4,
   "metadata": {},
   "outputs": [],
   "source": [
    "sys.path.append(\"/home/users/benhutch/skill-maps\")\n",
    "import dictionaries as other_dicts"
   ]
  },
  {
   "cell_type": "code",
   "execution_count": 5,
   "metadata": {},
   "outputs": [
    {
     "data": {
      "text/plain": [
       "<module 'functions_em' from '/home/users/benhutch/energy-met-corr-functions/functions_em.py'>"
      ]
     },
     "execution_count": 5,
     "metadata": {},
     "output_type": "execute_result"
    }
   ],
   "source": [
    "import importlib\n",
    "\n",
    "importlib.reload(funcs)"
   ]
  },
  {
   "cell_type": "markdown",
   "metadata": {},
   "source": [
    "### Aggregate onshore wind correlations ###"
   ]
  },
  {
   "cell_type": "markdown",
   "metadata": {},
   "source": [
    "### Solar correlations ###\n",
    "\n",
    "Looking at correlations between climate indices (solar irradiance, NAO, delta P) and countrywide solar power generation from the CLEARHEADS data.\n",
    "\n",
    "The data we want is in:\n",
    "\n",
    "* *NUTS_0_sp_historical.nc* - Hourly area-averaged solar power capacity factors at NUTS0 level across Europe from 1950 to 2020.\n",
    "* *NUTS_0_sp_historical_loc_weighted.nc* - Hourly solar power capacity factors at NUTS0 level across Europe, from 01/01/1950 - 31/12/2020. Data is weighted by the location of known solar panels from Dunnett et al., (2020) and Stowell et al., (2020) for the UK.\n",
    "    * This dataset appears to be buggy, use the former."
   ]
  },
  {
   "cell_type": "code",
   "execution_count": 6,
   "metadata": {
    "scrolled": true
   },
   "outputs": [
    {
     "name": "stdout",
     "output_type": "stream",
     "text": [
      "NUTS_keys for UREAD data:  ['AT' 'AL' 'BY' 'BE' 'BA' 'BG' 'HR' 'CZ' 'DK' 'EE' 'FI' 'FR' 'DE' 'GR'\n",
      " 'HU' 'IE' 'IT' 'XK' 'LV' 'LT' 'LU' 'MK' 'MD' 'ME' 'NL' 'NO' 'PL' 'PT'\n",
      " 'RO' 'RS' 'SK' 'SI' 'ES' 'SE' 'CH' 'TR' 'UA' 'UK']\n"
     ]
    },
    {
     "name": "stderr",
     "output_type": "stream",
     "text": [
      "/home/users/benhutch/energy-met-corr-functions/functions_em.py:2042: FutureWarning: 'M' is deprecated and will be removed in a future version, please use 'ME' instead.\n",
      "  df = df.resample(\"M\").mean()\n",
      "/home/users/benhutch/energy-met-corr-functions/functions_em.py:2055: FutureWarning: 'A' is deprecated and will be removed in a future version, please use 'YE' instead.\n",
      "  df = df.resample(\"A\").mean()\n",
      "/home/users/benhutch/.conda/envs/bens-conda-env2/lib/python3.11/site-packages/xarray/groupers.py:392: FutureWarning: 'Y' is deprecated and will be removed in a future version, please use 'YE' instead.\n",
      "  self.index_grouper = pd.Grouper(\n"
     ]
    },
    {
     "name": "stdout",
     "output_type": "stream",
     "text": [
      "Extracting the stored NAO data from the model data.\n",
      "Filepath:  /gws/nopw/j04/canari/users/benhutch/nao_stats_df/psl_ONDJFM_global_1961_2014_2-9_4_thornton_2019.csv\n",
      "Filepath:  /gws/nopw/j04/canari/users/benhutch/nao_stats_df/psl_ONDJFM_global_1961_2014_2-9_4_thornton_2019.csv\n",
      "Head of merged_df:              init_time    obs_nao  model_nao_mean  model_nao_members_min  \\\n",
      "valid_time                                                                \n",
      "1969             1964 -190.44958     -232.656768            -318.234643   \n",
      "1970             1965 -110.93028     -192.618070            -278.195945   \n",
      "1971             1966 -105.87212     -173.565836            -259.143711   \n",
      "1972             1967 -114.52344      -75.626209            -161.204084   \n",
      "1973             1968  -44.35204      -47.700463            -133.278338   \n",
      "\n",
      "            model_nao_members_max  NAO anomaly (Pa)  \n",
      "valid_time                                           \n",
      "1969                  -147.078892       -348.860190  \n",
      "1970                  -107.040195       -209.222450  \n",
      "1971                   -87.987961       -198.056168  \n",
      "1972                     9.951667       -141.393485  \n",
      "1973                    37.877413          2.060024  \n",
      "Head of UREAD df:                                           AT        AL        BY        BE  \\\n",
      "time_in_hours_from_first_jan_1950                                           \n",
      "1954                               0.082307  0.103069  0.053657  0.061119   \n",
      "1955                               0.082329  0.103270  0.053898  0.061572   \n",
      "1956                               0.081924  0.102688  0.053457  0.061794   \n",
      "1957                               0.081166  0.102816  0.052138  0.061126   \n",
      "1958                               0.080158  0.102424  0.051737  0.060937   \n",
      "\n",
      "                                         BA        BG        HR        CZ  \\\n",
      "time_in_hours_from_first_jan_1950                                           \n",
      "1954                               0.089555  0.098315  0.087247  0.067197   \n",
      "1955                               0.089690  0.098337  0.087749  0.067097   \n",
      "1956                               0.088964  0.097708  0.086857  0.067445   \n",
      "1957                               0.088591  0.097947  0.086367  0.066616   \n",
      "1958                               0.087667  0.097441  0.085447  0.065362   \n",
      "\n",
      "                                         DK        EE  ...        RO  \\\n",
      "time_in_hours_from_first_jan_1950                      ...             \n",
      "1954                               0.046373  0.040632  ...  0.086727   \n",
      "1955                               0.046784  0.040518  ...  0.086590   \n",
      "1956                               0.046449  0.040247  ...  0.085874   \n",
      "1957                               0.045930  0.039716  ...  0.085856   \n",
      "1958                               0.046605  0.040201  ...  0.084500   \n",
      "\n",
      "                                         RS        SK        SI        ES  \\\n",
      "time_in_hours_from_first_jan_1950                                           \n",
      "1954                               0.091253  0.072600  0.079116  0.115948   \n",
      "1955                               0.091171  0.073206  0.079426  0.115885   \n",
      "1956                               0.090996  0.072866  0.078232  0.115172   \n",
      "1957                               0.090801  0.071946  0.077254  0.114323   \n",
      "1958                               0.089745  0.070864  0.076534  0.114308   \n",
      "\n",
      "                                         SE        CH        TR        UA  \\\n",
      "time_in_hours_from_first_jan_1950                                           \n",
      "1954                               0.033661  0.093620  0.120915  0.072290   \n",
      "1955                               0.033859  0.093900  0.121176  0.072520   \n",
      "1956                               0.033564  0.093518  0.121126  0.072063   \n",
      "1957                               0.033443  0.092779  0.121456  0.071062   \n",
      "1958                               0.033888  0.092409  0.121549  0.069204   \n",
      "\n",
      "                                         UK  \n",
      "time_in_hours_from_first_jan_1950            \n",
      "1954                               0.048505  \n",
      "1955                               0.048454  \n",
      "1956                               0.048631  \n",
      "1957                               0.048043  \n",
      "1958                               0.048469  \n",
      "\n",
      "[5 rows x 38 columns]\n",
      "            AT        AL        BY        BE        BA        BG        HR  \\\n",
      "1969  0.078306  0.101501  0.049124  0.057792  0.087872  0.093242  0.085288   \n",
      "1970  0.078260  0.101770  0.049867  0.057464  0.087971  0.093242  0.085262   \n",
      "1971  0.078060  0.102313  0.049081  0.057129  0.087898  0.093418  0.085050   \n",
      "1972  0.077762  0.102614  0.049431  0.057680  0.087762  0.092696  0.084961   \n",
      "1973  0.077965  0.103176  0.048114  0.057623  0.088482  0.093500  0.085181   \n",
      "\n",
      "            CZ        DK        EE  ...        CH        TR        UA  \\\n",
      "1969  0.061970  0.043523  0.037683  ...  0.090253  0.116051  0.065160   \n",
      "1970  0.062003  0.043822  0.037886  ...  0.089899  0.116315  0.066287   \n",
      "1971  0.061603  0.044408  0.037849  ...  0.089851  0.116203  0.065653   \n",
      "1972  0.061135  0.044790  0.038438  ...  0.090079  0.116533  0.065922   \n",
      "1973  0.061053  0.044106  0.037831  ...  0.089654  0.118209  0.065139   \n",
      "\n",
      "            UK  init_time    obs_nao  model_nao_mean  model_nao_members_min  \\\n",
      "1969  0.047340       1964 -190.44958     -232.656768            -318.234643   \n",
      "1970  0.047171       1965 -110.93028     -192.618070            -278.195945   \n",
      "1971  0.046845       1966 -105.87212     -173.565836            -259.143711   \n",
      "1972  0.046656       1967 -114.52344      -75.626209            -161.204084   \n",
      "1973  0.046793       1968  -44.35204      -47.700463            -133.278338   \n",
      "\n",
      "      model_nao_members_max  NAO anomaly (Pa)  \n",
      "1969            -147.078892       -348.860190  \n",
      "1970            -107.040195       -209.222450  \n",
      "1971             -87.987961       -198.056168  \n",
      "1972               9.951667       -141.393485  \n",
      "1973              37.877413          2.060024  \n",
      "\n",
      "[5 rows x 44 columns]\n"
     ]
    },
    {
     "name": "stderr",
     "output_type": "stream",
     "text": [
      "/home/users/benhutch/energy-met-corr-functions/functions_em.py:2283: FutureWarning: The behavior of DataFrame concatenation with empty or all-NA entries is deprecated. In a future version, this will no longer exclude empty or all-NA columns when determining the result dtypes. To retain the old behavior, exclude the relevant entries before the concat operation.\n",
      "  corr_df = pd.concat([corr_df, corr_df_to_append], ignore_index=True)\n"
     ]
    }
   ],
   "source": [
    "# Ste up the model config\n",
    "# Set up the model config\n",
    "# rsds_global_ONDJFM_2-9_1961_2014_4_Spain_nao_matched.csv\n",
    "# /rsds_global_ONDJFM_2-9_1964_2014_4_Spain_nao_matched.csv\n",
    "# model_config = {\n",
    "#     \"variable\": \"rsds\",\n",
    "#     \"season\": \"ONDJFM\",\n",
    "#     \"region\": \"global\",\n",
    "#     \"start_year\": 1961,\n",
    "#     \"end_year\": 2014,\n",
    "#     \"forecast_range\": \"2-9\",\n",
    "#     \"lag\": 4,\n",
    "#     \"gridbox\": \"Spain\",\n",
    "#     \"method\": \"nao_matched\",\n",
    "# }\n",
    "\n",
    "# # # rsds_global_ONDJFM_2-9_1961_2014_4_West Mediterranean_nao_matched.csv\n",
    "model_config = {\n",
    "    \"variable\": \"psl\",\n",
    "    \"season\": \"ONDJFM\",\n",
    "    \"region\": \"global\",\n",
    "    \"nao\": \"thornton_2019\",\n",
    "    \"start_year\": 1961,\n",
    "    \"end_year\": 2014,\n",
    "    \"forecast_range\": \"2-9\",\n",
    "    \"lag\": 4,\n",
    "    \"method\": \"alternate_lag\",\n",
    "}\n",
    "\n",
    "# file=\"NUTS_0_t2m_detrended_timeseries_historical_pop_weighted.nc\",\n",
    "# shp_file=\"NUTS_RG_10M_2021_4326.shp\",\n",
    "# shp_file_dir=\"/home/users/benhutch/shapefiles/NUTS/\",\n",
    "# label=\"Pop. weighted temp (K)\",\n",
    "# trend_level=2020.0,\n",
    "# tas_global_ONDJFM_2-9_1961_2014_4_UK_grid_nao_matched.csv\n",
    "\n",
    "# model config for 10m wind speeds\n",
    "# model_config = {\n",
    "#     \"variable\": \"tas\",\n",
    "#     \"season\": \"ONDJFM\",\n",
    "#     \"region\": \"global\",\n",
    "#     \"start_year\": 1961,\n",
    "#     \"end_year\": 2014,\n",
    "#     \"forecast_range\": \"2-9\",\n",
    "#     \"lag\": 4,\n",
    "#     \"gridbox\": \"UK_grid\",\n",
    "#     \"method\": \"nao_matched\",\n",
    "# }\n",
    "\n",
    "# ~/shapefiles/NUTS/NUTS_RG_10M_2021_4326.shp\n",
    "\n",
    "# NUTS_0_wp_ons_sim_1_historical_loc_weighted.n\n",
    "# weighted by location of known and proposed future wind farms\n",
    "# gws/nopw/j04/canari/users/benhutch/nao_stats_df/tas_global_ONDJFM_2-9_1961_2014_4_UK_grid_nao_matched.csv\n",
    "# /gws/nopw/j04/canari/users/benhutch/nao_stats_df/psl_ONDJFM_global_1961_2014_2-9_4_nao_default.csv\n",
    "\n",
    "# Call the function\n",
    "# TODO: onshore wind correlations\n",
    "dfs_model_pr = funcs.correlate_nao_uread(\n",
    "    filename=\"NUTS_0_sp_historical.nc\",\n",
    "    # nao_n_grid=dicts.uk_n_box_corrected,\n",
    "    # nao_s_grid=dicts.uk_s_box_corrected,\n",
    "    # obs_var=\"ssrd\",\n",
    "    # avg_grid=other_dicts.med_box_focus,\n",
    "    use_model_data=True,\n",
    "    model_config=model_config,\n",
    ")\n",
    "\n",
    "# use_model_data=True,\n",
    "# model_config=model_config,"
   ]
  },
  {
   "cell_type": "code",
   "execution_count": null,
   "metadata": {},
   "outputs": [],
   "source": [
    "dfs_obs_pr = funcs.correlate_nao_uread(\n",
    "    filename=\"NUTS_0_sp_historical.nc\",\n",
    "    obs_var=\"var228\",\n",
    "    obs_var_data_path=dicts.regrid_file_pr,\n",
    "    avg_grid=dicts.scandi_box,\n",
    ")\n"
   ]
  },
  {
   "cell_type": "code",
   "execution_count": null,
   "metadata": {},
   "outputs": [],
   "source": [
    "len(dfs_model_delta_p)"
   ]
  },
  {
   "cell_type": "code",
   "execution_count": 7,
   "metadata": {},
   "outputs": [
    {
     "data": {
      "text/plain": [
       "4"
      ]
     },
     "execution_count": 7,
     "metadata": {},
     "output_type": "execute_result"
    }
   ],
   "source": [
    "len(dfs_model_pr)\n"
   ]
  },
  {
   "cell_type": "code",
   "execution_count": 8,
   "metadata": {},
   "outputs": [],
   "source": [
    "_, _, merged_df_delta_p, _ = dfs_model_pr"
   ]
  },
  {
   "cell_type": "code",
   "execution_count": 8,
   "metadata": {},
   "outputs": [],
   "source": [
    "merged_df_pr_obs, _ = dfs_model_pr"
   ]
  },
  {
   "cell_type": "code",
   "execution_count": 7,
   "metadata": {},
   "outputs": [],
   "source": [
    "_, _, merged_df_nao_obs, _ = dfs_model_pr"
   ]
  },
  {
   "cell_type": "code",
   "execution_count": null,
   "metadata": {},
   "outputs": [],
   "source": [
    "merged_df_pr, _ = dfs_obs_pr"
   ]
  },
  {
   "cell_type": "code",
   "execution_count": 9,
   "metadata": {},
   "outputs": [
    {
     "data": {
      "text/html": [
       "<div>\n",
       "<style scoped>\n",
       "    .dataframe tbody tr th:only-of-type {\n",
       "        vertical-align: middle;\n",
       "    }\n",
       "\n",
       "    .dataframe tbody tr th {\n",
       "        vertical-align: top;\n",
       "    }\n",
       "\n",
       "    .dataframe thead th {\n",
       "        text-align: right;\n",
       "    }\n",
       "</style>\n",
       "<table border=\"1\" class=\"dataframe\">\n",
       "  <thead>\n",
       "    <tr style=\"text-align: right;\">\n",
       "      <th></th>\n",
       "      <th>AT</th>\n",
       "      <th>AL</th>\n",
       "      <th>BY</th>\n",
       "      <th>BE</th>\n",
       "      <th>BA</th>\n",
       "      <th>BG</th>\n",
       "      <th>HR</th>\n",
       "      <th>CZ</th>\n",
       "      <th>DK</th>\n",
       "      <th>EE</th>\n",
       "      <th>...</th>\n",
       "      <th>RS</th>\n",
       "      <th>SK</th>\n",
       "      <th>SI</th>\n",
       "      <th>ES</th>\n",
       "      <th>SE</th>\n",
       "      <th>CH</th>\n",
       "      <th>TR</th>\n",
       "      <th>UA</th>\n",
       "      <th>UK</th>\n",
       "      <th>NAO anomaly (Pa)</th>\n",
       "    </tr>\n",
       "  </thead>\n",
       "  <tbody>\n",
       "    <tr>\n",
       "      <th>1964-12-31</th>\n",
       "      <td>0.079257</td>\n",
       "      <td>0.102725</td>\n",
       "      <td>0.050113</td>\n",
       "      <td>0.058746</td>\n",
       "      <td>0.088946</td>\n",
       "      <td>0.097018</td>\n",
       "      <td>0.086341</td>\n",
       "      <td>0.063657</td>\n",
       "      <td>0.044999</td>\n",
       "      <td>0.039181</td>\n",
       "      <td>...</td>\n",
       "      <td>0.090462</td>\n",
       "      <td>0.070311</td>\n",
       "      <td>0.077200</td>\n",
       "      <td>0.112832</td>\n",
       "      <td>0.033103</td>\n",
       "      <td>0.090983</td>\n",
       "      <td>0.120093</td>\n",
       "      <td>0.067074</td>\n",
       "      <td>0.048518</td>\n",
       "      <td>-459.575358</td>\n",
       "    </tr>\n",
       "    <tr>\n",
       "      <th>1965-12-31</th>\n",
       "      <td>0.078331</td>\n",
       "      <td>0.100869</td>\n",
       "      <td>0.051625</td>\n",
       "      <td>0.058504</td>\n",
       "      <td>0.087365</td>\n",
       "      <td>0.094782</td>\n",
       "      <td>0.084995</td>\n",
       "      <td>0.063359</td>\n",
       "      <td>0.045203</td>\n",
       "      <td>0.040196</td>\n",
       "      <td>...</td>\n",
       "      <td>0.089082</td>\n",
       "      <td>0.069788</td>\n",
       "      <td>0.075636</td>\n",
       "      <td>0.112032</td>\n",
       "      <td>0.033350</td>\n",
       "      <td>0.090382</td>\n",
       "      <td>0.117749</td>\n",
       "      <td>0.067403</td>\n",
       "      <td>0.048367</td>\n",
       "      <td>-690.522789</td>\n",
       "    </tr>\n",
       "    <tr>\n",
       "      <th>1966-12-31</th>\n",
       "      <td>0.078448</td>\n",
       "      <td>0.101166</td>\n",
       "      <td>0.051461</td>\n",
       "      <td>0.058377</td>\n",
       "      <td>0.087957</td>\n",
       "      <td>0.094768</td>\n",
       "      <td>0.085373</td>\n",
       "      <td>0.063410</td>\n",
       "      <td>0.044705</td>\n",
       "      <td>0.039842</td>\n",
       "      <td>...</td>\n",
       "      <td>0.089256</td>\n",
       "      <td>0.069834</td>\n",
       "      <td>0.075931</td>\n",
       "      <td>0.112227</td>\n",
       "      <td>0.033061</td>\n",
       "      <td>0.089884</td>\n",
       "      <td>0.116403</td>\n",
       "      <td>0.067605</td>\n",
       "      <td>0.048314</td>\n",
       "      <td>-668.603514</td>\n",
       "    </tr>\n",
       "    <tr>\n",
       "      <th>1967-12-31</th>\n",
       "      <td>0.077951</td>\n",
       "      <td>0.101786</td>\n",
       "      <td>0.050047</td>\n",
       "      <td>0.057208</td>\n",
       "      <td>0.087712</td>\n",
       "      <td>0.094336</td>\n",
       "      <td>0.085057</td>\n",
       "      <td>0.062385</td>\n",
       "      <td>0.044141</td>\n",
       "      <td>0.038652</td>\n",
       "      <td>...</td>\n",
       "      <td>0.088432</td>\n",
       "      <td>0.068351</td>\n",
       "      <td>0.075539</td>\n",
       "      <td>0.113649</td>\n",
       "      <td>0.032468</td>\n",
       "      <td>0.089562</td>\n",
       "      <td>0.116122</td>\n",
       "      <td>0.066290</td>\n",
       "      <td>0.047458</td>\n",
       "      <td>-603.605233</td>\n",
       "    </tr>\n",
       "    <tr>\n",
       "      <th>1968-12-31</th>\n",
       "      <td>0.078019</td>\n",
       "      <td>0.102063</td>\n",
       "      <td>0.049749</td>\n",
       "      <td>0.057676</td>\n",
       "      <td>0.087710</td>\n",
       "      <td>0.094354</td>\n",
       "      <td>0.085053</td>\n",
       "      <td>0.062197</td>\n",
       "      <td>0.044038</td>\n",
       "      <td>0.038255</td>\n",
       "      <td>...</td>\n",
       "      <td>0.088419</td>\n",
       "      <td>0.067964</td>\n",
       "      <td>0.075581</td>\n",
       "      <td>0.113312</td>\n",
       "      <td>0.032197</td>\n",
       "      <td>0.089773</td>\n",
       "      <td>0.116323</td>\n",
       "      <td>0.066064</td>\n",
       "      <td>0.047620</td>\n",
       "      <td>-487.698069</td>\n",
       "    </tr>\n",
       "  </tbody>\n",
       "</table>\n",
       "<p>5 rows × 39 columns</p>\n",
       "</div>"
      ],
      "text/plain": [
       "                  AT        AL        BY        BE        BA        BG  \\\n",
       "1964-12-31  0.079257  0.102725  0.050113  0.058746  0.088946  0.097018   \n",
       "1965-12-31  0.078331  0.100869  0.051625  0.058504  0.087365  0.094782   \n",
       "1966-12-31  0.078448  0.101166  0.051461  0.058377  0.087957  0.094768   \n",
       "1967-12-31  0.077951  0.101786  0.050047  0.057208  0.087712  0.094336   \n",
       "1968-12-31  0.078019  0.102063  0.049749  0.057676  0.087710  0.094354   \n",
       "\n",
       "                  HR        CZ        DK        EE  ...        RS        SK  \\\n",
       "1964-12-31  0.086341  0.063657  0.044999  0.039181  ...  0.090462  0.070311   \n",
       "1965-12-31  0.084995  0.063359  0.045203  0.040196  ...  0.089082  0.069788   \n",
       "1966-12-31  0.085373  0.063410  0.044705  0.039842  ...  0.089256  0.069834   \n",
       "1967-12-31  0.085057  0.062385  0.044141  0.038652  ...  0.088432  0.068351   \n",
       "1968-12-31  0.085053  0.062197  0.044038  0.038255  ...  0.088419  0.067964   \n",
       "\n",
       "                  SI        ES        SE        CH        TR        UA  \\\n",
       "1964-12-31  0.077200  0.112832  0.033103  0.090983  0.120093  0.067074   \n",
       "1965-12-31  0.075636  0.112032  0.033350  0.090382  0.117749  0.067403   \n",
       "1966-12-31  0.075931  0.112227  0.033061  0.089884  0.116403  0.067605   \n",
       "1967-12-31  0.075539  0.113649  0.032468  0.089562  0.116122  0.066290   \n",
       "1968-12-31  0.075581  0.113312  0.032197  0.089773  0.116323  0.066064   \n",
       "\n",
       "                  UK  NAO anomaly (Pa)  \n",
       "1964-12-31  0.048518       -459.575358  \n",
       "1965-12-31  0.048367       -690.522789  \n",
       "1966-12-31  0.048314       -668.603514  \n",
       "1967-12-31  0.047458       -603.605233  \n",
       "1968-12-31  0.047620       -487.698069  \n",
       "\n",
       "[5 rows x 39 columns]"
      ]
     },
     "execution_count": 9,
     "metadata": {},
     "output_type": "execute_result"
    }
   ],
   "source": [
    "merged_df_pr_obs.head()"
   ]
  },
  {
   "cell_type": "code",
   "execution_count": 9,
   "metadata": {},
   "outputs": [
    {
     "data": {
      "text/html": [
       "<div>\n",
       "<style scoped>\n",
       "    .dataframe tbody tr th:only-of-type {\n",
       "        vertical-align: middle;\n",
       "    }\n",
       "\n",
       "    .dataframe tbody tr th {\n",
       "        vertical-align: top;\n",
       "    }\n",
       "\n",
       "    .dataframe thead th {\n",
       "        text-align: right;\n",
       "    }\n",
       "</style>\n",
       "<table border=\"1\" class=\"dataframe\">\n",
       "  <thead>\n",
       "    <tr style=\"text-align: right;\">\n",
       "      <th></th>\n",
       "      <th>AT</th>\n",
       "      <th>AL</th>\n",
       "      <th>BY</th>\n",
       "      <th>BE</th>\n",
       "      <th>BA</th>\n",
       "      <th>BG</th>\n",
       "      <th>HR</th>\n",
       "      <th>CZ</th>\n",
       "      <th>DK</th>\n",
       "      <th>EE</th>\n",
       "      <th>...</th>\n",
       "      <th>CH</th>\n",
       "      <th>TR</th>\n",
       "      <th>UA</th>\n",
       "      <th>UK</th>\n",
       "      <th>init_time</th>\n",
       "      <th>obs_nao</th>\n",
       "      <th>model_nao_mean</th>\n",
       "      <th>model_nao_members_min</th>\n",
       "      <th>model_nao_members_max</th>\n",
       "      <th>NAO anomaly (Pa)</th>\n",
       "    </tr>\n",
       "  </thead>\n",
       "  <tbody>\n",
       "    <tr>\n",
       "      <th>1969</th>\n",
       "      <td>0.078306</td>\n",
       "      <td>0.101501</td>\n",
       "      <td>0.049124</td>\n",
       "      <td>0.057792</td>\n",
       "      <td>0.087872</td>\n",
       "      <td>0.093242</td>\n",
       "      <td>0.085288</td>\n",
       "      <td>0.061970</td>\n",
       "      <td>0.043523</td>\n",
       "      <td>0.037683</td>\n",
       "      <td>...</td>\n",
       "      <td>0.090253</td>\n",
       "      <td>0.116051</td>\n",
       "      <td>0.065160</td>\n",
       "      <td>0.047340</td>\n",
       "      <td>1964</td>\n",
       "      <td>-190.44958</td>\n",
       "      <td>-232.656768</td>\n",
       "      <td>-318.234643</td>\n",
       "      <td>-147.078892</td>\n",
       "      <td>-348.860190</td>\n",
       "    </tr>\n",
       "    <tr>\n",
       "      <th>1970</th>\n",
       "      <td>0.078260</td>\n",
       "      <td>0.101770</td>\n",
       "      <td>0.049867</td>\n",
       "      <td>0.057464</td>\n",
       "      <td>0.087971</td>\n",
       "      <td>0.093242</td>\n",
       "      <td>0.085262</td>\n",
       "      <td>0.062003</td>\n",
       "      <td>0.043822</td>\n",
       "      <td>0.037886</td>\n",
       "      <td>...</td>\n",
       "      <td>0.089899</td>\n",
       "      <td>0.116315</td>\n",
       "      <td>0.066287</td>\n",
       "      <td>0.047171</td>\n",
       "      <td>1965</td>\n",
       "      <td>-110.93028</td>\n",
       "      <td>-192.618070</td>\n",
       "      <td>-278.195945</td>\n",
       "      <td>-107.040195</td>\n",
       "      <td>-209.222450</td>\n",
       "    </tr>\n",
       "    <tr>\n",
       "      <th>1971</th>\n",
       "      <td>0.078060</td>\n",
       "      <td>0.102313</td>\n",
       "      <td>0.049081</td>\n",
       "      <td>0.057129</td>\n",
       "      <td>0.087898</td>\n",
       "      <td>0.093418</td>\n",
       "      <td>0.085050</td>\n",
       "      <td>0.061603</td>\n",
       "      <td>0.044408</td>\n",
       "      <td>0.037849</td>\n",
       "      <td>...</td>\n",
       "      <td>0.089851</td>\n",
       "      <td>0.116203</td>\n",
       "      <td>0.065653</td>\n",
       "      <td>0.046845</td>\n",
       "      <td>1966</td>\n",
       "      <td>-105.87212</td>\n",
       "      <td>-173.565836</td>\n",
       "      <td>-259.143711</td>\n",
       "      <td>-87.987961</td>\n",
       "      <td>-198.056168</td>\n",
       "    </tr>\n",
       "    <tr>\n",
       "      <th>1972</th>\n",
       "      <td>0.077762</td>\n",
       "      <td>0.102614</td>\n",
       "      <td>0.049431</td>\n",
       "      <td>0.057680</td>\n",
       "      <td>0.087762</td>\n",
       "      <td>0.092696</td>\n",
       "      <td>0.084961</td>\n",
       "      <td>0.061135</td>\n",
       "      <td>0.044790</td>\n",
       "      <td>0.038438</td>\n",
       "      <td>...</td>\n",
       "      <td>0.090079</td>\n",
       "      <td>0.116533</td>\n",
       "      <td>0.065922</td>\n",
       "      <td>0.046656</td>\n",
       "      <td>1967</td>\n",
       "      <td>-114.52344</td>\n",
       "      <td>-75.626209</td>\n",
       "      <td>-161.204084</td>\n",
       "      <td>9.951667</td>\n",
       "      <td>-141.393485</td>\n",
       "    </tr>\n",
       "    <tr>\n",
       "      <th>1973</th>\n",
       "      <td>0.077965</td>\n",
       "      <td>0.103176</td>\n",
       "      <td>0.048114</td>\n",
       "      <td>0.057623</td>\n",
       "      <td>0.088482</td>\n",
       "      <td>0.093500</td>\n",
       "      <td>0.085181</td>\n",
       "      <td>0.061053</td>\n",
       "      <td>0.044106</td>\n",
       "      <td>0.037831</td>\n",
       "      <td>...</td>\n",
       "      <td>0.089654</td>\n",
       "      <td>0.118209</td>\n",
       "      <td>0.065139</td>\n",
       "      <td>0.046793</td>\n",
       "      <td>1968</td>\n",
       "      <td>-44.35204</td>\n",
       "      <td>-47.700463</td>\n",
       "      <td>-133.278338</td>\n",
       "      <td>37.877413</td>\n",
       "      <td>2.060024</td>\n",
       "    </tr>\n",
       "  </tbody>\n",
       "</table>\n",
       "<p>5 rows × 44 columns</p>\n",
       "</div>"
      ],
      "text/plain": [
       "            AT        AL        BY        BE        BA        BG        HR  \\\n",
       "1969  0.078306  0.101501  0.049124  0.057792  0.087872  0.093242  0.085288   \n",
       "1970  0.078260  0.101770  0.049867  0.057464  0.087971  0.093242  0.085262   \n",
       "1971  0.078060  0.102313  0.049081  0.057129  0.087898  0.093418  0.085050   \n",
       "1972  0.077762  0.102614  0.049431  0.057680  0.087762  0.092696  0.084961   \n",
       "1973  0.077965  0.103176  0.048114  0.057623  0.088482  0.093500  0.085181   \n",
       "\n",
       "            CZ        DK        EE  ...        CH        TR        UA  \\\n",
       "1969  0.061970  0.043523  0.037683  ...  0.090253  0.116051  0.065160   \n",
       "1970  0.062003  0.043822  0.037886  ...  0.089899  0.116315  0.066287   \n",
       "1971  0.061603  0.044408  0.037849  ...  0.089851  0.116203  0.065653   \n",
       "1972  0.061135  0.044790  0.038438  ...  0.090079  0.116533  0.065922   \n",
       "1973  0.061053  0.044106  0.037831  ...  0.089654  0.118209  0.065139   \n",
       "\n",
       "            UK  init_time    obs_nao  model_nao_mean  model_nao_members_min  \\\n",
       "1969  0.047340       1964 -190.44958     -232.656768            -318.234643   \n",
       "1970  0.047171       1965 -110.93028     -192.618070            -278.195945   \n",
       "1971  0.046845       1966 -105.87212     -173.565836            -259.143711   \n",
       "1972  0.046656       1967 -114.52344      -75.626209            -161.204084   \n",
       "1973  0.046793       1968  -44.35204      -47.700463            -133.278338   \n",
       "\n",
       "      model_nao_members_max  NAO anomaly (Pa)  \n",
       "1969            -147.078892       -348.860190  \n",
       "1970            -107.040195       -209.222450  \n",
       "1971             -87.987961       -198.056168  \n",
       "1972               9.951667       -141.393485  \n",
       "1973              37.877413          2.060024  \n",
       "\n",
       "[5 rows x 44 columns]"
      ]
     },
     "execution_count": 9,
     "metadata": {},
     "output_type": "execute_result"
    }
   ],
   "source": [
    "merged_df_nao_obs.head()"
   ]
  },
  {
   "cell_type": "code",
   "execution_count": 10,
   "metadata": {},
   "outputs": [],
   "source": [
    "merged_df_pr_obs = merged_df_pr_obs[[\"NAO anomaly (Pa)\", \"ES\"]]"
   ]
  },
  {
   "cell_type": "code",
   "execution_count": 10,
   "metadata": {},
   "outputs": [],
   "source": [
    "merged_df_nao_obs = merged_df_nao_obs[[\"model_nao_mean\"]]"
   ]
  },
  {
   "cell_type": "code",
   "execution_count": null,
   "metadata": {},
   "outputs": [],
   "source": [
    "merged_df_pr = merged_df_pr[[\"var228 anomaly mean\"]]"
   ]
  },
  {
   "cell_type": "code",
   "execution_count": null,
   "metadata": {},
   "outputs": [],
   "source": [
    "# # convert index to years\n",
    "# merged_df_pr.index = merged_df_pr.index.year"
   ]
  },
  {
   "cell_type": "code",
   "execution_count": 17,
   "metadata": {},
   "outputs": [
    {
     "data": {
      "text/html": [
       "<div>\n",
       "<style scoped>\n",
       "    .dataframe tbody tr th:only-of-type {\n",
       "        vertical-align: middle;\n",
       "    }\n",
       "\n",
       "    .dataframe tbody tr th {\n",
       "        vertical-align: top;\n",
       "    }\n",
       "\n",
       "    .dataframe thead th {\n",
       "        text-align: right;\n",
       "    }\n",
       "</style>\n",
       "<table border=\"1\" class=\"dataframe\">\n",
       "  <thead>\n",
       "    <tr style=\"text-align: right;\">\n",
       "      <th></th>\n",
       "      <th>ssrd anomaly mean</th>\n",
       "      <th>ES</th>\n",
       "    </tr>\n",
       "  </thead>\n",
       "  <tbody>\n",
       "    <tr>\n",
       "      <th>1964-12-31</th>\n",
       "      <td>-190799.845008</td>\n",
       "      <td>0.112832</td>\n",
       "    </tr>\n",
       "    <tr>\n",
       "      <th>1965-12-31</th>\n",
       "      <td>-269985.230988</td>\n",
       "      <td>0.112032</td>\n",
       "    </tr>\n",
       "    <tr>\n",
       "      <th>1966-12-31</th>\n",
       "      <td>-260638.977303</td>\n",
       "      <td>0.112227</td>\n",
       "    </tr>\n",
       "    <tr>\n",
       "      <th>1967-12-31</th>\n",
       "      <td>-150859.473875</td>\n",
       "      <td>0.113649</td>\n",
       "    </tr>\n",
       "    <tr>\n",
       "      <th>1968-12-31</th>\n",
       "      <td>-179715.720309</td>\n",
       "      <td>0.113312</td>\n",
       "    </tr>\n",
       "  </tbody>\n",
       "</table>\n",
       "</div>"
      ],
      "text/plain": [
       "            ssrd anomaly mean        ES\n",
       "1964-12-31     -190799.845008  0.112832\n",
       "1965-12-31     -269985.230988  0.112032\n",
       "1966-12-31     -260638.977303  0.112227\n",
       "1967-12-31     -150859.473875  0.113649\n",
       "1968-12-31     -179715.720309  0.113312"
      ]
     },
     "execution_count": 17,
     "metadata": {},
     "output_type": "execute_result"
    }
   ],
   "source": [
    "merged_df_pr_obs.head()"
   ]
  },
  {
   "cell_type": "code",
   "execution_count": 18,
   "metadata": {},
   "outputs": [],
   "source": [
    "merged_df_pr_obs.index = merged_df_pr_obs.index.year"
   ]
  },
  {
   "cell_type": "code",
   "execution_count": null,
   "metadata": {},
   "outputs": [],
   "source": [
    "merged_df = merged_df_nao_obs.join(merged_df_pr_obs, how=\"outer\")"
   ]
  },
  {
   "cell_type": "code",
   "execution_count": null,
   "metadata": {},
   "outputs": [],
   "source": [
    "merged_df.dropna(inplace=True)"
   ]
  },
  {
   "cell_type": "code",
   "execution_count": null,
   "metadata": {},
   "outputs": [],
   "source": [
    "merged_df.head()"
   ]
  },
  {
   "cell_type": "code",
   "execution_count": null,
   "metadata": {},
   "outputs": [],
   "source": [
    "merged_df_pr.head()"
   ]
  },
  {
   "cell_type": "code",
   "execution_count": null,
   "metadata": {},
   "outputs": [],
   "source": [
    "merged_df_pr = merged_df_pr[[\"var228 anomaly mean\"]]"
   ]
  },
  {
   "cell_type": "code",
   "execution_count": null,
   "metadata": {},
   "outputs": [],
   "source": [
    "merged_df_delta_p.head()"
   ]
  },
  {
   "cell_type": "code",
   "execution_count": null,
   "metadata": {},
   "outputs": [],
   "source": [
    "# restrict to the \"NAO anomaly (Pa)\" column\n",
    "merged_df_NAO = merged_df_delta_p[[\"model_nao_mean\"]]"
   ]
  },
  {
   "cell_type": "code",
   "execution_count": null,
   "metadata": {},
   "outputs": [],
   "source": [
    "merged_df_NAO.head()"
   ]
  },
  {
   "cell_type": "code",
   "execution_count": 14,
   "metadata": {},
   "outputs": [
    {
     "data": {
      "text/html": [
       "<div>\n",
       "<style scoped>\n",
       "    .dataframe tbody tr th:only-of-type {\n",
       "        vertical-align: middle;\n",
       "    }\n",
       "\n",
       "    .dataframe tbody tr th {\n",
       "        vertical-align: top;\n",
       "    }\n",
       "\n",
       "    .dataframe thead th {\n",
       "        text-align: right;\n",
       "    }\n",
       "</style>\n",
       "<table border=\"1\" class=\"dataframe\">\n",
       "  <thead>\n",
       "    <tr style=\"text-align: right;\">\n",
       "      <th></th>\n",
       "      <th>NAO anomaly (Pa)</th>\n",
       "    </tr>\n",
       "  </thead>\n",
       "  <tbody>\n",
       "    <tr>\n",
       "      <th>1964</th>\n",
       "      <td>-266.864058</td>\n",
       "    </tr>\n",
       "    <tr>\n",
       "      <th>1965</th>\n",
       "      <td>-402.506399</td>\n",
       "    </tr>\n",
       "    <tr>\n",
       "      <th>1966</th>\n",
       "      <td>-396.282283</td>\n",
       "    </tr>\n",
       "    <tr>\n",
       "      <th>1967</th>\n",
       "      <td>-311.324456</td>\n",
       "    </tr>\n",
       "    <tr>\n",
       "      <th>1968</th>\n",
       "      <td>-261.748606</td>\n",
       "    </tr>\n",
       "  </tbody>\n",
       "</table>\n",
       "</div>"
      ],
      "text/plain": [
       "      NAO anomaly (Pa)\n",
       "1964       -266.864058\n",
       "1965       -402.506399\n",
       "1966       -396.282283\n",
       "1967       -311.324456\n",
       "1968       -261.748606"
      ]
     },
     "execution_count": 14,
     "metadata": {},
     "output_type": "execute_result"
    }
   ],
   "source": [
    "merged_df_pr_obs.head()"
   ]
  },
  {
   "cell_type": "code",
   "execution_count": null,
   "metadata": {},
   "outputs": [],
   "source": [
    "# join the two dataframes\n",
    "merged_df_full = merged_df.join(merged_df_pr)"
   ]
  },
  {
   "cell_type": "code",
   "execution_count": null,
   "metadata": {},
   "outputs": [],
   "source": [
    "merged_df_full.head()"
   ]
  },
  {
   "cell_type": "code",
   "execution_count": null,
   "metadata": {},
   "outputs": [],
   "source": [
    "df, df_model, merged_df, corr_df = dfs"
   ]
  },
  {
   "cell_type": "code",
   "execution_count": null,
   "metadata": {},
   "outputs": [],
   "source": [
    "merged_df_full.head()"
   ]
  },
  {
   "cell_type": "code",
   "execution_count": null,
   "metadata": {},
   "outputs": [],
   "source": [
    "# # restrict merged_df to the index, fcst_ts_mean and obs_ts and UK\n",
    "# merged_df_subset = merged_df[[\n",
    "#     \"fcst_ts_mean\",\n",
    "#     \"obs_ts\",\n",
    "#     \"UK\",\n",
    "# ]]"
   ]
  },
  {
   "cell_type": "code",
   "execution_count": null,
   "metadata": {},
   "outputs": [],
   "source": [
    "# merged_df_subset.head()"
   ]
  },
  {
   "cell_type": "code",
   "execution_count": 11,
   "metadata": {},
   "outputs": [],
   "source": [
    "# path to file\n",
    "path = \"/home/users/benhutch/energy-sotcr-2023/data/ERA5_wd_demand_UK_1940_2023_daily.csv\"\n",
    "\n",
    "# open the file\n",
    "demand_df = pd.read_csv(path)"
   ]
  },
  {
   "cell_type": "code",
   "execution_count": 12,
   "metadata": {},
   "outputs": [
    {
     "data": {
      "text/html": [
       "<div>\n",
       "<style scoped>\n",
       "    .dataframe tbody tr th:only-of-type {\n",
       "        vertical-align: middle;\n",
       "    }\n",
       "\n",
       "    .dataframe tbody tr th {\n",
       "        vertical-align: top;\n",
       "    }\n",
       "\n",
       "    .dataframe thead th {\n",
       "        text-align: right;\n",
       "    }\n",
       "</style>\n",
       "<table border=\"1\" class=\"dataframe\">\n",
       "  <thead>\n",
       "    <tr style=\"text-align: right;\">\n",
       "      <th></th>\n",
       "      <th>Unnamed: 0</th>\n",
       "      <th>United_Kingdom</th>\n",
       "    </tr>\n",
       "  </thead>\n",
       "  <tbody>\n",
       "    <tr>\n",
       "      <th>0</th>\n",
       "      <td>1940-01-01</td>\n",
       "      <td>47.228293</td>\n",
       "    </tr>\n",
       "    <tr>\n",
       "      <th>1</th>\n",
       "      <td>1940-01-02</td>\n",
       "      <td>47.953306</td>\n",
       "    </tr>\n",
       "    <tr>\n",
       "      <th>2</th>\n",
       "      <td>1940-01-03</td>\n",
       "      <td>47.568234</td>\n",
       "    </tr>\n",
       "    <tr>\n",
       "      <th>3</th>\n",
       "      <td>1940-01-04</td>\n",
       "      <td>46.787436</td>\n",
       "    </tr>\n",
       "    <tr>\n",
       "      <th>4</th>\n",
       "      <td>1940-01-05</td>\n",
       "      <td>46.914110</td>\n",
       "    </tr>\n",
       "  </tbody>\n",
       "</table>\n",
       "</div>"
      ],
      "text/plain": [
       "   Unnamed: 0  United_Kingdom\n",
       "0  1940-01-01       47.228293\n",
       "1  1940-01-02       47.953306\n",
       "2  1940-01-03       47.568234\n",
       "3  1940-01-04       46.787436\n",
       "4  1940-01-05       46.914110"
      ]
     },
     "execution_count": 12,
     "metadata": {},
     "output_type": "execute_result"
    }
   ],
   "source": [
    "demand_df.head()"
   ]
  },
  {
   "cell_type": "code",
   "execution_count": 13,
   "metadata": {},
   "outputs": [],
   "source": [
    "# process the data\n",
    "demand_df[\"date\"] = pd.to_datetime(demand_df[\"Unnamed: 0\"])\n",
    "\n",
    "# set the date as the index\n",
    "demand_df.set_index(\"date\", inplace=True)\n",
    "\n",
    "# drop the unnamed column\n",
    "demand_df.drop(\"Unnamed: 0\", axis=1, inplace=True)"
   ]
  },
  {
   "cell_type": "code",
   "execution_count": 14,
   "metadata": {},
   "outputs": [
    {
     "name": "stderr",
     "output_type": "stream",
     "text": [
      "/tmp/ipykernel_539003/3076350266.py:2: FutureWarning: 'M' is deprecated and will be removed in a future version, please use 'ME' instead.\n",
      "  demand_monthly = demand_df.resample(\"M\").mean()\n",
      "/tmp/ipykernel_539003/3076350266.py:17: FutureWarning: 'Y' is deprecated and will be removed in a future version, please use 'YE' instead.\n",
      "  demand_annual = demand_monthly.resample(\"Y\").mean()\n"
     ]
    }
   ],
   "source": [
    "# resample into monthly means\n",
    "demand_monthly = demand_df.resample(\"M\").mean()\n",
    "\n",
    "# Select only the period of interest\n",
    "demand_monthly = demand_monthly.loc[\"1960-01-01\":\"2023-12-31\"]\n",
    "\n",
    "# Select the months of interest\n",
    "demand_monthly = demand_monthly[demand_monthly.index.month.isin([10, 11, 12, 1, 2, 3])]\n",
    "\n",
    "# shift by the annual offset\n",
    "demand_monthly.index = demand_monthly.index - pd.DateOffset(months=3)\n",
    "\n",
    "# Throw away the first 3 months and the last 3 months\n",
    "demand_monthly = demand_monthly[3:-3]\n",
    "\n",
    "# Calculate the annual average\n",
    "demand_annual = demand_monthly.resample(\"Y\").mean()\n",
    "\n",
    "# Take the rolling mean\n",
    "demand_rolling = demand_annual.rolling(window=8, center=True).mean()\n",
    "\n",
    "# throw away the NaN values\n",
    "demand_rolling = demand_rolling.dropna()"
   ]
  },
  {
   "cell_type": "code",
   "execution_count": 15,
   "metadata": {},
   "outputs": [],
   "source": [
    "# rename United_Kingdom to UK_wd_demand\n",
    "demand_rolling.rename(columns={\"United_Kingdom\": \"UK_wd_demand\"}, inplace=True)"
   ]
  },
  {
   "cell_type": "code",
   "execution_count": 16,
   "metadata": {},
   "outputs": [
    {
     "data": {
      "text/html": [
       "<div>\n",
       "<style scoped>\n",
       "    .dataframe tbody tr th:only-of-type {\n",
       "        vertical-align: middle;\n",
       "    }\n",
       "\n",
       "    .dataframe tbody tr th {\n",
       "        vertical-align: top;\n",
       "    }\n",
       "\n",
       "    .dataframe thead th {\n",
       "        text-align: right;\n",
       "    }\n",
       "</style>\n",
       "<table border=\"1\" class=\"dataframe\">\n",
       "  <thead>\n",
       "    <tr style=\"text-align: right;\">\n",
       "      <th></th>\n",
       "      <th>UK_wd_demand</th>\n",
       "    </tr>\n",
       "    <tr>\n",
       "      <th>date</th>\n",
       "      <th></th>\n",
       "    </tr>\n",
       "  </thead>\n",
       "  <tbody>\n",
       "    <tr>\n",
       "      <th>1964-12-31</th>\n",
       "      <td>43.230090</td>\n",
       "    </tr>\n",
       "    <tr>\n",
       "      <th>1965-12-31</th>\n",
       "      <td>43.320959</td>\n",
       "    </tr>\n",
       "    <tr>\n",
       "      <th>1966-12-31</th>\n",
       "      <td>43.270491</td>\n",
       "    </tr>\n",
       "    <tr>\n",
       "      <th>1967-12-31</th>\n",
       "      <td>42.985160</td>\n",
       "    </tr>\n",
       "    <tr>\n",
       "      <th>1968-12-31</th>\n",
       "      <td>42.864759</td>\n",
       "    </tr>\n",
       "  </tbody>\n",
       "</table>\n",
       "</div>"
      ],
      "text/plain": [
       "            UK_wd_demand\n",
       "date                    \n",
       "1964-12-31     43.230090\n",
       "1965-12-31     43.320959\n",
       "1966-12-31     43.270491\n",
       "1967-12-31     42.985160\n",
       "1968-12-31     42.864759"
      ]
     },
     "execution_count": 16,
     "metadata": {},
     "output_type": "execute_result"
    }
   ],
   "source": [
    "demand_rolling.head()"
   ]
  },
  {
   "cell_type": "code",
   "execution_count": 18,
   "metadata": {},
   "outputs": [
    {
     "data": {
      "text/html": [
       "<div>\n",
       "<style scoped>\n",
       "    .dataframe tbody tr th:only-of-type {\n",
       "        vertical-align: middle;\n",
       "    }\n",
       "\n",
       "    .dataframe tbody tr th {\n",
       "        vertical-align: top;\n",
       "    }\n",
       "\n",
       "    .dataframe thead th {\n",
       "        text-align: right;\n",
       "    }\n",
       "</style>\n",
       "<table border=\"1\" class=\"dataframe\">\n",
       "  <thead>\n",
       "    <tr style=\"text-align: right;\">\n",
       "      <th></th>\n",
       "      <th>model_nao_mean</th>\n",
       "    </tr>\n",
       "  </thead>\n",
       "  <tbody>\n",
       "    <tr>\n",
       "      <th>1969</th>\n",
       "      <td>-232.656768</td>\n",
       "    </tr>\n",
       "    <tr>\n",
       "      <th>1970</th>\n",
       "      <td>-192.618070</td>\n",
       "    </tr>\n",
       "    <tr>\n",
       "      <th>1971</th>\n",
       "      <td>-173.565836</td>\n",
       "    </tr>\n",
       "    <tr>\n",
       "      <th>1972</th>\n",
       "      <td>-75.626209</td>\n",
       "    </tr>\n",
       "    <tr>\n",
       "      <th>1973</th>\n",
       "      <td>-47.700463</td>\n",
       "    </tr>\n",
       "  </tbody>\n",
       "</table>\n",
       "</div>"
      ],
      "text/plain": [
       "      model_nao_mean\n",
       "1969     -232.656768\n",
       "1970     -192.618070\n",
       "1971     -173.565836\n",
       "1972      -75.626209\n",
       "1973      -47.700463"
      ]
     },
     "execution_count": 18,
     "metadata": {},
     "output_type": "execute_result"
    }
   ],
   "source": [
    "merged_df_nao_obs.head()"
   ]
  },
  {
   "cell_type": "code",
   "execution_count": 22,
   "metadata": {},
   "outputs": [],
   "source": [
    "# merged_df_NAO.index = merged_df_NAO.index.year"
   ]
  },
  {
   "cell_type": "code",
   "execution_count": 19,
   "metadata": {},
   "outputs": [],
   "source": [
    "# # Set the index of the demand_rolling to be the date in years + 5\n",
    "# demand_rolling.index = demand_rolling.index\n",
    "\n",
    "# set just as the years\n",
    "demand_rolling.index = demand_rolling.index.year"
   ]
  },
  {
   "cell_type": "code",
   "execution_count": 20,
   "metadata": {},
   "outputs": [],
   "source": [
    "# join the two dataframes: merged_df and demand_rolling\n",
    "combined_df = merged_df_nao_obs.join(demand_rolling)"
   ]
  },
  {
   "cell_type": "code",
   "execution_count": 22,
   "metadata": {},
   "outputs": [
    {
     "data": {
      "text/html": [
       "<div>\n",
       "<style scoped>\n",
       "    .dataframe tbody tr th:only-of-type {\n",
       "        vertical-align: middle;\n",
       "    }\n",
       "\n",
       "    .dataframe tbody tr th {\n",
       "        vertical-align: top;\n",
       "    }\n",
       "\n",
       "    .dataframe thead th {\n",
       "        text-align: right;\n",
       "    }\n",
       "</style>\n",
       "<table border=\"1\" class=\"dataframe\">\n",
       "  <thead>\n",
       "    <tr style=\"text-align: right;\">\n",
       "      <th></th>\n",
       "      <th>model_nao_mean</th>\n",
       "      <th>UK_wd_demand</th>\n",
       "    </tr>\n",
       "  </thead>\n",
       "  <tbody>\n",
       "    <tr>\n",
       "      <th>1969</th>\n",
       "      <td>-232.656768</td>\n",
       "      <td>42.727389</td>\n",
       "    </tr>\n",
       "    <tr>\n",
       "      <th>1970</th>\n",
       "      <td>-192.618070</td>\n",
       "      <td>42.623879</td>\n",
       "    </tr>\n",
       "    <tr>\n",
       "      <th>1971</th>\n",
       "      <td>-173.565836</td>\n",
       "      <td>42.592295</td>\n",
       "    </tr>\n",
       "    <tr>\n",
       "      <th>1972</th>\n",
       "      <td>-75.626209</td>\n",
       "      <td>42.543972</td>\n",
       "    </tr>\n",
       "    <tr>\n",
       "      <th>1973</th>\n",
       "      <td>-47.700463</td>\n",
       "      <td>42.535026</td>\n",
       "    </tr>\n",
       "  </tbody>\n",
       "</table>\n",
       "</div>"
      ],
      "text/plain": [
       "      model_nao_mean  UK_wd_demand\n",
       "1969     -232.656768     42.727389\n",
       "1970     -192.618070     42.623879\n",
       "1971     -173.565836     42.592295\n",
       "1972      -75.626209     42.543972\n",
       "1973      -47.700463     42.535026"
      ]
     },
     "execution_count": 22,
     "metadata": {},
     "output_type": "execute_result"
    }
   ],
   "source": [
    "combined_df.head()"
   ]
  },
  {
   "cell_type": "code",
   "execution_count": 26,
   "metadata": {},
   "outputs": [],
   "source": [
    "# throw away all columns apart from the UK_wd_demand and \"t2m anomaly mean\"\n",
    "# combined_df_subset = combined_df[[\"UK_wd_demand\", \"model_nao_mean\"]]\n",
    "\n",
    "# throw away all columns apart from the NAO anomaly (Pa) and \"UK_wd_demand\"\n",
    "combined_df_subset = combined_df[[\"UK_wd_demand\", \"NAO anomaly (Pa)\"]]"
   ]
  },
  {
   "cell_type": "code",
   "execution_count": 27,
   "metadata": {},
   "outputs": [
    {
     "data": {
      "text/html": [
       "<div>\n",
       "<style scoped>\n",
       "    .dataframe tbody tr th:only-of-type {\n",
       "        vertical-align: middle;\n",
       "    }\n",
       "\n",
       "    .dataframe tbody tr th {\n",
       "        vertical-align: top;\n",
       "    }\n",
       "\n",
       "    .dataframe thead th {\n",
       "        text-align: right;\n",
       "    }\n",
       "</style>\n",
       "<table border=\"1\" class=\"dataframe\">\n",
       "  <thead>\n",
       "    <tr style=\"text-align: right;\">\n",
       "      <th></th>\n",
       "      <th>UK_wd_demand</th>\n",
       "      <th>NAO anomaly (Pa)</th>\n",
       "    </tr>\n",
       "  </thead>\n",
       "  <tbody>\n",
       "    <tr>\n",
       "      <th>1964</th>\n",
       "      <td>43.230090</td>\n",
       "      <td>-266.864058</td>\n",
       "    </tr>\n",
       "    <tr>\n",
       "      <th>1965</th>\n",
       "      <td>43.320959</td>\n",
       "      <td>-402.506399</td>\n",
       "    </tr>\n",
       "    <tr>\n",
       "      <th>1966</th>\n",
       "      <td>43.270491</td>\n",
       "      <td>-396.282283</td>\n",
       "    </tr>\n",
       "    <tr>\n",
       "      <th>1967</th>\n",
       "      <td>42.985160</td>\n",
       "      <td>-311.324456</td>\n",
       "    </tr>\n",
       "    <tr>\n",
       "      <th>1968</th>\n",
       "      <td>42.864759</td>\n",
       "      <td>-261.748606</td>\n",
       "    </tr>\n",
       "  </tbody>\n",
       "</table>\n",
       "</div>"
      ],
      "text/plain": [
       "      UK_wd_demand  NAO anomaly (Pa)\n",
       "1964     43.230090       -266.864058\n",
       "1965     43.320959       -402.506399\n",
       "1966     43.270491       -396.282283\n",
       "1967     42.985160       -311.324456\n",
       "1968     42.864759       -261.748606"
      ]
     },
     "execution_count": 27,
     "metadata": {},
     "output_type": "execute_result"
    }
   ],
   "source": [
    "combined_df_subset.head()"
   ]
  },
  {
   "cell_type": "code",
   "execution_count": null,
   "metadata": {},
   "outputs": [],
   "source": [
    "# Convert the 'date' column to datetime format\n",
    "demand_df['date'] = pd.to_datetime(demand_df['date'])\n",
    "\n",
    "# Extract the year and set it as the index\n",
    "demand_df['year'] = demand_df['date'].dt.year\n",
    "demand_df.set_index('year', inplace=True)"
   ]
  },
  {
   "cell_type": "code",
   "execution_count": null,
   "metadata": {
    "scrolled": true
   },
   "outputs": [],
   "source": [
    "demand_df = demand_df.drop('date', axis=1)"
   ]
  },
  {
   "cell_type": "code",
   "execution_count": null,
   "metadata": {
    "scrolled": true
   },
   "outputs": [],
   "source": [
    "demand_df = demand_df.dropna()"
   ]
  },
  {
   "cell_type": "code",
   "execution_count": null,
   "metadata": {},
   "outputs": [],
   "source": [
    "# join the dataframes\n",
    "merged_df = merged_df_subset.join(demand_df, how='left')"
   ]
  },
  {
   "cell_type": "code",
   "execution_count": null,
   "metadata": {},
   "outputs": [],
   "source": [
    "merged_df.head()"
   ]
  },
  {
   "cell_type": "code",
   "execution_count": null,
   "metadata": {},
   "outputs": [],
   "source": [
    "# restrict to NAO anomaly (Pa) column\n",
    "merged_df = merged_df[\"UK\"]"
   ]
  },
  {
   "cell_type": "code",
   "execution_count": null,
   "metadata": {},
   "outputs": [],
   "source": [
    "merged_df.head()"
   ]
  },
  {
   "cell_type": "code",
   "execution_count": null,
   "metadata": {},
   "outputs": [],
   "source": [
    "# Convert the Series to a DataFrame\n",
    "merged_df = merged_df.to_frame()\n",
    "\n",
    "# Reset the index\n",
    "merged_df.reset_index(inplace=True)"
   ]
  },
  {
   "cell_type": "code",
   "execution_count": null,
   "metadata": {},
   "outputs": [],
   "source": [
    "# save the file\n",
    "# # output directory\n",
    "output_dir = \"/home/users/benhutch/NGrid_demand/csv_files\"\n",
    "\n",
    "# output filename\n",
    "output_fname = \"obs_UK_historical_temp_detrend_0.csv\"\n",
    "\n",
    "# Save as a csv file\n",
    "# save the dataframe to a .csv file\n",
    "merged_df.to_csv(os.path.join(output_dir, output_fname), index=False)"
   ]
  },
  {
   "cell_type": "code",
   "execution_count": null,
   "metadata": {},
   "outputs": [],
   "source": [
    "# df, merged_df, merged_df_full, corr_df = dfs"
   ]
  },
  {
   "cell_type": "code",
   "execution_count": null,
   "metadata": {},
   "outputs": [],
   "source": [
    "# merged_df_hdd = merged_df_full"
   ]
  },
  {
   "cell_type": "code",
   "execution_count": null,
   "metadata": {},
   "outputs": [],
   "source": [
    "# merged_df_hdd.head()"
   ]
  },
  {
   "cell_type": "code",
   "execution_count": null,
   "metadata": {},
   "outputs": [],
   "source": [
    "# dfs_ofs_wind = funcs.correlate_nao_uread(\n",
    "#     filename=\"EEZ_zones_wp_historical.nc\",\n",
    "#     nao_n_grid=dicts.uk_n_box_corrected,\n",
    "#     nao_s_grid=dicts.uk_s_box_corrected,\n",
    "#     use_model_data=True,\n",
    "#     model_config=model_config,\n",
    "# )"
   ]
  },
  {
   "cell_type": "code",
   "execution_count": null,
   "metadata": {},
   "outputs": [],
   "source": [
    "# len(dfs_ofs_wind)"
   ]
  },
  {
   "cell_type": "code",
   "execution_count": null,
   "metadata": {},
   "outputs": [],
   "source": [
    "# _, _, merged_df_full, _ = dfs_ofs_wind"
   ]
  },
  {
   "cell_type": "code",
   "execution_count": null,
   "metadata": {},
   "outputs": [],
   "source": [
    "# # Combine these two datasets together\n",
    "# # HDD - offshore wind\n",
    "# # add suffixes\n",
    "# merged_df_hdd = merged_df_hdd.add_suffix(\"_HDD\")\n",
    "# merged_df_wind = merged_df_full.add_suffix(\"_ofs_wind\")"
   ]
  },
  {
   "cell_type": "code",
   "execution_count": null,
   "metadata": {},
   "outputs": [],
   "source": [
    "# # join the two dataframes\n",
    "# hdd_wind = merged_df_hdd.join(merged_df_wind)"
   ]
  },
  {
   "cell_type": "code",
   "execution_count": null,
   "metadata": {},
   "outputs": [],
   "source": [
    "# hdd_wind.columns"
   ]
  },
  {
   "cell_type": "code",
   "execution_count": null,
   "metadata": {},
   "outputs": [],
   "source": [
    "# # Create a new dataframe\n",
    "# demand_net_wind = pd.DataFrame()\n",
    "\n",
    "# # Loop over the columns\n",
    "# for column in hdd_wind.columns:\n",
    "#     if column.endswith('_HDD'):\n",
    "#         country_code = column[:2]  # Get the country code\n",
    "#         if f\"{country_code}_ofs_wind\" in hdd_wind.columns:\n",
    "#             # Standardize the columns before taking the difference\n",
    "#             hdd_standardized = (hdd_wind[column] - hdd_wind[column].mean()) / hdd_wind[column].std()\n",
    "#             ofs_wind_standardized = (hdd_wind[f\"{country_code}_ofs_wind\"] - hdd_wind[f\"{country_code}_ofs_wind\"].mean()) / hdd_wind[f\"{country_code}_ofs_wind\"].std()\n",
    "            \n",
    "#             demand_net_wind[f'{country_code}_diff'] = hdd_standardized - ofs_wind_standardized"
   ]
  },
  {
   "cell_type": "code",
   "execution_count": null,
   "metadata": {},
   "outputs": [],
   "source": [
    "# demand_net_wind.head()"
   ]
  },
  {
   "cell_type": "code",
   "execution_count": null,
   "metadata": {},
   "outputs": [],
   "source": [
    "# demand_net_wind[\"model_NAO_anomaly_(hPa)\"] = hdd_wind['model_nao_mean_ofs_wind']"
   ]
  },
  {
   "cell_type": "code",
   "execution_count": null,
   "metadata": {},
   "outputs": [],
   "source": [
    "# from scipy.stats import pearsonr\n",
    "\n",
    "# # Create an empty list to store the data\n",
    "# data = []\n",
    "\n",
    "# # Loop over the columns\n",
    "# for column in demand_net_wind.columns:\n",
    "#     if column.endswith('_diff'):\n",
    "#         # Extract the country code\n",
    "#         country_code = column[:2]\n",
    "\n",
    "#         if not demand_net_wind[column].isna().any():\n",
    "#             # Calculate the correlation and p-value\n",
    "#             corr, p_value = pearsonr(demand_net_wind[column], demand_net_wind['model_NAO_anomaly_(hPa)'])\n",
    "        \n",
    "#             # Append the results to the data list\n",
    "#             data.append([country_code, corr, p_value])\n",
    "#         else:\n",
    "#             data.append([country_code, np.nan, np.nan])\n",
    "\n",
    "# # Convert the data list to a dataframe\n",
    "# diff_cor_df = pd.DataFrame(data, columns=['Country Code', 'Correlation', 'P-Value'])"
   ]
  },
  {
   "cell_type": "code",
   "execution_count": null,
   "metadata": {},
   "outputs": [],
   "source": [
    "# hdd_wind.head()"
   ]
  },
  {
   "cell_type": "code",
   "execution_count": null,
   "metadata": {},
   "outputs": [],
   "source": [
    "# diff_cor_df"
   ]
  },
  {
   "cell_type": "code",
   "execution_count": null,
   "metadata": {},
   "outputs": [],
   "source": [
    "# # Rename the columns\n",
    "# corr_df = corr_df.rename(columns={\n",
    "#     \"correlation\": \"correlation_(hc_nao, onshore_cfs)\",\n",
    "#     \"p-value\": \"p-value_(hc_nao, onshore_cfs)\"\n",
    "# })"
   ]
  },
  {
   "cell_type": "code",
   "execution_count": null,
   "metadata": {},
   "outputs": [],
   "source": [
    "# demand_net_wind.head()"
   ]
  },
  {
   "cell_type": "code",
   "execution_count": null,
   "metadata": {},
   "outputs": [],
   "source": [
    "# Process the data but using delta P instead of the NAO index"
   ]
  },
  {
   "cell_type": "code",
   "execution_count": null,
   "metadata": {},
   "outputs": [],
   "source": [
    "# nao_df_dir = \"/gws/nopw/j04/canari/users/benhutch/nao_stats_df/\"\n",
    "# nao_df_fname = \"psl_ONDJFM_global_1961_2014_2-9_4_nao_default.csv\"\n",
    "\n",
    "# # # Set up the model config\n",
    "# # model_config = {\n",
    "# #     \"variable\": \"psl\",\n",
    "# #     \"season\": \"ONDJFM\",\n",
    "# #     \"region\": \"global\",\n",
    "# #     \"start_year\": 1961,\n",
    "# #     \"end_year\": 2014,\n",
    "# #     \"forecast_range\": \"2-9\",\n",
    "# #     \"lag\": 4,\n",
    "# #     \"nao\": \"thornton_2019_uk\",\n",
    "# # }\n",
    "\n",
    "# # Set up the model config\n",
    "# model_config = {\n",
    "#     \"variable\": \"psl\",\n",
    "#     \"season\": \"ONDJFM\",\n",
    "#     \"region\": \"global\",\n",
    "#     \"start_year\": 1961,\n",
    "#     \"end_year\": 2014,\n",
    "#     \"forecast_range\": \"2-9\",\n",
    "#     \"lag\": 4,\n",
    "#     \"nao\": \"thornton_2019_uk\",\n",
    "#     \"gridbox\": \"Scandinavia\",\n",
    "#     \"method\": \"nao_matched\",\n",
    "# }\n",
    "\n",
    "\n",
    "# # EEZ_zones_wp_historical.nc\n",
    "# # NUTS_0_HDD_historical_pop_weighted.nc\n",
    "# # test the other function for doing this\n",
    "# # days for cooling degree days\n",
    "# df, merged_df, merged_df_full, corr_df = funcs.correlate_nao_uread(\n",
    "#     filename=\"NUTS_0_HDD_historical_pop_weighted.nc\",\n",
    "#     time_unit=\"d\",\n",
    "#     obs_var=\"msl\",\n",
    "#     avg_grid=dicts.scandi_box,\n",
    "#     use_model_data=True,\n",
    "#     model_config=model_config,\n",
    "# )"
   ]
  },
  {
   "cell_type": "code",
   "execution_count": null,
   "metadata": {},
   "outputs": [],
   "source": [
    "# calib_df = funcs.calc_model_nao_gridbox_var_corr(\n",
    "#     nao_df=merged_df_full,\n",
    "#     gridbox=dicts.med_box_focus,\n",
    "#     obs_var=\"ssrd\",\n",
    "#     obs_var_data_path=dicts.regrid_file,\n",
    "#     coeff_fname=\"obs_nao_obs_solar_cfs_slope.csv\",\n",
    "# )"
   ]
  },
  {
   "cell_type": "code",
   "execution_count": null,
   "metadata": {},
   "outputs": [],
   "source": [
    "# calib_df.head()"
   ]
  },
  {
   "cell_type": "code",
   "execution_count": null,
   "metadata": {},
   "outputs": [],
   "source": [
    "# # reload the functions\n",
    "# import importlib\n",
    "\n",
    "# importlib.reload(funcs)"
   ]
  },
  {
   "cell_type": "code",
   "execution_count": null,
   "metadata": {},
   "outputs": [],
   "source": [
    "# # Test the plotting function\n",
    "# funcs.plot_calib_corr(\n",
    "#     df=calib_df,\n",
    "#     predictand_var=\"ES\",\n",
    "#     index_name=\"Calibrated NAO (hPa)\",\n",
    "#     ylabel=\"Spain solar CF.'s (GW)\",\n",
    "#     zero_line=False,\n",
    "# )"
   ]
  },
  {
   "cell_type": "code",
   "execution_count": null,
   "metadata": {},
   "outputs": [],
   "source": [
    "# # Plot the calibrated_model_nao_mean against the var228 anomaly mean\n",
    "# # with seperate y-axes\n",
    "# from scipy.stats import pearsonr\n",
    "\n",
    "# # Create a new figure and an axes\n",
    "# fig, ax1 = plt.subplots()\n",
    "\n",
    "# # Plot the calibrated_model_nao_mean on the first y-axis\n",
    "# ax1.plot(df.index, df[\"calibrated_model_nao_mean\"], color=\"blue\", label=\"nao\")\n",
    "# ax1.set_ylabel(\"pr anomalies (mm/day)\")\n",
    "# # Plot the var228 anomaly mean on the second y-axis\n",
    "# ax1.plot(df.index, df[\"var228 anomaly mean\"], color=\"red\", label=\"var228\")\n",
    "\n",
    "# # show the correlation coefiients\n",
    "# corr, p = pearsonr(df[\"calibrated_model_nao_mean\"], df[\"var228 anomaly mean\"])\n",
    "\n",
    "# # Include a textbox in the top left hand corner with the corr and p values\n",
    "# plt.text(\n",
    "#     0.05,\n",
    "#     0.95,\n",
    "#     f\"Corr: {round(corr, 2)}\\n p-value: {round(p, 2)}\",\n",
    "#     horizontalalignment=\"left\",\n",
    "#     verticalalignment=\"top\",\n",
    "#     transform=plt.gca().transAxes,\n",
    "#     bbox=dict(facecolor=\"white\", alpha=0.5),\n",
    "# )\n",
    "\n",
    "# # Include a horixzontal black dashed line at y=0\n",
    "# plt.axhline(0, color=\"black\", linestyle=\"--\")\n",
    "\n",
    "# # Include a legend\n",
    "# plt.legend(loc=\"upper right\")\n",
    "\n",
    "# # Show the plot\n",
    "# plt.show()"
   ]
  },
  {
   "cell_type": "code",
   "execution_count": null,
   "metadata": {},
   "outputs": [],
   "source": [
    "# print(f\"{p:.2f}\")"
   ]
  },
  {
   "cell_type": "code",
   "execution_count": null,
   "metadata": {},
   "outputs": [],
   "source": [
    "# Testing the NUTS shapefiles\n",
    "# Load in the shapefile fo the eez data\n",
    "NUTS_shapefile = gpd.read_file(\"~/shapefiles/NUTS/NUTS_RG_10M_2021_4326.shp\")\n",
    "\n",
    "# Restrict to level code 0\n",
    "NUTS_shapefile = NUTS_shapefile[NUTS_shapefile.LEVL_CODE == 0]\n",
    "\n",
    "# Extract the second element of the tuple\n",
    "countries_codes = list(dicts.countries_nuts_id.values())\n",
    "\n",
    "# Limit the gpd to the countries in the dictionary\n",
    "NUTS_shapefile = NUTS_shapefile[NUTS_shapefile.NUTS_ID.isin(countries_codes)]\n",
    "\n",
    "# Keep only the NUTS_ID, NUTS_NAME, and geometry columns\n",
    "NUTS_shapefile = NUTS_shapefile[[\"NUTS_ID\", \"NUTS_NAME\", \"geometry\"]]"
   ]
  },
  {
   "cell_type": "code",
   "execution_count": null,
   "metadata": {},
   "outputs": [],
   "source": [
    "NUTS_shapefile.head()"
   ]
  },
  {
   "cell_type": "code",
   "execution_count": null,
   "metadata": {},
   "outputs": [],
   "source": [
    "corr_df.head()"
   ]
  },
  {
   "cell_type": "code",
   "execution_count": null,
   "metadata": {},
   "outputs": [],
   "source": [
    "# Load in the shapefile fo the eez data\n",
    "EEZ_shapefile = gpd.read_file(\"~/shapefiles/EEZ/eez_v12.shp\")"
   ]
  },
  {
   "cell_type": "code",
   "execution_count": null,
   "metadata": {},
   "outputs": [],
   "source": [
    "EEZ_shapefile.head()"
   ]
  },
  {
   "cell_type": "code",
   "execution_count": null,
   "metadata": {},
   "outputs": [],
   "source": [
    "# # Print all of the column names for the eeZ shapefile\n",
    "# print(EEZ_shapefile.columns)"
   ]
  },
  {
   "cell_type": "code",
   "execution_count": null,
   "metadata": {},
   "outputs": [],
   "source": [
    "# Throw away all of the columns, apart from \"GEONAME\", 'SOVEREIGN1',\n",
    "# \"ISOSOV1\", \"geometry\"\n",
    "EEZ_shapefile = EEZ_shapefile[[\"GEONAME\", \"SOVEREIGN1\", \"ISO_SOV1\", \"geometry\"]]"
   ]
  },
  {
   "cell_type": "code",
   "execution_count": null,
   "metadata": {},
   "outputs": [],
   "source": [
    "EEZ_shapefile.head()"
   ]
  },
  {
   "cell_type": "code",
   "execution_count": null,
   "metadata": {},
   "outputs": [],
   "source": [
    "iso_sov1 = EEZ_shapefile[\"ISO_SOV1\"].values"
   ]
  },
  {
   "cell_type": "code",
   "execution_count": null,
   "metadata": {},
   "outputs": [],
   "source": [
    "iso_sov1"
   ]
  },
  {
   "cell_type": "code",
   "execution_count": null,
   "metadata": {},
   "outputs": [],
   "source": [
    "# Extract the values of the region column from corr_df\n",
    "region_values = corr_df.region.values"
   ]
  },
  {
   "cell_type": "code",
   "execution_count": null,
   "metadata": {},
   "outputs": [],
   "source": [
    "region_values"
   ]
  },
  {
   "cell_type": "code",
   "execution_count": 1,
   "metadata": {},
   "outputs": [
    {
     "ename": "NameError",
     "evalue": "name 'importlib' is not defined",
     "output_type": "error",
     "traceback": [
      "\u001b[0;31m---------------------------------------------------------------------------\u001b[0m",
      "\u001b[0;31mNameError\u001b[0m                                 Traceback (most recent call last)",
      "Cell \u001b[0;32mIn[1], line 2\u001b[0m\n\u001b[1;32m      1\u001b[0m \u001b[38;5;66;03m# reload the dictionary\u001b[39;00m\n\u001b[0;32m----> 2\u001b[0m \u001b[43mimportlib\u001b[49m\u001b[38;5;241m.\u001b[39mreload(dicts)\n",
      "\u001b[0;31mNameError\u001b[0m: name 'importlib' is not defined"
     ]
    }
   ],
   "source": [
    "# reload the dictionary\n",
    "importlib.reload(dicts)"
   ]
  },
  {
   "cell_type": "code",
   "execution_count": null,
   "metadata": {},
   "outputs": [],
   "source": [
    "# Convert the region values to equivalent iso_sov1 values\n",
    "# using the mapping in the dictionary\n",
    "iso_sov1_values = [dicts.iso_mapping[region] for region in region_values]"
   ]
  },
  {
   "cell_type": "code",
   "execution_count": null,
   "metadata": {},
   "outputs": [],
   "source": [
    "iso_sov1_values"
   ]
  },
  {
   "cell_type": "code",
   "execution_count": null,
   "metadata": {},
   "outputs": [],
   "source": [
    "# Constrain the geo dataframe to only include the iso_sov1 values\n",
    "EEZ_shapefile = EEZ_shapefile[EEZ_shapefile[\"ISO_SOV1\"].isin(iso_sov1_values)]"
   ]
  },
  {
   "cell_type": "code",
   "execution_count": null,
   "metadata": {},
   "outputs": [],
   "source": [
    "# Find where ISO_SOV1 is equal to \"ITA\"\n",
    "EEZ_shapefile.head()"
   ]
  },
  {
   "cell_type": "code",
   "execution_count": null,
   "metadata": {},
   "outputs": [],
   "source": [
    "# Where corr_df.region passed through iso_mapping dict is\n",
    "# equal to the values in EEZ_shapefile.ISO_SOV1\n",
    "# Add the corresponding correlation and p-value to the dataframe"
   ]
  },
  {
   "cell_type": "code",
   "execution_count": null,
   "metadata": {},
   "outputs": [],
   "source": [
    "# Filter df to only include the rows where GEONAME includes: \"Exclusive Economic Zone\"\n",
    "EEZ_shapefile = EEZ_shapefile[\n",
    "    EEZ_shapefile[\"GEONAME\"].str.contains(\"Exclusive Economic Zone\")\n",
    "]"
   ]
  },
  {
   "cell_type": "code",
   "execution_count": null,
   "metadata": {},
   "outputs": [],
   "source": [
    "EEZ_shapefile.head()"
   ]
  },
  {
   "cell_type": "code",
   "execution_count": null,
   "metadata": {},
   "outputs": [],
   "source": [
    "# Now we want to append the correlation and p-value to the dataframe\n",
    "# Add a new column to corr_df called \"ISO_SOV1\"\n",
    "corr_df[\"ISO_SOV1\"] = iso_sov1_values"
   ]
  },
  {
   "cell_type": "code",
   "execution_count": null,
   "metadata": {},
   "outputs": [],
   "source": [
    "corr_df[\"region\"] == \"EL\""
   ]
  },
  {
   "cell_type": "code",
   "execution_count": null,
   "metadata": {},
   "outputs": [],
   "source": [
    "# Loop over the columns in EEZ_shapefile and add the correlation and p-value\n",
    "# where the ISO_SOV1 values are equal\n",
    "for index, row in EEZ_shapefile.iterrows():\n",
    "    # Extract the ISO_SOV1 value\n",
    "    iso_sov1 = row[\"ISO_SOV1\"]\n",
    "    # Find the index of the row in corr_df that matches the ISO_SOV1\n",
    "    index_corr = corr_df[corr_df[\"ISO_SOV1\"] == iso_sov1].index\n",
    "    # Add the correlation and p-value to the dataframe\n",
    "    EEZ_shapefile.loc[index, \"correlation\"] = corr_df.loc[\n",
    "        index_corr, \"correlation\"\n",
    "    ].values\n",
    "    EEZ_shapefile.loc[index, \"p-value\"] = corr_df.loc[index_corr, \"p-value\"].values"
   ]
  },
  {
   "cell_type": "code",
   "execution_count": null,
   "metadata": {},
   "outputs": [],
   "source": [
    "# Same thing for the NUTS_shapefile\n",
    "for index, row in NUTS_shapefile.iterrows():\n",
    "    # Extract the NUTS_ID value\n",
    "    nuts_id = row[\"NUTS_ID\"]\n",
    "\n",
    "    # Find the index of the row in corr_df that matches the NUTS_ID\n",
    "    index_corr = corr_df[corr_df[\"region\"] == nuts_id].index\n",
    "\n",
    "    if len(index_corr) == 0:\n",
    "        print(f\"No match found for {nuts_id}\")\n",
    "        continue\n",
    "\n",
    "    # Add the correlation and p-value to the dataframe\n",
    "    NUTS_shapefile.loc[index, \"correlation\"] = corr_df.loc[\n",
    "        index_corr, \"correlation\"\n",
    "    ].values\n",
    "\n",
    "    NUTS_shapefile.loc[index, \"p-value\"] = corr_df.loc[index_corr, \"p-value\"].values"
   ]
  },
  {
   "cell_type": "code",
   "execution_count": null,
   "metadata": {},
   "outputs": [],
   "source": [
    "EEZ_shapefile.head()"
   ]
  },
  {
   "cell_type": "code",
   "execution_count": null,
   "metadata": {},
   "outputs": [],
   "source": [
    "NUTS_shapefile.head()"
   ]
  },
  {
   "cell_type": "code",
   "execution_count": null,
   "metadata": {},
   "outputs": [],
   "source": [
    "# Remove any rows from EEZ shapefile which contain \"(*)\" in the GEONAME column\n",
    "EEZ_shapefile = EEZ_shapefile[~EEZ_shapefile[\"GEONAME\"].str.contains(r\"\\(.*\\)\")]"
   ]
  },
  {
   "cell_type": "code",
   "execution_count": null,
   "metadata": {},
   "outputs": [],
   "source": [
    "EEZ_shapefile.head()"
   ]
  },
  {
   "cell_type": "code",
   "execution_count": null,
   "metadata": {},
   "outputs": [],
   "source": [
    "print(type(EEZ_shapefile))"
   ]
  },
  {
   "cell_type": "code",
   "execution_count": null,
   "metadata": {},
   "outputs": [],
   "source": [
    "# Reload the dicts\n",
    "importlib.reload(dicts)"
   ]
  },
  {
   "cell_type": "code",
   "execution_count": null,
   "metadata": {},
   "outputs": [],
   "source": [
    "# Import cartopy\n",
    "import cartopy.crs as ccrs\n",
    "\n",
    "# Now plot the EEZ_shapefile with the correlation as the color\n",
    "plt.figure(figsize=(10, 10))\n",
    "ax = plt.axes(projection=ccrs.PlateCarree())\n",
    "EEZ_shapefile.plot(\n",
    "    column=\"correlation\",\n",
    "    ax=ax,\n",
    "    legend=True,\n",
    "    cmap=\"coolwarm\",\n",
    "    vmin=-1,\n",
    "    vmax=1,\n",
    "    legend_kwds={\n",
    "        \"label\": \"Correlation\",\n",
    "        \"orientation\": \"horizontal\",\n",
    "        \"shrink\": 0.8,\n",
    "        \"pad\": 0.01,\n",
    "    },\n",
    ")\n",
    "# Use cartopy to add the coastlines\n",
    "ax.coastlines()\n",
    "# Make the colorbar smaller\n",
    "cbar = ax.get_figure().get_axes()[1]\n",
    "cbar.set_ylabel(\"Correlation\", fontsize=12)\n",
    "cbar.tick_params(labelsize=10)\n",
    "\n",
    "# Extract the lats of the northern eu grid box\n",
    "lat1, lat2 = dicts.med_box_focus[\"lat1\"], dicts.med_box_focus[\"lat2\"]\n",
    "lon1, lon2 = dicts.med_box_focus[\"lon1\"], dicts.med_box_focus[\"lon2\"]\n",
    "\n",
    "# # Plot the grid box\n",
    "# plt.plot([lon1, lon2, lon2, lon1, lon1], [lat1, lat1, lat2, lat2, lat1], \"r\")\n",
    "\n",
    "# Include hazels grid box\n",
    "lat1_n, lat2_n = (\n",
    "    dicts.uk_n_box_corrected[\"lat1\"],\n",
    "    dicts.uk_n_box_corrected[\"lat2\"],\n",
    ")\n",
    "lon1_n, lon2_n = (\n",
    "    dicts.uk_n_box_corrected[\"lon1\"],\n",
    "    dicts.uk_n_box_corrected[\"lon2\"],\n",
    ")\n",
    "\n",
    "#Plot the grid box\n",
    "plt.plot(\n",
    "    [lon1_n, lon2_n, lon2_n, lon1_n, lon1_n],\n",
    "    [lat1_n, lat1_n, lat2_n, lat2_n, lat1_n],\n",
    "    \"g\",\n",
    "    label=\"delta P\",\n",
    ")\n",
    "\n",
    "# Include hazels grid box\n",
    "lat1_s, lat2_s = (\n",
    "    dicts.uk_s_box_corrected[\"lat1\"],\n",
    "    dicts.uk_s_box_corrected[\"lat2\"],\n",
    ")\n",
    "lon1_s, lon2_s = (\n",
    "    dicts.uk_s_box_corrected[\"lon1\"],\n",
    "    dicts.uk_s_box_corrected[\"lon2\"],\n",
    ")\n",
    "\n",
    "# Plot the grid box\n",
    "plt.plot(\n",
    "    [lon1_s, lon2_s, lon2_s, lon1_s, lon1_s],\n",
    "    [lat1_s, lat1_s, lat2_s, lat2_s, lat1_s],\n",
    "    \"g\",\n",
    ")\n",
    "\n",
    "# Include ticks for the lat and lon\n",
    "ax.gridlines(draw_labels=True)\n",
    "\n",
    "# include a legend\n",
    "plt.legend()\n",
    "\n",
    "# north_atlantic_grid_plot = {\"lon1\": -15, \"lon2\": 40, \"lat1\": 35, \"lat2\": 80}\n",
    "\n",
    "# Constrain to specific bounds\n",
    "ax.set_xlim(-40, 40)\n",
    "ax.set_ylim(32, 80)"
   ]
  },
  {
   "cell_type": "code",
   "execution_count": null,
   "metadata": {},
   "outputs": [],
   "source": [
    "# Reload the dictionary\n",
    "importlib.reload(dicts)"
   ]
  },
  {
   "cell_type": "code",
   "execution_count": null,
   "metadata": {},
   "outputs": [],
   "source": [
    "# Limit the EEZ_shapefile to only include only the ISO_SOV1 values\n",
    "# Which are in dicts.eez_agg_countries\n",
    "EEZ_shapefile_n = EEZ_shapefile[EEZ_shapefile[\"ISO_SOV1\"].isin(dicts.eez_agg_countries)]"
   ]
  },
  {
   "cell_type": "code",
   "execution_count": null,
   "metadata": {},
   "outputs": [],
   "source": [
    "# Now plot the EEZ_shapefile with the correlation as the color\n",
    "plt.figure(figsize=(10, 10))\n",
    "ax = plt.axes(projection=ccrs.PlateCarree())\n",
    "EEZ_shapefile_n.plot(\n",
    "    column=\"correlation\",\n",
    "    ax=ax,\n",
    "    legend=True,\n",
    "    cmap=\"bwr\",\n",
    "    vmin=-1,\n",
    "    vmax=1,\n",
    "    legend_kwds={\n",
    "        \"label\": \"Pearson correlation with ONDJFM delta P index\",\n",
    "        \"orientation\": \"horizontal\",\n",
    "        \"shrink\": 0.8,\n",
    "        \"pad\": 0.01,\n",
    "    },\n",
    ")\n",
    "# Use cartopy to add the coastlines\n",
    "ax.coastlines()\n",
    "# Make the colorbar smaller\n",
    "cbar = ax.get_figure().get_axes()[1]\n",
    "cbar.set_ylabel(\"Pearson correlation with delta P index\", fontsize=12)\n",
    "cbar.tick_params(labelsize=10)\n",
    "\n",
    "# Include ticks for the lat and lon\n",
    "ax.gridlines(draw_labels=True, alpha=0.5)\n",
    "\n",
    "# Constrain to specific bounds\n",
    "ax.set_xlim(-30, 40)\n",
    "ax.set_ylim(40, 80)\n",
    "\n",
    "# Set up the fname\n",
    "fname = \"N_europe_regions_corr_delta_P.pdf\"\n",
    "fpath = \"/gws/nopw/j04/canari/users/benhutch/plots\"\n",
    "\n",
    "# Save the plot\n",
    "plt.savefig(os.path.join(fpath,fname),dpi=600)\n"
   ]
  },
  {
   "cell_type": "code",
   "execution_count": null,
   "metadata": {},
   "outputs": [],
   "source": [
    "corr_df.head()"
   ]
  },
  {
   "cell_type": "code",
   "execution_count": null,
   "metadata": {},
   "outputs": [],
   "source": [
    "# Reload dicts\n",
    "importlib.reload(dicts)"
   ]
  },
  {
   "cell_type": "code",
   "execution_count": null,
   "metadata": {},
   "outputs": [],
   "source": [
    "merged_df_delta_p.head()"
   ]
  },
  {
   "cell_type": "code",
   "execution_count": null,
   "metadata": {},
   "outputs": [],
   "source": [
    "# Create a new column in cfs called N_Europe\n",
    "# which is the average of all of the countries (columns) in dicts.eez_agg_countries\n",
    "# Convert to three character names first\n",
    "for key in dicts.iso_mapping:\n",
    "    merged_df_delta_p = merged_df_delta_p.rename(columns={key: dicts.iso_mapping[key]})\n",
    "\n",
    "merged_df_delta_p[\"N_Europe\"] = merged_df_delta_p[dicts.eez_agg_countries].mean(axis=1)"
   ]
  },
  {
   "cell_type": "code",
   "execution_count": null,
   "metadata": {},
   "outputs": [],
   "source": [
    "merged_df_delta_p.head()"
   ]
  },
  {
   "cell_type": "code",
   "execution_count": null,
   "metadata": {},
   "outputs": [],
   "source": [
    "# Restrict to finite gas demand values\n",
    "# Find the indices where gas_demand_5yrRmean is finite\n",
    "finite_indices = np.isfinite(merged_df['gas_demand_5yrRmean'])\n",
    "\n",
    "# Apply this to the entire dataframe\n",
    "filtered_df = merged_df[finite_indices]"
   ]
  },
  {
   "cell_type": "code",
   "execution_count": null,
   "metadata": {},
   "outputs": [],
   "source": [
    "merged_df_NAO.head()"
   ]
  },
  {
   "cell_type": "code",
   "execution_count": 10,
   "metadata": {},
   "outputs": [
    {
     "data": {
      "text/plain": [
       "<module 'functions_em' from '/home/users/benhutch/energy-met-corr-functions/functions_em.py'>"
      ]
     },
     "execution_count": 10,
     "metadata": {},
     "output_type": "execute_result"
    }
   ],
   "source": [
    "# reload functions\n",
    "importlib.reload(funcs)"
   ]
  },
  {
   "cell_type": "code",
   "execution_count": 14,
   "metadata": {},
   "outputs": [
    {
     "data": {
      "text/html": [
       "<div>\n",
       "<style scoped>\n",
       "    .dataframe tbody tr th:only-of-type {\n",
       "        vertical-align: middle;\n",
       "    }\n",
       "\n",
       "    .dataframe tbody tr th {\n",
       "        vertical-align: top;\n",
       "    }\n",
       "\n",
       "    .dataframe thead th {\n",
       "        text-align: right;\n",
       "    }\n",
       "</style>\n",
       "<table border=\"1\" class=\"dataframe\">\n",
       "  <thead>\n",
       "    <tr style=\"text-align: right;\">\n",
       "      <th></th>\n",
       "      <th>AT</th>\n",
       "      <th>AL</th>\n",
       "      <th>BY</th>\n",
       "      <th>BE</th>\n",
       "      <th>BA</th>\n",
       "      <th>BG</th>\n",
       "      <th>HR</th>\n",
       "      <th>CZ</th>\n",
       "      <th>DK</th>\n",
       "      <th>EE</th>\n",
       "      <th>...</th>\n",
       "      <th>CH</th>\n",
       "      <th>TR</th>\n",
       "      <th>UA</th>\n",
       "      <th>UK</th>\n",
       "      <th>init_time</th>\n",
       "      <th>obs_nao</th>\n",
       "      <th>model_nao_mean</th>\n",
       "      <th>model_nao_members_min</th>\n",
       "      <th>model_nao_members_max</th>\n",
       "      <th>NAO anomaly (Pa)</th>\n",
       "    </tr>\n",
       "  </thead>\n",
       "  <tbody>\n",
       "    <tr>\n",
       "      <th>1969</th>\n",
       "      <td>0.078306</td>\n",
       "      <td>0.101501</td>\n",
       "      <td>0.049124</td>\n",
       "      <td>0.057792</td>\n",
       "      <td>0.087872</td>\n",
       "      <td>0.093242</td>\n",
       "      <td>0.085288</td>\n",
       "      <td>0.061970</td>\n",
       "      <td>0.043523</td>\n",
       "      <td>0.037683</td>\n",
       "      <td>...</td>\n",
       "      <td>0.090253</td>\n",
       "      <td>0.116051</td>\n",
       "      <td>0.065160</td>\n",
       "      <td>0.047340</td>\n",
       "      <td>1964</td>\n",
       "      <td>-354.681580</td>\n",
       "      <td>-267.841253</td>\n",
       "      <td>-439.194590</td>\n",
       "      <td>-96.487916</td>\n",
       "      <td>-348.860190</td>\n",
       "    </tr>\n",
       "    <tr>\n",
       "      <th>1970</th>\n",
       "      <td>0.078260</td>\n",
       "      <td>0.101770</td>\n",
       "      <td>0.049867</td>\n",
       "      <td>0.057464</td>\n",
       "      <td>0.087971</td>\n",
       "      <td>0.093242</td>\n",
       "      <td>0.085262</td>\n",
       "      <td>0.062003</td>\n",
       "      <td>0.043822</td>\n",
       "      <td>0.037886</td>\n",
       "      <td>...</td>\n",
       "      <td>0.089899</td>\n",
       "      <td>0.116315</td>\n",
       "      <td>0.066287</td>\n",
       "      <td>0.047171</td>\n",
       "      <td>1965</td>\n",
       "      <td>-215.043700</td>\n",
       "      <td>-276.476331</td>\n",
       "      <td>-447.829668</td>\n",
       "      <td>-105.122993</td>\n",
       "      <td>-209.222450</td>\n",
       "    </tr>\n",
       "    <tr>\n",
       "      <th>1971</th>\n",
       "      <td>0.078060</td>\n",
       "      <td>0.102313</td>\n",
       "      <td>0.049081</td>\n",
       "      <td>0.057129</td>\n",
       "      <td>0.087898</td>\n",
       "      <td>0.093418</td>\n",
       "      <td>0.085050</td>\n",
       "      <td>0.061603</td>\n",
       "      <td>0.044408</td>\n",
       "      <td>0.037849</td>\n",
       "      <td>...</td>\n",
       "      <td>0.089851</td>\n",
       "      <td>0.116203</td>\n",
       "      <td>0.065653</td>\n",
       "      <td>0.046845</td>\n",
       "      <td>1966</td>\n",
       "      <td>-203.877410</td>\n",
       "      <td>-284.130047</td>\n",
       "      <td>-455.483384</td>\n",
       "      <td>-112.776710</td>\n",
       "      <td>-198.056168</td>\n",
       "    </tr>\n",
       "    <tr>\n",
       "      <th>1972</th>\n",
       "      <td>0.077762</td>\n",
       "      <td>0.102614</td>\n",
       "      <td>0.049431</td>\n",
       "      <td>0.057680</td>\n",
       "      <td>0.087762</td>\n",
       "      <td>0.092696</td>\n",
       "      <td>0.084961</td>\n",
       "      <td>0.061135</td>\n",
       "      <td>0.044790</td>\n",
       "      <td>0.038438</td>\n",
       "      <td>...</td>\n",
       "      <td>0.090079</td>\n",
       "      <td>0.116533</td>\n",
       "      <td>0.065922</td>\n",
       "      <td>0.046656</td>\n",
       "      <td>1967</td>\n",
       "      <td>-147.214690</td>\n",
       "      <td>-191.507105</td>\n",
       "      <td>-362.860442</td>\n",
       "      <td>-20.153768</td>\n",
       "      <td>-141.393485</td>\n",
       "    </tr>\n",
       "    <tr>\n",
       "      <th>1973</th>\n",
       "      <td>0.077965</td>\n",
       "      <td>0.103176</td>\n",
       "      <td>0.048114</td>\n",
       "      <td>0.057623</td>\n",
       "      <td>0.088482</td>\n",
       "      <td>0.093500</td>\n",
       "      <td>0.085181</td>\n",
       "      <td>0.061053</td>\n",
       "      <td>0.044106</td>\n",
       "      <td>0.037831</td>\n",
       "      <td>...</td>\n",
       "      <td>0.089654</td>\n",
       "      <td>0.118209</td>\n",
       "      <td>0.065139</td>\n",
       "      <td>0.046793</td>\n",
       "      <td>1968</td>\n",
       "      <td>-3.761232</td>\n",
       "      <td>-181.768159</td>\n",
       "      <td>-353.121496</td>\n",
       "      <td>-10.414822</td>\n",
       "      <td>2.060024</td>\n",
       "    </tr>\n",
       "  </tbody>\n",
       "</table>\n",
       "<p>5 rows × 44 columns</p>\n",
       "</div>"
      ],
      "text/plain": [
       "            AT        AL        BY        BE        BA        BG        HR  \\\n",
       "1969  0.078306  0.101501  0.049124  0.057792  0.087872  0.093242  0.085288   \n",
       "1970  0.078260  0.101770  0.049867  0.057464  0.087971  0.093242  0.085262   \n",
       "1971  0.078060  0.102313  0.049081  0.057129  0.087898  0.093418  0.085050   \n",
       "1972  0.077762  0.102614  0.049431  0.057680  0.087762  0.092696  0.084961   \n",
       "1973  0.077965  0.103176  0.048114  0.057623  0.088482  0.093500  0.085181   \n",
       "\n",
       "            CZ        DK        EE  ...        CH        TR        UA  \\\n",
       "1969  0.061970  0.043523  0.037683  ...  0.090253  0.116051  0.065160   \n",
       "1970  0.062003  0.043822  0.037886  ...  0.089899  0.116315  0.066287   \n",
       "1971  0.061603  0.044408  0.037849  ...  0.089851  0.116203  0.065653   \n",
       "1972  0.061135  0.044790  0.038438  ...  0.090079  0.116533  0.065922   \n",
       "1973  0.061053  0.044106  0.037831  ...  0.089654  0.118209  0.065139   \n",
       "\n",
       "            UK  init_time     obs_nao  model_nao_mean  model_nao_members_min  \\\n",
       "1969  0.047340       1964 -354.681580     -267.841253            -439.194590   \n",
       "1970  0.047171       1965 -215.043700     -276.476331            -447.829668   \n",
       "1971  0.046845       1966 -203.877410     -284.130047            -455.483384   \n",
       "1972  0.046656       1967 -147.214690     -191.507105            -362.860442   \n",
       "1973  0.046793       1968   -3.761232     -181.768159            -353.121496   \n",
       "\n",
       "      model_nao_members_max  NAO anomaly (Pa)  \n",
       "1969             -96.487916       -348.860190  \n",
       "1970            -105.122993       -209.222450  \n",
       "1971            -112.776710       -198.056168  \n",
       "1972             -20.153768       -141.393485  \n",
       "1973             -10.414822          2.060024  \n",
       "\n",
       "[5 rows x 44 columns]"
      ]
     },
     "execution_count": 14,
     "metadata": {},
     "output_type": "execute_result"
    }
   ],
   "source": [
    "merged_df_delta_p.head()"
   ]
  },
  {
   "cell_type": "code",
   "execution_count": 11,
   "metadata": {},
   "outputs": [],
   "source": [
    "# set the index of the merged_df_pr_obs to be the year\n",
    "merged_df_pr_obs.index = merged_df_pr_obs.index.year"
   ]
  },
  {
   "cell_type": "code",
   "execution_count": 9,
   "metadata": {},
   "outputs": [
    {
     "name": "stdout",
     "output_type": "stream",
     "text": [
      "Normalising the variables\n",
      "Fixing the trendline to the predictor variable\n",
      "plotting predictand col\n",
      "plotting predictor col\n"
     ]
    },
    {
     "data": {
      "image/png": "[encoded data removed]",
      "text/plain": [
       "<Figure size 1000x500 with 1 Axes>"
      ]
     },
     "metadata": {},
     "output_type": "display_data"
    }
   ],
   "source": [
    "# Test the plotting function\n",
    "funcs.plot_time_series(\n",
    "    df=merged_df_delta_p,\n",
    "    predictor_col_name=\"model_nao_mean\",\n",
    "    predictand_col_name=\"ES\",\n",
    "    ylabel=\"Normalised anomaly\",\n",
    "    figsize_x=10,\n",
    "    figsize_y=5,\n",
    "    twin_axes=False,\n",
    "    do_detrend_predictor=False,\n",
    "    do_detrend_predictand=False,\n",
    "    normalise_anom=True,\n",
    "    title=\"dcppA delta P (red, trend corrected) and\\n Spain solar capacity factors (blue)\",\n",
    "    label=\"c\",\n",
    "    fontsize=14,\n",
    "    predictor_color=\"r\",\n",
    "    predictand_color=\"b\",\n",
    "    inverse_predictand=False,\n",
    "    # manual_ylims=[-3.0, 3.0],\n",
    "    calc_rmse=False,\n",
    "    include_trendline=False,\n",
    "    fix_predictor_trendline=True,\n",
    ")"
   ]
  },
  {
   "cell_type": "code",
   "execution_count": 27,
   "metadata": {},
   "outputs": [
    {
     "data": {
      "text/html": [
       "<div>\n",
       "<style scoped>\n",
       "    .dataframe tbody tr th:only-of-type {\n",
       "        vertical-align: middle;\n",
       "    }\n",
       "\n",
       "    .dataframe tbody tr th {\n",
       "        vertical-align: top;\n",
       "    }\n",
       "\n",
       "    .dataframe thead th {\n",
       "        text-align: right;\n",
       "    }\n",
       "</style>\n",
       "<table border=\"1\" class=\"dataframe\">\n",
       "  <thead>\n",
       "    <tr style=\"text-align: right;\">\n",
       "      <th></th>\n",
       "      <th>model_nao_mean</th>\n",
       "      <th>UK_wd_demand</th>\n",
       "    </tr>\n",
       "  </thead>\n",
       "  <tbody>\n",
       "    <tr>\n",
       "      <th>1969</th>\n",
       "      <td>-267.841253</td>\n",
       "      <td>42.727389</td>\n",
       "    </tr>\n",
       "    <tr>\n",
       "      <th>1970</th>\n",
       "      <td>-276.476331</td>\n",
       "      <td>42.623879</td>\n",
       "    </tr>\n",
       "    <tr>\n",
       "      <th>1971</th>\n",
       "      <td>-284.130047</td>\n",
       "      <td>42.592295</td>\n",
       "    </tr>\n",
       "    <tr>\n",
       "      <th>1972</th>\n",
       "      <td>-191.507105</td>\n",
       "      <td>42.543972</td>\n",
       "    </tr>\n",
       "    <tr>\n",
       "      <th>1973</th>\n",
       "      <td>-181.768159</td>\n",
       "      <td>42.535026</td>\n",
       "    </tr>\n",
       "  </tbody>\n",
       "</table>\n",
       "</div>"
      ],
      "text/plain": [
       "      model_nao_mean  UK_wd_demand\n",
       "1969     -267.841253     42.727389\n",
       "1970     -276.476331     42.623879\n",
       "1971     -284.130047     42.592295\n",
       "1972     -191.507105     42.543972\n",
       "1973     -181.768159     42.535026"
      ]
     },
     "execution_count": 27,
     "metadata": {},
     "output_type": "execute_result"
    }
   ],
   "source": [
    "combined_df.head()"
   ]
  },
  {
   "cell_type": "code",
   "execution_count": 47,
   "metadata": {},
   "outputs": [
    {
     "data": {
      "text/plain": [
       "<module 'functions_em' from '/home/users/benhutch/energy-met-corr-functions/functions_em.py'>"
      ]
     },
     "execution_count": 47,
     "metadata": {},
     "output_type": "execute_result"
    }
   ],
   "source": [
    "importlib.reload(funcs)"
   ]
  },
  {
   "cell_type": "code",
   "execution_count": 37,
   "metadata": {},
   "outputs": [
    {
     "data": {
      "text/html": [
       "<div>\n",
       "<style scoped>\n",
       "    .dataframe tbody tr th:only-of-type {\n",
       "        vertical-align: middle;\n",
       "    }\n",
       "\n",
       "    .dataframe tbody tr th {\n",
       "        vertical-align: top;\n",
       "    }\n",
       "\n",
       "    .dataframe thead th {\n",
       "        text-align: right;\n",
       "    }\n",
       "</style>\n",
       "<table border=\"1\" class=\"dataframe\">\n",
       "  <thead>\n",
       "    <tr style=\"text-align: right;\">\n",
       "      <th></th>\n",
       "      <th>UK_wd_demand</th>\n",
       "      <th>model_nao_mean</th>\n",
       "      <th>model_nao_mean_hpa</th>\n",
       "    </tr>\n",
       "  </thead>\n",
       "  <tbody>\n",
       "    <tr>\n",
       "      <th>1969</th>\n",
       "      <td>42.727389</td>\n",
       "      <td>-267.841253</td>\n",
       "      <td>-2.678413</td>\n",
       "    </tr>\n",
       "    <tr>\n",
       "      <th>1970</th>\n",
       "      <td>42.623879</td>\n",
       "      <td>-276.476331</td>\n",
       "      <td>-2.764763</td>\n",
       "    </tr>\n",
       "    <tr>\n",
       "      <th>1971</th>\n",
       "      <td>42.592295</td>\n",
       "      <td>-284.130047</td>\n",
       "      <td>-2.841300</td>\n",
       "    </tr>\n",
       "    <tr>\n",
       "      <th>1972</th>\n",
       "      <td>42.543972</td>\n",
       "      <td>-191.507105</td>\n",
       "      <td>-1.915071</td>\n",
       "    </tr>\n",
       "    <tr>\n",
       "      <th>1973</th>\n",
       "      <td>42.535026</td>\n",
       "      <td>-181.768159</td>\n",
       "      <td>-1.817682</td>\n",
       "    </tr>\n",
       "  </tbody>\n",
       "</table>\n",
       "</div>"
      ],
      "text/plain": [
       "      UK_wd_demand  model_nao_mean  model_nao_mean_hpa\n",
       "1969     42.727389     -267.841253           -2.678413\n",
       "1970     42.623879     -276.476331           -2.764763\n",
       "1971     42.592295     -284.130047           -2.841300\n",
       "1972     42.543972     -191.507105           -1.915071\n",
       "1973     42.535026     -181.768159           -1.817682"
      ]
     },
     "execution_count": 37,
     "metadata": {},
     "output_type": "execute_result"
    }
   ],
   "source": [
    "combined_df_subset.head()"
   ]
  },
  {
   "cell_type": "code",
   "execution_count": 38,
   "metadata": {},
   "outputs": [
    {
     "name": "stderr",
     "output_type": "stream",
     "text": [
      "/tmp/ipykernel_520869/3333543942.py:2: SettingWithCopyWarning: \n",
      "A value is trying to be set on a copy of a slice from a DataFrame.\n",
      "Try using .loc[row_indexer,col_indexer] = value instead\n",
      "\n",
      "See the caveats in the documentation: https://pandas.pydata.org/pandas-docs/stable/user_guide/indexing.html#returning-a-view-versus-a-copy\n",
      "  combined_df_subset[\"model_nao_mean_hpa\"] = combined_df_subset[\"model_nao_mean\"] / 100\n"
     ]
    }
   ],
   "source": [
    "# new column for model_nao_mean / 100\n",
    "combined_df_subset[\"model_nao_mean_hpa\"] = combined_df_subset[\"model_nao_mean\"] / 100"
   ]
  },
  {
   "cell_type": "code",
   "execution_count": 15,
   "metadata": {},
   "outputs": [
    {
     "data": {
      "text/html": [
       "<div>\n",
       "<style scoped>\n",
       "    .dataframe tbody tr th:only-of-type {\n",
       "        vertical-align: middle;\n",
       "    }\n",
       "\n",
       "    .dataframe tbody tr th {\n",
       "        vertical-align: top;\n",
       "    }\n",
       "\n",
       "    .dataframe thead th {\n",
       "        text-align: right;\n",
       "    }\n",
       "</style>\n",
       "<table border=\"1\" class=\"dataframe\">\n",
       "  <thead>\n",
       "    <tr style=\"text-align: right;\">\n",
       "      <th></th>\n",
       "      <th>AT</th>\n",
       "      <th>AL</th>\n",
       "      <th>BY</th>\n",
       "      <th>BE</th>\n",
       "      <th>BA</th>\n",
       "      <th>BG</th>\n",
       "      <th>HR</th>\n",
       "      <th>CZ</th>\n",
       "      <th>DK</th>\n",
       "      <th>EE</th>\n",
       "      <th>...</th>\n",
       "      <th>CH</th>\n",
       "      <th>TR</th>\n",
       "      <th>UA</th>\n",
       "      <th>UK</th>\n",
       "      <th>init_time</th>\n",
       "      <th>obs_nao</th>\n",
       "      <th>model_nao_mean</th>\n",
       "      <th>model_nao_members_min</th>\n",
       "      <th>model_nao_members_max</th>\n",
       "      <th>NAO anomaly (Pa)</th>\n",
       "    </tr>\n",
       "  </thead>\n",
       "  <tbody>\n",
       "    <tr>\n",
       "      <th>1969</th>\n",
       "      <td>0.078306</td>\n",
       "      <td>0.101501</td>\n",
       "      <td>0.049124</td>\n",
       "      <td>0.057792</td>\n",
       "      <td>0.087872</td>\n",
       "      <td>0.093242</td>\n",
       "      <td>0.085288</td>\n",
       "      <td>0.061970</td>\n",
       "      <td>0.043523</td>\n",
       "      <td>0.037683</td>\n",
       "      <td>...</td>\n",
       "      <td>0.090253</td>\n",
       "      <td>0.116051</td>\n",
       "      <td>0.065160</td>\n",
       "      <td>0.047340</td>\n",
       "      <td>1964</td>\n",
       "      <td>-190.44958</td>\n",
       "      <td>-232.656768</td>\n",
       "      <td>-318.234643</td>\n",
       "      <td>-147.078892</td>\n",
       "      <td>-348.860190</td>\n",
       "    </tr>\n",
       "    <tr>\n",
       "      <th>1970</th>\n",
       "      <td>0.078260</td>\n",
       "      <td>0.101770</td>\n",
       "      <td>0.049867</td>\n",
       "      <td>0.057464</td>\n",
       "      <td>0.087971</td>\n",
       "      <td>0.093242</td>\n",
       "      <td>0.085262</td>\n",
       "      <td>0.062003</td>\n",
       "      <td>0.043822</td>\n",
       "      <td>0.037886</td>\n",
       "      <td>...</td>\n",
       "      <td>0.089899</td>\n",
       "      <td>0.116315</td>\n",
       "      <td>0.066287</td>\n",
       "      <td>0.047171</td>\n",
       "      <td>1965</td>\n",
       "      <td>-110.93028</td>\n",
       "      <td>-192.618070</td>\n",
       "      <td>-278.195945</td>\n",
       "      <td>-107.040195</td>\n",
       "      <td>-209.222450</td>\n",
       "    </tr>\n",
       "    <tr>\n",
       "      <th>1971</th>\n",
       "      <td>0.078060</td>\n",
       "      <td>0.102313</td>\n",
       "      <td>0.049081</td>\n",
       "      <td>0.057129</td>\n",
       "      <td>0.087898</td>\n",
       "      <td>0.093418</td>\n",
       "      <td>0.085050</td>\n",
       "      <td>0.061603</td>\n",
       "      <td>0.044408</td>\n",
       "      <td>0.037849</td>\n",
       "      <td>...</td>\n",
       "      <td>0.089851</td>\n",
       "      <td>0.116203</td>\n",
       "      <td>0.065653</td>\n",
       "      <td>0.046845</td>\n",
       "      <td>1966</td>\n",
       "      <td>-105.87212</td>\n",
       "      <td>-173.565836</td>\n",
       "      <td>-259.143711</td>\n",
       "      <td>-87.987961</td>\n",
       "      <td>-198.056168</td>\n",
       "    </tr>\n",
       "    <tr>\n",
       "      <th>1972</th>\n",
       "      <td>0.077762</td>\n",
       "      <td>0.102614</td>\n",
       "      <td>0.049431</td>\n",
       "      <td>0.057680</td>\n",
       "      <td>0.087762</td>\n",
       "      <td>0.092696</td>\n",
       "      <td>0.084961</td>\n",
       "      <td>0.061135</td>\n",
       "      <td>0.044790</td>\n",
       "      <td>0.038438</td>\n",
       "      <td>...</td>\n",
       "      <td>0.090079</td>\n",
       "      <td>0.116533</td>\n",
       "      <td>0.065922</td>\n",
       "      <td>0.046656</td>\n",
       "      <td>1967</td>\n",
       "      <td>-114.52344</td>\n",
       "      <td>-75.626209</td>\n",
       "      <td>-161.204084</td>\n",
       "      <td>9.951667</td>\n",
       "      <td>-141.393485</td>\n",
       "    </tr>\n",
       "    <tr>\n",
       "      <th>1973</th>\n",
       "      <td>0.077965</td>\n",
       "      <td>0.103176</td>\n",
       "      <td>0.048114</td>\n",
       "      <td>0.057623</td>\n",
       "      <td>0.088482</td>\n",
       "      <td>0.093500</td>\n",
       "      <td>0.085181</td>\n",
       "      <td>0.061053</td>\n",
       "      <td>0.044106</td>\n",
       "      <td>0.037831</td>\n",
       "      <td>...</td>\n",
       "      <td>0.089654</td>\n",
       "      <td>0.118209</td>\n",
       "      <td>0.065139</td>\n",
       "      <td>0.046793</td>\n",
       "      <td>1968</td>\n",
       "      <td>-44.35204</td>\n",
       "      <td>-47.700463</td>\n",
       "      <td>-133.278338</td>\n",
       "      <td>37.877413</td>\n",
       "      <td>2.060024</td>\n",
       "    </tr>\n",
       "  </tbody>\n",
       "</table>\n",
       "<p>5 rows × 44 columns</p>\n",
       "</div>"
      ],
      "text/plain": [
       "            AT        AL        BY        BE        BA        BG        HR  \\\n",
       "1969  0.078306  0.101501  0.049124  0.057792  0.087872  0.093242  0.085288   \n",
       "1970  0.078260  0.101770  0.049867  0.057464  0.087971  0.093242  0.085262   \n",
       "1971  0.078060  0.102313  0.049081  0.057129  0.087898  0.093418  0.085050   \n",
       "1972  0.077762  0.102614  0.049431  0.057680  0.087762  0.092696  0.084961   \n",
       "1973  0.077965  0.103176  0.048114  0.057623  0.088482  0.093500  0.085181   \n",
       "\n",
       "            CZ        DK        EE  ...        CH        TR        UA  \\\n",
       "1969  0.061970  0.043523  0.037683  ...  0.090253  0.116051  0.065160   \n",
       "1970  0.062003  0.043822  0.037886  ...  0.089899  0.116315  0.066287   \n",
       "1971  0.061603  0.044408  0.037849  ...  0.089851  0.116203  0.065653   \n",
       "1972  0.061135  0.044790  0.038438  ...  0.090079  0.116533  0.065922   \n",
       "1973  0.061053  0.044106  0.037831  ...  0.089654  0.118209  0.065139   \n",
       "\n",
       "            UK  init_time    obs_nao  model_nao_mean  model_nao_members_min  \\\n",
       "1969  0.047340       1964 -190.44958     -232.656768            -318.234643   \n",
       "1970  0.047171       1965 -110.93028     -192.618070            -278.195945   \n",
       "1971  0.046845       1966 -105.87212     -173.565836            -259.143711   \n",
       "1972  0.046656       1967 -114.52344      -75.626209            -161.204084   \n",
       "1973  0.046793       1968  -44.35204      -47.700463            -133.278338   \n",
       "\n",
       "      model_nao_members_max  NAO anomaly (Pa)  \n",
       "1969            -147.078892       -348.860190  \n",
       "1970            -107.040195       -209.222450  \n",
       "1971             -87.987961       -198.056168  \n",
       "1972               9.951667       -141.393485  \n",
       "1973              37.877413          2.060024  \n",
       "\n",
       "[5 rows x 44 columns]"
      ]
     },
     "execution_count": 15,
     "metadata": {},
     "output_type": "execute_result"
    }
   ],
   "source": [
    "merged_df_nao_obs.head()"
   ]
  },
  {
   "cell_type": "code",
   "execution_count": 10,
   "metadata": {},
   "outputs": [
    {
     "name": "stdout",
     "output_type": "stream",
     "text": [
      "Normalising the variables\n",
      "Fixing the trendline to the predictor variable\n",
      "r = 0.61, p = 0.00\n",
      "Figure saved to: /gws/nopw/j04/canari/users/benhutch/plots/NAO_solar capacity factors_scatter_plot_20241111_150339.pdf\n"
     ]
    },
    {
     "data": {
      "image/png": "[encoded data removed]",
      "text/plain": [
       "<Figure size 520x520 with 1 Axes>"
      ]
     },
     "metadata": {},
     "output_type": "display_data"
    }
   ],
   "source": [
    "# test the new plot scatter function\n",
    "funcs.plot_scatter(\n",
    "    df=merged_df_nao_obs,\n",
    "    predictor_col_name=\"model_nao_mean\",\n",
    "    predictand_col_name=\"ES\",\n",
    "    predictor_var_name=\"NAO\",\n",
    "    predictand_var_name=\"solar capacity factors\",\n",
    "    xlabel=\"dcppA NAO anomalies (hPa, trend corrected)\",\n",
    "    ylabel=\"Observed Spain solar CFs (GW)\",\n",
    "    figsize=(5.2, 5.2),\n",
    "    label=\"d\",\n",
    "    do_detrend_predictor=False,\n",
    "    do_detrend_predictand=False,\n",
    "    show_eqn_r_p=True,\n",
    "    fontsize=13,\n",
    "    fix_predictor_trendline=True,\n",
    "    normalise_anom=True,\n",
    "    inverse_predictand=False,\n",
    ")"
   ]
  },
  {
   "cell_type": "code",
   "execution_count": null,
   "metadata": {},
   "outputs": [],
   "source": [
    "from scipy.stats import pearsonr\n",
    "\n",
    "# Create a plot with two y-axes\n",
    "# Time on the x-axes\n",
    "# The variable on the left y-axes is the NAO anomaly (Pa)\n",
    "# The variable on the right y-axes is the wind power (GW) for N_Europe\n",
    "fig, ax1 = plt.subplots(figsize=(10, 5))\n",
    "\n",
    "# Plot the NAO anomaly\n",
    "ax1.plot(filtered_df.index, filtered_df.model_nao_mean / 100, \"b-\")\n",
    "\n",
    "# Set the x-axis label\n",
    "ax1.set_xlabel(\"Time\")\n",
    "\n",
    "# Set the y-axis label\n",
    "ax1.set_ylabel(\"Hindcast NAO anomaly (hPa)\", color=\"b\")\n",
    "\n",
    "# Include a black dashed line for y=0\n",
    "ax1.axhline(0, color=\"black\", linestyle=\"--\")\n",
    "\n",
    "# Set the color of the ticks\n",
    "ax1.tick_params(\"y\", colors=\"b\")\n",
    "\n",
    "# Create a second y-axis\n",
    "ax2 = ax1.twinx()\n",
    "\n",
    "# Plot the wind power\n",
    "ax2.plot(merged_df_full.index, merged_df_full.ES, \"r-\")\n",
    "\n",
    "# Set the y-axis label\n",
    "ax2.set_ylabel(\"Spain solar CFs\", color=\"r\")\n",
    "\n",
    "# Set the colour of the ticks\n",
    "ax2.tick_params(\"y\", colors=\"r\")\n",
    "\n",
    "# # Invert the y-axis\n",
    "# ax2.invert_yaxis()\n",
    "\n",
    "# Calculate the correlation between the NAO anomaly and the wind power\n",
    "corr, p = pearsonr(merged_df_full.model_nao_mean, merged_df_full.ES)\n",
    "\n",
    "# Include the correlation and p-value on the plot\n",
    "ax2.text(\n",
    "    0.05,\n",
    "    0.95,\n",
    "    f\"Correlation: {corr:.2f}\\nP-value: {p:.2f}\",\n",
    "    horizontalalignment=\"left\",\n",
    "    verticalalignment=\"top\",\n",
    "    bbox=dict(facecolor=\"white\", alpha=0.5),\n",
    "    transform=ax2.transAxes,\n",
    ")\n",
    "\n",
    "# Show the plot\n",
    "plt.show()"
   ]
  },
  {
   "cell_type": "code",
   "execution_count": null,
   "metadata": {},
   "outputs": [],
   "source": [
    "merged_df_full.head()"
   ]
  },
  {
   "cell_type": "code",
   "execution_count": null,
   "metadata": {},
   "outputs": [],
   "source": [
    "combined_df_subset.head()"
   ]
  },
  {
   "cell_type": "code",
   "execution_count": null,
   "metadata": {},
   "outputs": [],
   "source": [
    "merged_df_nao_pr.head()"
   ]
  },
  {
   "cell_type": "code",
   "execution_count": null,
   "metadata": {},
   "outputs": [],
   "source": [
    "from scipy.stats import linregress\n",
    "\n",
    "# Plot a scatter plot of NAO agaist wind power\n",
    "plt.figure(figsize=(8, 8))\n",
    "\n",
    "# Plot the scatter plot\n",
    "plt.scatter(merged_df_nao_pr[\"model_nao_mean\"] / 100, merged_df_nao_pr[\"var228 anomaly mean\"] * 1000, color=\"k\")\n",
    "\n",
    "# Include a line of best fit\n",
    "slope, intercept, r_value, p_value, std_err = linregress(\n",
    "    merged_df_nao_pr[\"model_nao_mean\"] / 100, merged_df_nao_pr[\"var228 anomaly mean\"] * 1000\n",
    ")\n",
    "\n",
    "# Plot the line of best fit\n",
    "plt.plot(\n",
    "    merged_df_nao_pr[\"model_nao_mean\"] / 100,\n",
    "    slope * (merged_df_nao_pr[\"model_nao_mean\"] / 100) + intercept,\n",
    "    color=\"k\",\n",
    ")\n",
    "\n",
    "# Show the values\n",
    "if intercept < 0:\n",
    "    equation = f\"y = {slope:.2f}x - {abs(intercept):.3f}\"\n",
    "else:\n",
    "    equation = f\"y = {slope:.2f}x + {intercept:.3f}\"\n",
    "\n",
    "# plt.text(\n",
    "#     0.05,\n",
    "#     0.95,\n",
    "#     f\"{equation}\\nr={r_value:.2f}, p={p_value:.2f}\",\n",
    "#     horizontalalignment=\"left\",\n",
    "#     verticalalignment=\"top\",\n",
    "#     transform=plt.gca().transAxes,\n",
    "#     bbox=dict(facecolor=\"white\", alpha=0.5),\n",
    "# )\n",
    "\n",
    "# Set the x-axis label\n",
    "plt.xlabel(\"dcpp-A NAO index anomalies (hPa)\", color=\"k\", fontsize=14)\n",
    "\n",
    "# Set the xticks to blue\n",
    "plt.tick_params(axis=\"x\", colors=\"k\")\n",
    "\n",
    "# Set the y-axis label\n",
    "plt.ylabel(\"Observed Scandinavia precip anomalies (mm/day)\", color=\"k\", fontsize=14)\n",
    "\n",
    "# Include a textbox in the bottom right\n",
    "plt.text(\n",
    "    0.95,\n",
    "    0.05,\n",
    "    f\"d\",\n",
    "    fontsize=12,\n",
    "    transform=plt.gca().transAxes,\n",
    "    verticalalignment=\"bottom\",\n",
    "    horizontalalignment=\"right\",\n",
    "    bbox=dict(facecolor=\"white\", alpha=0.5),\n",
    ")\n",
    "\n",
    "# Set the yticks to red\n",
    "plt.tick_params(axis=\"y\", colors=\"k\")\n",
    "\n",
    "# save this as a pdf\n",
    "filename = \"scatter_dcpp-A_NAO_ERA5_scandi_precip_scatter.pdf\"\n",
    "dir = \"/gws/nopw/j04/canari/users/benhutch/plots/\"\n",
    "\n",
    "# Save the figure\n",
    "plt.savefig(f\"{dir}{filename}\",dpi=600)"
   ]
  },
  {
   "cell_type": "code",
   "execution_count": null,
   "metadata": {},
   "outputs": [],
   "source": [
    "# Set up a dataframe to store the values\n",
    "df = pd.DataFrame(\n",
    "    {\n",
    "        \"slope\": [slope],\n",
    "        \"intercept\": [intercept],\n",
    "        \"r_value\": [r_value],\n",
    "        \"p_value\": [p_value],\n",
    "        \"std_err\": [std_err],\n",
    "    }\n",
    ")\n",
    "\n",
    "# Set up a filename for the dataframe\n",
    "dir = \"/home/users/benhutch/energy-met-corr/coeffs\"\n",
    "\n",
    "# If the directory does not exist, create it\n",
    "if not os.path.exists(dir):\n",
    "    os.makedirs(dir)\n",
    "\n",
    "# Set up the filename\n",
    "fname = \"obs_nao_obs_solar_cfs_slope.csv\"\n",
    "\n",
    "# set up the full path\n",
    "fpath = os.path.join(dir, fname)\n",
    "\n",
    "# Save the datafram\n",
    "df.to_csv(fpath)"
   ]
  },
  {
   "cell_type": "code",
   "execution_count": null,
   "metadata": {},
   "outputs": [],
   "source": [
    "# Load in the ERA5 data for the NAO index\n",
    "# Use this file\n",
    "# adaptor.mars.internal-1691509121.3261805-29348-4-3a487c76-fc7b-421f-b5be-7436e2eb78d7.nc\n",
    "# in ~/ERA5/\n",
    "# Load the dataset\n",
    "era5_data_path = \"~/ERA5/adaptor.mars.internal-1691509121.3261805-29348-4-3a487c76-fc7b-421f-b5be-7436e2eb78d7.nc\"\n",
    "\n",
    "# Load the data into chunks\n",
    "ds_era5 = xr.open_mfdataset(\n",
    "    era5_data_path,\n",
    "    combine=\"by_coords\",\n",
    "    parallel=True,\n",
    "    chunks={\"time\": 100, \"latitude\": 100, \"longitude\": 100},\n",
    ")[\n",
    "    \"msl\"\n",
    "]  # for mean sea level pressure\n",
    "\n",
    "# Combine the first two expver variables\n",
    "obs_msl = ds_era5.sel(expver=1).combine_first(ds_era5.sel(expver=5))"
   ]
  },
  {
   "cell_type": "code",
   "execution_count": null,
   "metadata": {},
   "outputs": [],
   "source": [
    "# Constrain obs to ONDJFM\n",
    "obs_msl = obs_msl.sel(time=obs_msl.time.dt.month.isin([10, 11, 12, 1, 2, 3]))\n",
    "\n",
    "# Shift the time index back by 3 months\n",
    "obs_msl_shifted = obs_msl.shift(time=-3)\n",
    "\n",
    "# Take annual means\n",
    "obs_msl_annual = obs_msl_shifted.resample(time=\"Y\").mean()\n",
    "\n",
    "# Throw away years 1959, 2021, 2022 and 2023\n",
    "obs_msl_annual = obs_msl_annual.sel(time=slice(\"1960\", \"2019\"))\n",
    "\n",
    "# Remove the climatology\n",
    "obs_msl_anomaly = obs_msl_annual - obs_msl_annual.mean(dim=\"time\")"
   ]
  },
  {
   "cell_type": "code",
   "execution_count": null,
   "metadata": {},
   "outputs": [],
   "source": [
    "# Extract the lats and lons of the azores\n",
    "lat1, lat2 = dicts.era5_azores[\"lat1\"], dicts.era5_azores[\"lat2\"]\n",
    "lon1, lon2 = dicts.era5_azores[\"lon1\"], dicts.era5_azores[\"lon2\"]\n",
    "\n",
    "# Calculate the mean for the azores gridbox\n",
    "obs_msl_anomaly_azores = obs_msl_anomaly.sel(\n",
    "    latitude=slice(lat1, lat2), longitude=slice(lon1, lon2)\n",
    ").mean(dim=[\"latitude\", \"longitude\"])"
   ]
  },
  {
   "cell_type": "code",
   "execution_count": null,
   "metadata": {},
   "outputs": [],
   "source": [
    "# Same for iceland\n",
    "lat1, lat2 = dicts.era5_iceland[\"lat1\"], dicts.era5_iceland[\"lat2\"]\n",
    "lon1, lon2 = dicts.era5_iceland[\"lon1\"], dicts.era5_iceland[\"lon2\"]\n",
    "\n",
    "# Calculate the mean for the iceland gridbox\n",
    "obs_msl_anomaly_iceland = obs_msl_anomaly.sel(\n",
    "    latitude=slice(lat1, lat2), longitude=slice(lon1, lon2)\n",
    ").mean(dim=[\"latitude\", \"longitude\"])"
   ]
  },
  {
   "cell_type": "code",
   "execution_count": null,
   "metadata": {},
   "outputs": [],
   "source": [
    "# Calculate the NAO index (azores - iceland)\n",
    "nao_index = obs_msl_anomaly_azores - obs_msl_anomaly_iceland"
   ]
  },
  {
   "cell_type": "code",
   "execution_count": null,
   "metadata": {},
   "outputs": [],
   "source": [
    "# EXtract the time series\n",
    "nao_index_time = nao_index.time.values\n",
    "\n",
    "# Extract the values\n",
    "nao_index_values = nao_index.values\n",
    "\n",
    "# Create a dataframe\n",
    "nao_df = pd.DataFrame({\"time\": nao_index_time, \"value\": nao_index_values})\n",
    "\n",
    "# Take a centred 8-year running mean\n",
    "nao_running = nao_df.set_index(\"time\").rolling(8, center=True).mean()"
   ]
  },
  {
   "cell_type": "code",
   "execution_count": null,
   "metadata": {},
   "outputs": [],
   "source": [
    "# Have a look at the dataframe\n",
    "nao_running.head()"
   ]
  },
  {
   "cell_type": "code",
   "execution_count": null,
   "metadata": {},
   "outputs": [],
   "source": [
    "# Drop the NaN values\n",
    "nao_running = nao_running.dropna()"
   ]
  },
  {
   "cell_type": "code",
   "execution_count": null,
   "metadata": {},
   "outputs": [],
   "source": [
    "# Combine the two dataframes into one, using the index of the first\n",
    "eez_df = eez_cfs.join(nao_running, how=\"inner\")"
   ]
  },
  {
   "cell_type": "code",
   "execution_count": null,
   "metadata": {},
   "outputs": [],
   "source": [
    "eez_df.head()"
   ]
  },
  {
   "cell_type": "code",
   "execution_count": null,
   "metadata": {},
   "outputs": [],
   "source": [
    "# Rename the value column as 'NAO anomaly (Pa)'\n",
    "eez_df = eez_df.rename(columns={\"value\": \"NAO anomaly (Pa)\"})"
   ]
  },
  {
   "cell_type": "code",
   "execution_count": null,
   "metadata": {},
   "outputs": [],
   "source": [
    "# Drop the rows which contain NaN values in the NAO anomaly column\n",
    "eez_df = eez_df.dropna()"
   ]
  },
  {
   "cell_type": "code",
   "execution_count": null,
   "metadata": {},
   "outputs": [],
   "source": [
    "eez_df.head()"
   ]
  },
  {
   "cell_type": "code",
   "execution_count": null,
   "metadata": {},
   "outputs": [],
   "source": [
    "from scipy.stats import pearsonr\n",
    "import pandas as pd\n",
    "\n",
    "# Create a new dataframe with columns for:\n",
    "# 'region' - e.g. Netherlands_7\n",
    "# 'correlation' - the correlation between the NAO and the offshore wind CFs\n",
    "# 'p-value' - the p-value of the correlation\n",
    "# Set up the dataframe\n",
    "correlation_df = pd.DataFrame(columns=[\"region\", \"correlation\", \"p-value\"])\n",
    "\n",
    "# Loop over the regions\n",
    "for region in eez_df.columns[:-1]:\n",
    "    # Calculate the correlation\n",
    "    corr, p = pearsonr(eez_df[region], eez_df[\"NAO anomaly (Pa)\"])\n",
    "\n",
    "    # Create a new DataFrame to append\n",
    "    df_to_append = pd.DataFrame(\n",
    "        {\"region\": [region], \"correlation\": [corr], \"p-value\": [p]}\n",
    "    )\n",
    "\n",
    "    # Append to the dataframe\n",
    "    correlation_df = pd.concat([correlation_df, df_to_append], ignore_index=True)"
   ]
  },
  {
   "cell_type": "code",
   "execution_count": null,
   "metadata": {},
   "outputs": [],
   "source": [
    "correlation_df.head()"
   ]
  },
  {
   "cell_type": "code",
   "execution_count": null,
   "metadata": {},
   "outputs": [],
   "source": [
    "# Remove the numbers from the region column by removing the last 2 characters\n",
    "correlation_df[\"region\"] = correlation_df[\"region\"].str"
   ]
  },
  {
   "cell_type": "code",
   "execution_count": null,
   "metadata": {},
   "outputs": [],
   "source": [
    "correlation_df"
   ]
  },
  {
   "cell_type": "code",
   "execution_count": null,
   "metadata": {},
   "outputs": [],
   "source": [
    "# if any of the region names contain the string \"_\" then remove it\n",
    "correlation_df[\"region\"] = correlation_df[\"region\"].str.replace(\"_\", \" \")"
   ]
  },
  {
   "cell_type": "code",
   "execution_count": null,
   "metadata": {},
   "outputs": [],
   "source": [
    "correlation_df.head()"
   ]
  },
  {
   "cell_type": "code",
   "execution_count": null,
   "metadata": {},
   "outputs": [],
   "source": [
    "EEZ_shapefile[\"SOVEREIGN1\"]"
   ]
  },
  {
   "cell_type": "code",
   "execution_count": null,
   "metadata": {},
   "outputs": [],
   "source": [
    "# Create two new columns in the geopandas dataframe 'EEZ_shapefile'\n",
    "# 'correlation' - the correlation between the NAO and the offshore wind CFs\n",
    "# 'p-value' - the p-value of the correlation\n",
    "EEZ_shapefile[\"correlation\"] = np.nan\n",
    "EEZ_shapefile[\"p-value\"] = np.nan"
   ]
  },
  {
   "cell_type": "code",
   "execution_count": null,
   "metadata": {},
   "outputs": [],
   "source": [
    "EEZ_shapefile.head()"
   ]
  },
  {
   "cell_type": "code",
   "execution_count": null,
   "metadata": {},
   "outputs": [],
   "source": [
    "# Loop over the regions in correlation_df\n",
    "for region in correlation_df[\"region\"]:\n",
    "    # Extract the row from correlation_df\n",
    "    row = correlation_df[correlation_df[\"region\"] == region]\n",
    "\n",
    "    # Extract the correlation and p-value\n",
    "    corr = row[\"correlation\"].values[0]\n",
    "    p = row[\"p-value\"].values[0]\n",
    "\n",
    "    # Set the values in the EEZ_shapefile\n",
    "    EEZ_shapefile.loc[EEZ_shapefile[\"TERRITORY1\"] == region, \"correlation\"] = corr\n",
    "    EEZ_shapefile.loc[EEZ_shapefile[\"TERRITORY1\"] == region, \"p-value\"] = p"
   ]
  },
  {
   "cell_type": "code",
   "execution_count": null,
   "metadata": {},
   "outputs": [],
   "source": [
    "EEZ_shapefile[\"TERRITORY1\"] == \"France\", \"correlation\""
   ]
  },
  {
   "cell_type": "code",
   "execution_count": null,
   "metadata": {},
   "outputs": [],
   "source": [
    "# Extract the list of Terrirories\n",
    "territories = EEZ_shapefile[\"TERRITORY1\"]\n",
    "\n",
    "# Convert to a list\n",
    "territories = list(territories)\n",
    "\n",
    "# Print the territories\n",
    "print(territories)"
   ]
  },
  {
   "cell_type": "code",
   "execution_count": null,
   "metadata": {},
   "outputs": [],
   "source": [
    "# Constrain EEZ shapefile to only include the territories in the list\n",
    "EEZ_shapefile = EEZ_shapefile[EEZ_shapefile[\"TERRITORY1\"].isin(dicts.countries_list)]"
   ]
  },
  {
   "cell_type": "code",
   "execution_count": null,
   "metadata": {},
   "outputs": [],
   "source": [
    "# Print the correlation values for FRance\n",
    "print(EEZ_shapefile[EEZ_shapefile[\"SOVEREIGN1\"] == \"France\"][\"correlation\"])"
   ]
  },
  {
   "cell_type": "code",
   "execution_count": null,
   "metadata": {},
   "outputs": [],
   "source": [
    "# Import cartopy\n",
    "import cartopy.crs as ccrs\n",
    "\n",
    "# Now plot the EEZ_shapefile with the correlation as the color\n",
    "plt.figure(figsize=(10, 10))\n",
    "ax = plt.axes(projection=ccrs.PlateCarree())\n",
    "EEZ_shapefile.plot(\n",
    "    column=\"correlation\", ax=ax, legend=True, cmap=\"coolwarm\", shrink=0.5\n",
    ")\n",
    "# Use cartopy to add the coastlines\n",
    "ax.coastlines()\n",
    "# Make the colorbar smaller\n",
    "cbar = ax.get_figure().get_axes()[1]\n",
    "cbar.set_ylabel(\"Correlation\", fontsize=12)\n",
    "cbar.tick_params(labelsize=10)\n",
    "\n",
    "# Constrain to specific bounds\n",
    "ax.set_xlim(-50, 50)\n",
    "ax.set_ylim(30, 80)"
   ]
  },
  {
   "cell_type": "code",
   "execution_count": null,
   "metadata": {},
   "outputs": [],
   "source": [
    "# Now plot the EEZ_shapefile with the correlation as the color\n",
    "fig, ax = plt.subplots(figsize=(10, 10), subplot_kw={\"projection\": ccrs.PlateCarree()})\n",
    "cax = EEZ_shapefile.plot(\n",
    "    column=\"correlation\", ax=ax, cmap=\"coolwarm\", add_colorbar=False\n",
    ")\n",
    "\n",
    "# Use cartopy to add the coastlines\n",
    "ax.coastlines()\n",
    "\n",
    "# Add colorbar\n",
    "cbar = fig.colorbar(cax.collections[0], ax=ax, shrink=0.5)\n",
    "cbar.set_label(\"Correlation\")\n",
    "\n",
    "# Constrain to specific bounds\n",
    "ax.set_xlim(-50, 50)\n",
    "ax.set_ylim(30, 80)"
   ]
  }
 ],
 "metadata": {
  "kernelspec": {
   "display_name": "Python 3",
   "language": "python",
   "name": "python3"
  },
  "language_info": {
   "codemirror_mode": {
    "name": "ipython",
    "version": 3
   },
   "file_extension": ".py",
   "mimetype": "text/x-python",
   "name": "python",
   "nbconvert_exporter": "python",
   "pygments_lexer": "ipython3",
   "version": "3.11.10"
  }
 },
 "nbformat": 4,
 "nbformat_minor": 4
}
