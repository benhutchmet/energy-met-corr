{
 "cells": [
  {
   "cell_type": "code",
   "execution_count": 1,
   "metadata": {},
   "outputs": [],
   "source": [
    "# Import the relevant modules\n",
    "import os\n",
    "import sys\n",
    "import glob\n",
    "\n",
    "# Import third party modules\n",
    "import numpy as np\n",
    "import xarray as xr\n",
    "import regionmask\n",
    "import geopandas as gpd\n",
    "import pandas as pd\n",
    "import matplotlib.pyplot as plt"
   ]
  },
  {
   "cell_type": "code",
   "execution_count": 2,
   "metadata": {},
   "outputs": [],
   "source": [
    "import dictionaries_em as dicts"
   ]
  },
  {
   "cell_type": "code",
   "execution_count": null,
   "metadata": {},
   "outputs": [],
   "source": [
    "# Testing the NUTS shapefiles\n",
    "# Load in the shapefile fo the eez data\n",
    "NUTS_shapefile = gpd.read_file(\"shapefiles/NUTS/NUTS_RG_10M_2021_4326.shp\")"
   ]
  },
  {
   "cell_type": "code",
   "execution_count": null,
   "metadata": {},
   "outputs": [],
   "source": [
    "NUTS_shapefile.head()"
   ]
  },
  {
   "cell_type": "code",
   "execution_count": null,
   "metadata": {},
   "outputs": [],
   "source": [
    "# Restrict to level code 0\n",
    "NUTS_shapefile = NUTS_shapefile[NUTS_shapefile.LEVL_CODE == 0]"
   ]
  },
  {
   "cell_type": "code",
   "execution_count": null,
   "metadata": {},
   "outputs": [],
   "source": [
    "NUTS_shapefile.head()"
   ]
  },
  {
   "cell_type": "code",
   "execution_count": null,
   "metadata": {},
   "outputs": [],
   "source": [
    "# Restrict to only the countries with codes in the countries_nuts_id dictionarry\n",
    "print(dicts.countries_nuts_id)"
   ]
  },
  {
   "cell_type": "code",
   "execution_count": null,
   "metadata": {},
   "outputs": [],
   "source": [
    "# Extract the second element of the tuple\n",
    "countries_codes = list(dicts.countries_nuts_id.values())"
   ]
  },
  {
   "cell_type": "code",
   "execution_count": null,
   "metadata": {},
   "outputs": [],
   "source": [
    "# Limit the gpd to the countries in the dictionary\n",
    "NUTS_shapefile = NUTS_shapefile[NUTS_shapefile.NUTS_ID.isin(countries_codes)]"
   ]
  },
  {
   "cell_type": "code",
   "execution_count": null,
   "metadata": {},
   "outputs": [],
   "source": [
    "NUTS_shapefile.head()"
   ]
  },
  {
   "cell_type": "code",
   "execution_count": null,
   "metadata": {},
   "outputs": [],
   "source": [
    "# Keep only the NUTS_ID, NUTS_NAME, and geometry columns\n",
    "NUTS_shapefile = NUTS_shapefile[[\"NUTS_ID\", \"NUTS_NAME\", \"geometry\"]]"
   ]
  },
  {
   "cell_type": "code",
   "execution_count": null,
   "metadata": {},
   "outputs": [],
   "source": [
    "NUTS_shapefile.head()"
   ]
  },
  {
   "cell_type": "code",
   "execution_count": null,
   "metadata": {},
   "outputs": [],
   "source": []
  },
  {
   "cell_type": "markdown",
   "metadata": {},
   "source": [
    "### Loading model NAO data ###\n",
    "\n",
    "Loading the lagged and var adjusted NAO data from the .csv file"
   ]
  },
  {
   "cell_type": "code",
   "execution_count": null,
   "metadata": {},
   "outputs": [],
   "source": [
    "# Define the file dire\n",
    "nao_df_dir = \"/gws/nopw/j04/canari/users/benhutch/nao_stats_df/\"\n",
    "nao_df_fname = \"psl_ONDJFM_global_1961_2014_2-9_4_nao_default.csv\"\n",
    "\n",
    "# Set up the model config\n",
    "model_config = {\n",
    "    \"variable\": \"psl\",\n",
    "    \"season\": \"ONDJFM\",\n",
    "    \"region\": \"global\",\n",
    "    \"start_year\": 1961,\n",
    "    \"end_year\": 2014,\n",
    "    \"forecast_range\": \"2-9\",\n",
    "    \"lag\": 4,\n",
    "    \"nao\": \"nao_default\",\n",
    "    \"gridbox\": \"North Europe Grid\",\n",
    "    \"method\": \"nao_matched\",\n",
    "}\n",
    "\n",
    "# # Load this in using pandas\n",
    "# nao_df = pd.read_csv(nao_df_dir + nao_df_fname)"
   ]
  },
  {
   "cell_type": "code",
   "execution_count": null,
   "metadata": {},
   "outputs": [],
   "source": [
    "# # view the head of the df\n",
    "# nao_df.head()"
   ]
  },
  {
   "cell_type": "markdown",
   "metadata": {},
   "source": [
    "Load in the other NAO data"
   ]
  },
  {
   "cell_type": "code",
   "execution_count": null,
   "metadata": {},
   "outputs": [],
   "source": [
    "# # Load the data into chunks\n",
    "# ds_era5 = xr.open_mfdataset(\n",
    "#     dicts.regrid_file,\n",
    "#     combine=\"by_coords\",\n",
    "#     parallel=True,\n",
    "#     chunks={\"time\": \"auto\", \"latitude\": \"auto\", \"longitude\": \"auto\"},\n",
    "# )[\n",
    "#     \"msl\"\n",
    "# ]  # for mean sea level pressure\n",
    "\n",
    "# # Combine the first two expver variables\n",
    "# obs_msl = ds_era5.sel(expver=1).combine_first(ds_era5.sel(expver=5))"
   ]
  },
  {
   "cell_type": "code",
   "execution_count": null,
   "metadata": {},
   "outputs": [],
   "source": [
    "# # Constrain obs to ONDJFM\n",
    "# obs_msl = obs_msl.sel(time=obs_msl.time.dt.month.isin([10, 11, 12, 1, 2, 3]))\n",
    "\n",
    "# # Shift the time index back by 3 months\n",
    "# obs_msl_shifted = obs_msl.shift(time=-3)\n",
    "\n",
    "# # Take annual means\n",
    "# obs_msl_annual = obs_msl_shifted.resample(time=\"Y\").mean()\n",
    "\n",
    "# # Throw away years 1959, 2021, 2022 and 2023\n",
    "# obs_msl_annual = obs_msl_annual.sel(time=slice(\"1960\", \"2019\"))\n",
    "\n",
    "# # Remove the climatology\n",
    "# obs_msl_anomaly = obs_msl_annual - obs_msl_annual.mean(dim=\"time\")"
   ]
  },
  {
   "cell_type": "code",
   "execution_count": null,
   "metadata": {},
   "outputs": [],
   "source": [
    "# # Extract the lats and lons of the azores\n",
    "# lat1, lat2 = dicts.azores_grid_corrected[\"lat1\"], dicts.azores_grid_corrected[\"lat2\"]\n",
    "# lon1, lon2 = dicts.azores_grid_corrected[\"lon1\"], dicts.azores_grid_corrected[\"lon2\"]\n",
    "\n",
    "# # Calculate the mean for the azores gridbox\n",
    "# obs_msl_anomaly_azores = obs_msl_anomaly.sel(\n",
    "#     lat=slice(lat1, lat2), lon=slice(lon1, lon2)\n",
    "# ).mean(dim=[\"lat\", \"lon\"])\n",
    "\n",
    "# # Same for iceland\n",
    "# lat1, lat2 = dicts.iceland_grid_corrected[\"lat1\"], dicts.iceland_grid_corrected[\"lat2\"]\n",
    "# lon1, lon2 = dicts.iceland_grid_corrected[\"lon1\"], dicts.iceland_grid_corrected[\"lon2\"]\n",
    "\n",
    "# # Calculate the mean for the iceland gridbox\n",
    "# obs_msl_anomaly_iceland = obs_msl_anomaly.sel(\n",
    "#     lat=slice(lat1, lat2), lon=slice(lon1, lon2)\n",
    "# ).mean(dim=[\"lat\", \"lon\"])\n",
    "\n",
    "# # Calculate the NAO index (azores - iceland)\n",
    "# nao_index = obs_msl_anomaly_azores - obs_msl_anomaly_iceland"
   ]
  },
  {
   "cell_type": "code",
   "execution_count": null,
   "metadata": {},
   "outputs": [],
   "source": [
    "# # EXtract the time series\n",
    "# nao_index_time = nao_index.time.values\n",
    "\n",
    "# # Extract the values\n",
    "# nao_index_values = nao_index.values\n",
    "\n",
    "# # Create a dataframe\n",
    "# nao_running = pd.DataFrame({\"time\": nao_index_time, \"value\": nao_index_values})\n",
    "\n",
    "# # Take a centred 8-year running mean\n",
    "# nao_running = nao_running.set_index(\"time\").rolling(8, center=True).mean()"
   ]
  },
  {
   "cell_type": "code",
   "execution_count": null,
   "metadata": {},
   "outputs": [],
   "source": [
    "# nao_index_values"
   ]
  },
  {
   "cell_type": "code",
   "execution_count": null,
   "metadata": {},
   "outputs": [],
   "source": [
    "# # Drop the Nans\n",
    "# nao_running = nao_running.dropna()"
   ]
  },
  {
   "cell_type": "code",
   "execution_count": null,
   "metadata": {},
   "outputs": [],
   "source": [
    "# nao_running.head()"
   ]
  },
  {
   "cell_type": "code",
   "execution_count": null,
   "metadata": {},
   "outputs": [],
   "source": [
    "# # split the time column into year and month\n",
    "# # split by - and take the first element\n",
    "# nao_running.index = nao_running.index.year"
   ]
  },
  {
   "cell_type": "code",
   "execution_count": null,
   "metadata": {},
   "outputs": [],
   "source": [
    "# nao_running.head()"
   ]
  },
  {
   "cell_type": "code",
   "execution_count": null,
   "metadata": {},
   "outputs": [],
   "source": [
    "# # align the two dataframes by the index of time for nao_running\n",
    "# # and the valid time for nao_df\n",
    "# nao_df.head()"
   ]
  },
  {
   "cell_type": "code",
   "execution_count": null,
   "metadata": {},
   "outputs": [],
   "source": [
    "# # Set the index of nao_df as the valid_time column\n",
    "# nao_df = nao_df.set_index(\"valid_time\")"
   ]
  },
  {
   "cell_type": "code",
   "execution_count": null,
   "metadata": {},
   "outputs": [],
   "source": [
    "# nao_df.head()"
   ]
  },
  {
   "cell_type": "code",
   "execution_count": null,
   "metadata": {},
   "outputs": [],
   "source": [
    "# # join the two dataframes\n",
    "# nao_df = nao_df.join(nao_running)"
   ]
  },
  {
   "cell_type": "code",
   "execution_count": null,
   "metadata": {},
   "outputs": [],
   "source": [
    "# nao_df.head()"
   ]
  },
  {
   "cell_type": "code",
   "execution_count": null,
   "metadata": {},
   "outputs": [],
   "source": [
    "# # Set the column with name 'value' to obs_nao_pd\n",
    "# nao_df = nao_df.rename(columns={\"value\": \"obs_nao_pd\"})"
   ]
  },
  {
   "cell_type": "code",
   "execution_count": null,
   "metadata": {},
   "outputs": [],
   "source": [
    "# nao_df.head()"
   ]
  },
  {
   "cell_type": "code",
   "execution_count": null,
   "metadata": {},
   "outputs": [],
   "source": [
    "# from scipy.stats import pearsonr\n",
    "\n",
    "# # Plot the obs_nao and obs_nao_pd, both divided by 100\n",
    "# # with valid_time (index) on the x-axis\n",
    "# plt.figure(figsize=(12, 8))\n",
    "\n",
    "# plt.plot(nao_df.index, nao_df[\"obs_nao\"] / 100, label=\"ERA5\", color=\"black\")\n",
    "\n",
    "# plt.plot(\n",
    "#     nao_df.index, nao_df[\"model_nao_mean\"] / 100, label=\"dcppA-hindcast\", color=\"blue\"\n",
    "# )\n",
    "\n",
    "# corr, p = pearsonr(nao_df[\"obs_nao\"], nao_df[\"model_nao_mean\"])\n",
    "\n",
    "# # Include a textbox in the top left hand corner with the corr and p values\n",
    "# plt.text(\n",
    "#     0.05,\n",
    "#     0.95,\n",
    "#     f\"Correlation: {round(corr, 2)}\\n p-value: {round(p, 2)}\",\n",
    "#     horizontalalignment=\"left\",\n",
    "#     verticalalignment=\"top\",\n",
    "#     transform=plt.gca().transAxes,\n",
    "#     bbox=dict(facecolor=\"white\", alpha=0.5),\n",
    "# )\n",
    "\n",
    "# plt.legend()\n",
    "\n",
    "# plt.show()"
   ]
  },
  {
   "cell_type": "code",
   "execution_count": null,
   "metadata": {},
   "outputs": [],
   "source": []
  },
  {
   "cell_type": "markdown",
   "metadata": {},
   "source": [
    "Now we want to process the correlation data for the EEZ domains, then plot the strength of these correlations on the map."
   ]
  },
  {
   "cell_type": "code",
   "execution_count": null,
   "metadata": {},
   "outputs": [],
   "source": [
    "# # Import the functions\n",
    "# import functions_em as funcs\n",
    "\n",
    "# # Extract the data from the .nc file\n",
    "# eez_cfs = funcs.extract_offshore_eez_to_df(\n",
    "#     filepath=os.path.join(dicts.clearheads_dir, \"EEZ_zones_wp_historical.nc\")\n",
    "# )"
   ]
  },
  {
   "cell_type": "code",
   "execution_count": null,
   "metadata": {},
   "outputs": [],
   "source": [
    "# # Look at the head of the dataframe\n",
    "# eez_cfs.head()"
   ]
  },
  {
   "cell_type": "code",
   "execution_count": 3,
   "metadata": {},
   "outputs": [
    {
     "name": "stderr",
     "output_type": "stream",
     "text": [
      "ERROR 1: PROJ: proj_create_from_database: Open of /apps/jasmin/jaspy/mambaforge_envs/jaspy3.10/mf-22.11.1-4/envs/jaspy3.10-mf-22.11.1-4-r20230718/share/proj failed\n"
     ]
    }
   ],
   "source": [
    "# Import the functions\n",
    "import functions_em as funcs"
   ]
  },
  {
   "cell_type": "code",
   "execution_count": 15,
   "metadata": {},
   "outputs": [
    {
     "data": {
      "text/plain": [
       "<module 'functions_em' from '/home/users/benhutch/energy-met-corr/functions_em.py'>"
      ]
     },
     "execution_count": 15,
     "metadata": {},
     "output_type": "execute_result"
    }
   ],
   "source": [
    "import importlib\n",
    "\n",
    "importlib.reload(funcs)"
   ]
  },
  {
   "cell_type": "code",
   "execution_count": 5,
   "metadata": {},
   "outputs": [
    {
     "name": "stdout",
     "output_type": "stream",
     "text": [
      "NUTS_keys for UREAD data:  ['AT' 'AL' 'BY' 'BE' 'BA' 'BG' 'HR' 'CZ' 'DK' 'EE' 'FI' 'FR' 'DE' 'GR'\n",
      " 'HU' 'IE' 'IT' 'XK' 'LV' 'LT' 'LU' 'MK' 'MD' 'ME' 'NL' 'NO' 'PL' 'PT'\n",
      " 'RO' 'RS' 'SK' 'SI' 'ES' 'SE' 'CH' 'TR' 'UA' 'UK']\n",
      "Extracting the stored NAO data from the model data.\n",
      "Filepath:  /gws/nopw/j04/canari/users/benhutch/nao_stats_df/psl_ONDJFM_global_1961_2014_2-9_4_nao_default.csv\n",
      "Filepath:  /gws/nopw/j04/canari/users/benhutch/nao_stats_df/psl_ONDJFM_global_1961_2014_2-9_4_nao_default.csv\n",
      "Head of merged_df:              init_time     obs_nao  model_nao_mean  model_nao_members_min  \\\n",
      "valid_time                                                                 \n",
      "1969             1964 -354.681580     -267.841253            -439.194590   \n",
      "1970             1965 -215.043700     -276.476331            -447.829668   \n",
      "1971             1966 -203.877410     -284.130047            -455.483384   \n",
      "1972             1967 -147.214690     -191.507105            -362.860442   \n",
      "1973             1968   -3.761232     -181.768159            -353.121496   \n",
      "\n",
      "            model_nao_members_max  NAO anomaly (Pa)  \n",
      "valid_time                                           \n",
      "1969                   -96.487916       -348.475141  \n",
      "1970                  -105.122993       -208.837811  \n",
      "1971                  -112.776710       -197.671553  \n",
      "1972                   -20.153768       -141.009079  \n",
      "1973                   -10.414822          2.444138  \n",
      "Head of UREAD df:                                            AT        AL         BY         BE  \\\n",
      "time_in_hours_from_first_jan_1950                                              \n",
      "1954                               15.043768  8.331218  17.854787  10.840441   \n",
      "1955                               14.991432  8.412109  17.607277  10.726554   \n",
      "1956                               14.962557  8.361554  17.748581  10.624381   \n",
      "1957                               14.710421  8.223889  17.289963  10.266574   \n",
      "1958                               14.687682  8.041325  16.965588  10.303596   \n",
      "\n",
      "                                          BA         BG         HR         CZ  \\\n",
      "time_in_hours_from_first_jan_1950                                               \n",
      "1954                               12.740704  11.974976  11.039628  14.464573   \n",
      "1955                               12.787251  12.126166  11.053965  14.368896   \n",
      "1956                               12.686926  12.103140  10.968888  14.384453   \n",
      "1957                               12.337226  11.870475  10.604883  14.090365   \n",
      "1958                               12.127888  11.414663  10.381842  13.995711   \n",
      "\n",
      "                                          DK         EE  ...         RO  \\\n",
      "time_in_hours_from_first_jan_1950                        ...              \n",
      "1954                               12.809061  17.768520  ...  13.620086   \n",
      "1955                               12.612587  17.466923  ...  13.749430   \n",
      "1956                               12.727639  17.723797  ...  13.748774   \n",
      "1957                               12.511106  17.319901  ...  13.419014   \n",
      "1958                               12.518963  17.193029  ...  12.980656   \n",
      "\n",
      "                                          RS         SK         SI        ES  \\\n",
      "time_in_hours_from_first_jan_1950                                              \n",
      "1954                               11.677775  14.795589  13.152864  6.975415   \n",
      "1955                               11.850344  14.770807  13.093673  6.875310   \n",
      "1956                               11.883347  14.694772  12.982468  6.788570   \n",
      "1957                               11.610549  14.389903  12.648867  6.651735   \n",
      "1958                               11.254876  14.181524  12.536884  6.588989   \n",
      "\n",
      "                                          SE         CH        TR         UA  \\\n",
      "time_in_hours_from_first_jan_1950                                              \n",
      "1954                               15.852149  14.859549  8.910341  16.294814   \n",
      "1955                               15.658111  14.746670  9.169523  16.211747   \n",
      "1956                               15.810081  14.647522  9.118206  16.304621   \n",
      "1957                               15.578096  14.350772  9.126847  15.960909   \n",
      "1958                               15.651107  14.376132  8.820963  15.388489   \n",
      "\n",
      "                                          UK  \n",
      "time_in_hours_from_first_jan_1950             \n",
      "1954                               10.316362  \n",
      "1955                               10.175931  \n",
      "1956                               10.121983  \n",
      "1957                                9.897424  \n",
      "1958                               10.034569  \n",
      "\n",
      "[5 rows x 38 columns]\n",
      "             AT        AL         BY         BE         BA         BG  \\\n",
      "1969  14.653520  8.090255  17.548672  10.427511  12.316196  11.419671   \n",
      "1970  14.545290  8.050293  17.419978  10.381715  12.232151  11.590635   \n",
      "1971  14.570811  8.064810  16.980749  10.378370  12.240296  11.558482   \n",
      "1972  14.656744  8.131426  17.102981  10.425714  12.361639  11.727132   \n",
      "1973  14.394557  8.039953  16.745365  10.268947  12.019811  11.392064   \n",
      "\n",
      "             HR         CZ         DK         EE  ...         CH        TR  \\\n",
      "1969  10.579521  13.832509  12.510489  18.022160  ...  14.592524  8.690397   \n",
      "1970  10.516903  13.638412  12.245340  17.634872  ...  14.551499  8.912111   \n",
      "1971  10.493715  13.633227  12.141955  17.208935  ...  14.569270  8.946539   \n",
      "1972  10.624067  13.744734  12.162457  17.216271  ...  14.635080  9.089745   \n",
      "1973  10.305609  13.420423  12.015038  17.032603  ...  14.508584  9.068766   \n",
      "\n",
      "             UA        UK  init_time     obs_nao  model_nao_mean  \\\n",
      "1969  15.623476  9.815958       1964 -354.681580     -267.841253   \n",
      "1970  15.727817  9.707392       1965 -215.043700     -276.476331   \n",
      "1971  15.410527  9.672194       1966 -203.877410     -284.130047   \n",
      "1972  15.677275  9.632727       1967 -147.214690     -191.507105   \n",
      "1973  15.367291  9.596568       1968   -3.761232     -181.768159   \n",
      "\n",
      "      model_nao_members_min  model_nao_members_max  NAO anomaly (Pa)  \n",
      "1969            -439.194590             -96.487916       -348.475141  \n",
      "1970            -447.829668            -105.122993       -208.837811  \n",
      "1971            -455.483384            -112.776710       -197.671553  \n",
      "1972            -362.860442             -20.153768       -141.009079  \n",
      "1973            -353.121496             -10.414822          2.444138  \n",
      "\n",
      "[5 rows x 44 columns]\n"
     ]
    }
   ],
   "source": [
    "nao_df_dir = \"/gws/nopw/j04/canari/users/benhutch/nao_stats_df/\"\n",
    "nao_df_fname = \"psl_ONDJFM_global_1961_2014_2-9_4_nao_default.csv\"\n",
    "\n",
    "# # Set up the model config\n",
    "# model_config = {\n",
    "#     \"variable\": \"psl\",\n",
    "#     \"season\": \"ONDJFM\",\n",
    "#     \"region\": \"global\",\n",
    "#     \"start_year\": 1961,\n",
    "#     \"end_year\": 2014,\n",
    "#     \"forecast_range\": \"2-9\",\n",
    "#     \"lag\": 4,\n",
    "#     \"nao\": \"thornton_2019_uk\",\n",
    "# }\n",
    "\n",
    "# Set up the model config\n",
    "model_config = {\n",
    "    \"variable\": \"psl\",\n",
    "    \"season\": \"ONDJFM\",\n",
    "    \"region\": \"global\",\n",
    "    \"start_year\": 1961,\n",
    "    \"end_year\": 2014,\n",
    "    \"forecast_range\": \"2-9\",\n",
    "    \"lag\": 4,\n",
    "    \"nao\": \"nao_default\",\n",
    "    \"gridbox\": \"Scandinavia\",\n",
    "    \"method\": \"nao_matched\",\n",
    "}\n",
    "\n",
    "\n",
    "# EEZ_zones_wp_historical.nc\n",
    "# NUTS_0_HDD_historical_pop_weighted.nc\n",
    "# test the other function for doing this\n",
    "# days for cooling degree days\n",
    "df, merged_df, merged_df_full, corr_df = funcs.correlate_nao_uread(\n",
    "    filename=\"NUTS_0_HDD_historical_pop_weighted.nc\",\n",
    "    time_unit=\"d\",\n",
    "    obs_var=\"msl\",\n",
    "    avg_grid=dicts.scandi_box,\n",
    "    use_model_data=True,\n",
    "    model_config=model_config,\n",
    ")"
   ]
  },
  {
   "cell_type": "code",
   "execution_count": 10,
   "metadata": {},
   "outputs": [
    {
     "data": {
      "text/html": [
       "<div>\n",
       "<style scoped>\n",
       "    .dataframe tbody tr th:only-of-type {\n",
       "        vertical-align: middle;\n",
       "    }\n",
       "\n",
       "    .dataframe tbody tr th {\n",
       "        vertical-align: top;\n",
       "    }\n",
       "\n",
       "    .dataframe thead th {\n",
       "        text-align: right;\n",
       "    }\n",
       "</style>\n",
       "<table border=\"1\" class=\"dataframe\">\n",
       "  <thead>\n",
       "    <tr style=\"text-align: right;\">\n",
       "      <th></th>\n",
       "      <th>init_time</th>\n",
       "      <th>obs_nao</th>\n",
       "      <th>model_nao_mean</th>\n",
       "      <th>model_nao_members_min</th>\n",
       "      <th>model_nao_members_max</th>\n",
       "      <th>NAO anomaly (Pa)</th>\n",
       "    </tr>\n",
       "    <tr>\n",
       "      <th>valid_time</th>\n",
       "      <th></th>\n",
       "      <th></th>\n",
       "      <th></th>\n",
       "      <th></th>\n",
       "      <th></th>\n",
       "      <th></th>\n",
       "    </tr>\n",
       "  </thead>\n",
       "  <tbody>\n",
       "    <tr>\n",
       "      <th>1969</th>\n",
       "      <td>1964</td>\n",
       "      <td>-354.681580</td>\n",
       "      <td>-267.841253</td>\n",
       "      <td>-439.194590</td>\n",
       "      <td>-96.487916</td>\n",
       "      <td>-348.475141</td>\n",
       "    </tr>\n",
       "    <tr>\n",
       "      <th>1970</th>\n",
       "      <td>1965</td>\n",
       "      <td>-215.043700</td>\n",
       "      <td>-276.476331</td>\n",
       "      <td>-447.829668</td>\n",
       "      <td>-105.122993</td>\n",
       "      <td>-208.837811</td>\n",
       "    </tr>\n",
       "    <tr>\n",
       "      <th>1971</th>\n",
       "      <td>1966</td>\n",
       "      <td>-203.877410</td>\n",
       "      <td>-284.130047</td>\n",
       "      <td>-455.483384</td>\n",
       "      <td>-112.776710</td>\n",
       "      <td>-197.671553</td>\n",
       "    </tr>\n",
       "    <tr>\n",
       "      <th>1972</th>\n",
       "      <td>1967</td>\n",
       "      <td>-147.214690</td>\n",
       "      <td>-191.507105</td>\n",
       "      <td>-362.860442</td>\n",
       "      <td>-20.153768</td>\n",
       "      <td>-141.009079</td>\n",
       "    </tr>\n",
       "    <tr>\n",
       "      <th>1973</th>\n",
       "      <td>1968</td>\n",
       "      <td>-3.761232</td>\n",
       "      <td>-181.768159</td>\n",
       "      <td>-353.121496</td>\n",
       "      <td>-10.414822</td>\n",
       "      <td>2.444138</td>\n",
       "    </tr>\n",
       "  </tbody>\n",
       "</table>\n",
       "</div>"
      ],
      "text/plain": [
       "            init_time     obs_nao  model_nao_mean  model_nao_members_min  \\\n",
       "valid_time                                                                 \n",
       "1969             1964 -354.681580     -267.841253            -439.194590   \n",
       "1970             1965 -215.043700     -276.476331            -447.829668   \n",
       "1971             1966 -203.877410     -284.130047            -455.483384   \n",
       "1972             1967 -147.214690     -191.507105            -362.860442   \n",
       "1973             1968   -3.761232     -181.768159            -353.121496   \n",
       "\n",
       "            model_nao_members_max  NAO anomaly (Pa)  \n",
       "valid_time                                           \n",
       "1969                   -96.487916       -348.475141  \n",
       "1970                  -105.122993       -208.837811  \n",
       "1971                  -112.776710       -197.671553  \n",
       "1972                   -20.153768       -141.009079  \n",
       "1973                   -10.414822          2.444138  "
      ]
     },
     "execution_count": 10,
     "metadata": {},
     "output_type": "execute_result"
    }
   ],
   "source": [
    "merged_df.head()"
   ]
  },
  {
   "cell_type": "code",
   "execution_count": 16,
   "metadata": {},
   "outputs": [],
   "source": [
    "nao_df, pr_df = funcs.calc_model_nao_gridbox_var_corr(\n",
    "    nao_df=merged_df,\n",
    "    gridbox=dicts.scandi_box,\n",
    "    obs_var=\"var228\",\n",
    "    obs_var_data_path=dicts.regrid_file_pr,\n",
    ")"
   ]
  },
  {
   "cell_type": "code",
   "execution_count": 18,
   "metadata": {},
   "outputs": [
    {
     "data": {
      "text/html": [
       "<div>\n",
       "<style scoped>\n",
       "    .dataframe tbody tr th:only-of-type {\n",
       "        vertical-align: middle;\n",
       "    }\n",
       "\n",
       "    .dataframe tbody tr th {\n",
       "        vertical-align: top;\n",
       "    }\n",
       "\n",
       "    .dataframe thead th {\n",
       "        text-align: right;\n",
       "    }\n",
       "</style>\n",
       "<table border=\"1\" class=\"dataframe\">\n",
       "  <thead>\n",
       "    <tr style=\"text-align: right;\">\n",
       "      <th></th>\n",
       "      <th>init_time</th>\n",
       "      <th>obs_nao</th>\n",
       "      <th>model_nao_mean</th>\n",
       "      <th>model_nao_members_min</th>\n",
       "      <th>model_nao_members_max</th>\n",
       "      <th>NAO anomaly (Pa)</th>\n",
       "    </tr>\n",
       "    <tr>\n",
       "      <th>valid_time</th>\n",
       "      <th></th>\n",
       "      <th></th>\n",
       "      <th></th>\n",
       "      <th></th>\n",
       "      <th></th>\n",
       "      <th></th>\n",
       "    </tr>\n",
       "  </thead>\n",
       "  <tbody>\n",
       "    <tr>\n",
       "      <th>1969</th>\n",
       "      <td>1964</td>\n",
       "      <td>-354.681580</td>\n",
       "      <td>-267.841253</td>\n",
       "      <td>-439.194590</td>\n",
       "      <td>-96.487916</td>\n",
       "      <td>-348.475141</td>\n",
       "    </tr>\n",
       "    <tr>\n",
       "      <th>1970</th>\n",
       "      <td>1965</td>\n",
       "      <td>-215.043700</td>\n",
       "      <td>-276.476331</td>\n",
       "      <td>-447.829668</td>\n",
       "      <td>-105.122993</td>\n",
       "      <td>-208.837811</td>\n",
       "    </tr>\n",
       "    <tr>\n",
       "      <th>1971</th>\n",
       "      <td>1966</td>\n",
       "      <td>-203.877410</td>\n",
       "      <td>-284.130047</td>\n",
       "      <td>-455.483384</td>\n",
       "      <td>-112.776710</td>\n",
       "      <td>-197.671553</td>\n",
       "    </tr>\n",
       "    <tr>\n",
       "      <th>1972</th>\n",
       "      <td>1967</td>\n",
       "      <td>-147.214690</td>\n",
       "      <td>-191.507105</td>\n",
       "      <td>-362.860442</td>\n",
       "      <td>-20.153768</td>\n",
       "      <td>-141.009079</td>\n",
       "    </tr>\n",
       "    <tr>\n",
       "      <th>1973</th>\n",
       "      <td>1968</td>\n",
       "      <td>-3.761232</td>\n",
       "      <td>-181.768159</td>\n",
       "      <td>-353.121496</td>\n",
       "      <td>-10.414822</td>\n",
       "      <td>2.444138</td>\n",
       "    </tr>\n",
       "  </tbody>\n",
       "</table>\n",
       "</div>"
      ],
      "text/plain": [
       "            init_time     obs_nao  model_nao_mean  model_nao_members_min  \\\n",
       "valid_time                                                                 \n",
       "1969             1964 -354.681580     -267.841253            -439.194590   \n",
       "1970             1965 -215.043700     -276.476331            -447.829668   \n",
       "1971             1966 -203.877410     -284.130047            -455.483384   \n",
       "1972             1967 -147.214690     -191.507105            -362.860442   \n",
       "1973             1968   -3.761232     -181.768159            -353.121496   \n",
       "\n",
       "            model_nao_members_max  NAO anomaly (Pa)  \n",
       "valid_time                                           \n",
       "1969                   -96.487916       -348.475141  \n",
       "1970                  -105.122993       -208.837811  \n",
       "1971                  -112.776710       -197.671553  \n",
       "1972                   -20.153768       -141.009079  \n",
       "1973                   -10.414822          2.444138  "
      ]
     },
     "execution_count": 18,
     "metadata": {},
     "output_type": "execute_result"
    }
   ],
   "source": [
    "nao_df.head()"
   ]
  },
  {
   "cell_type": "code",
   "execution_count": 25,
   "metadata": {},
   "outputs": [
    {
     "data": {
      "text/html": [
       "<div>\n",
       "<style scoped>\n",
       "    .dataframe tbody tr th:only-of-type {\n",
       "        vertical-align: middle;\n",
       "    }\n",
       "\n",
       "    .dataframe tbody tr th {\n",
       "        vertical-align: top;\n",
       "    }\n",
       "\n",
       "    .dataframe thead th {\n",
       "        text-align: right;\n",
       "    }\n",
       "</style>\n",
       "<table border=\"1\" class=\"dataframe\">\n",
       "  <thead>\n",
       "    <tr style=\"text-align: right;\">\n",
       "      <th></th>\n",
       "      <th>var228 anomaly mean</th>\n",
       "    </tr>\n",
       "    <tr>\n",
       "      <th>time</th>\n",
       "      <th></th>\n",
       "    </tr>\n",
       "  </thead>\n",
       "  <tbody>\n",
       "    <tr>\n",
       "      <th>1964</th>\n",
       "      <td>-1.124663e-04</td>\n",
       "    </tr>\n",
       "    <tr>\n",
       "      <th>1965</th>\n",
       "      <td>-1.514610e-04</td>\n",
       "    </tr>\n",
       "    <tr>\n",
       "      <th>1966</th>\n",
       "      <td>-1.941997e-04</td>\n",
       "    </tr>\n",
       "    <tr>\n",
       "      <th>1967</th>\n",
       "      <td>-1.272582e-04</td>\n",
       "    </tr>\n",
       "    <tr>\n",
       "      <th>1968</th>\n",
       "      <td>-7.287815e-05</td>\n",
       "    </tr>\n",
       "    <tr>\n",
       "      <th>1969</th>\n",
       "      <td>-2.969311e-05</td>\n",
       "    </tr>\n",
       "    <tr>\n",
       "      <th>1970</th>\n",
       "      <td>1.969044e-05</td>\n",
       "    </tr>\n",
       "    <tr>\n",
       "      <th>1971</th>\n",
       "      <td>-1.888659e-06</td>\n",
       "    </tr>\n",
       "    <tr>\n",
       "      <th>1972</th>\n",
       "      <td>-5.642282e-06</td>\n",
       "    </tr>\n",
       "    <tr>\n",
       "      <th>1973</th>\n",
       "      <td>2.647064e-05</td>\n",
       "    </tr>\n",
       "    <tr>\n",
       "      <th>1974</th>\n",
       "      <td>2.334581e-05</td>\n",
       "    </tr>\n",
       "    <tr>\n",
       "      <th>1975</th>\n",
       "      <td>-2.053904e-05</td>\n",
       "    </tr>\n",
       "    <tr>\n",
       "      <th>1976</th>\n",
       "      <td>-5.691884e-05</td>\n",
       "    </tr>\n",
       "    <tr>\n",
       "      <th>1977</th>\n",
       "      <td>-9.285676e-05</td>\n",
       "    </tr>\n",
       "    <tr>\n",
       "      <th>1978</th>\n",
       "      <td>-9.749599e-05</td>\n",
       "    </tr>\n",
       "    <tr>\n",
       "      <th>1979</th>\n",
       "      <td>-7.967530e-05</td>\n",
       "    </tr>\n",
       "    <tr>\n",
       "      <th>1980</th>\n",
       "      <td>-1.173384e-04</td>\n",
       "    </tr>\n",
       "    <tr>\n",
       "      <th>1981</th>\n",
       "      <td>-1.501085e-04</td>\n",
       "    </tr>\n",
       "    <tr>\n",
       "      <th>1982</th>\n",
       "      <td>-1.727785e-04</td>\n",
       "    </tr>\n",
       "    <tr>\n",
       "      <th>1983</th>\n",
       "      <td>-1.455885e-04</td>\n",
       "    </tr>\n",
       "    <tr>\n",
       "      <th>1984</th>\n",
       "      <td>-1.092429e-04</td>\n",
       "    </tr>\n",
       "    <tr>\n",
       "      <th>1985</th>\n",
       "      <td>-6.034423e-05</td>\n",
       "    </tr>\n",
       "    <tr>\n",
       "      <th>1986</th>\n",
       "      <td>2.189583e-05</td>\n",
       "    </tr>\n",
       "    <tr>\n",
       "      <th>1987</th>\n",
       "      <td>-4.719810e-05</td>\n",
       "    </tr>\n",
       "    <tr>\n",
       "      <th>1988</th>\n",
       "      <td>2.369206e-05</td>\n",
       "    </tr>\n",
       "    <tr>\n",
       "      <th>1989</th>\n",
       "      <td>1.230335e-04</td>\n",
       "    </tr>\n",
       "    <tr>\n",
       "      <th>1990</th>\n",
       "      <td>1.290870e-04</td>\n",
       "    </tr>\n",
       "    <tr>\n",
       "      <th>1991</th>\n",
       "      <td>2.084528e-04</td>\n",
       "    </tr>\n",
       "    <tr>\n",
       "      <th>1992</th>\n",
       "      <td>1.155512e-04</td>\n",
       "    </tr>\n",
       "    <tr>\n",
       "      <th>1993</th>\n",
       "      <td>8.951579e-05</td>\n",
       "    </tr>\n",
       "    <tr>\n",
       "      <th>1994</th>\n",
       "      <td>1.679812e-05</td>\n",
       "    </tr>\n",
       "    <tr>\n",
       "      <th>1995</th>\n",
       "      <td>5.895664e-05</td>\n",
       "    </tr>\n",
       "    <tr>\n",
       "      <th>1996</th>\n",
       "      <td>7.837708e-05</td>\n",
       "    </tr>\n",
       "    <tr>\n",
       "      <th>1997</th>\n",
       "      <td>8.123243e-08</td>\n",
       "    </tr>\n",
       "    <tr>\n",
       "      <th>1998</th>\n",
       "      <td>7.738588e-05</td>\n",
       "    </tr>\n",
       "    <tr>\n",
       "      <th>1999</th>\n",
       "      <td>-6.096054e-05</td>\n",
       "    </tr>\n",
       "    <tr>\n",
       "      <th>2000</th>\n",
       "      <td>1.442058e-05</td>\n",
       "    </tr>\n",
       "    <tr>\n",
       "      <th>2001</th>\n",
       "      <td>2.484929e-06</td>\n",
       "    </tr>\n",
       "    <tr>\n",
       "      <th>2002</th>\n",
       "      <td>-1.587698e-05</td>\n",
       "    </tr>\n",
       "    <tr>\n",
       "      <th>2003</th>\n",
       "      <td>4.097555e-05</td>\n",
       "    </tr>\n",
       "    <tr>\n",
       "      <th>2004</th>\n",
       "      <td>-5.844642e-06</td>\n",
       "    </tr>\n",
       "    <tr>\n",
       "      <th>2005</th>\n",
       "      <td>-1.549779e-09</td>\n",
       "    </tr>\n",
       "    <tr>\n",
       "      <th>2006</th>\n",
       "      <td>-8.009916e-05</td>\n",
       "    </tr>\n",
       "    <tr>\n",
       "      <th>2007</th>\n",
       "      <td>-3.156038e-05</td>\n",
       "    </tr>\n",
       "    <tr>\n",
       "      <th>2008</th>\n",
       "      <td>3.829075e-05</td>\n",
       "    </tr>\n",
       "    <tr>\n",
       "      <th>2009</th>\n",
       "      <td>-3.983254e-05</td>\n",
       "    </tr>\n",
       "    <tr>\n",
       "      <th>2010</th>\n",
       "      <td>8.018953e-06</td>\n",
       "    </tr>\n",
       "    <tr>\n",
       "      <th>2011</th>\n",
       "      <td>-5.226157e-06</td>\n",
       "    </tr>\n",
       "    <tr>\n",
       "      <th>2012</th>\n",
       "      <td>-1.371724e-05</td>\n",
       "    </tr>\n",
       "    <tr>\n",
       "      <th>2013</th>\n",
       "      <td>4.205616e-05</td>\n",
       "    </tr>\n",
       "    <tr>\n",
       "      <th>2014</th>\n",
       "      <td>8.219290e-05</td>\n",
       "    </tr>\n",
       "    <tr>\n",
       "      <th>2015</th>\n",
       "      <td>9.523197e-05</td>\n",
       "    </tr>\n",
       "    <tr>\n",
       "      <th>2016</th>\n",
       "      <td>1.356160e-04</td>\n",
       "    </tr>\n",
       "    <tr>\n",
       "      <th>2017</th>\n",
       "      <td>1.920273e-04</td>\n",
       "    </tr>\n",
       "    <tr>\n",
       "      <th>2018</th>\n",
       "      <td>1.820491e-04</td>\n",
       "    </tr>\n",
       "    <tr>\n",
       "      <th>2019</th>\n",
       "      <td>1.395031e-04</td>\n",
       "    </tr>\n",
       "    <tr>\n",
       "      <th>2020</th>\n",
       "      <td>1.529399e-04</td>\n",
       "    </tr>\n",
       "  </tbody>\n",
       "</table>\n",
       "</div>"
      ],
      "text/plain": [
       "      var228 anomaly mean\n",
       "time                     \n",
       "1964        -1.124663e-04\n",
       "1965        -1.514610e-04\n",
       "1966        -1.941997e-04\n",
       "1967        -1.272582e-04\n",
       "1968        -7.287815e-05\n",
       "1969        -2.969311e-05\n",
       "1970         1.969044e-05\n",
       "1971        -1.888659e-06\n",
       "1972        -5.642282e-06\n",
       "1973         2.647064e-05\n",
       "1974         2.334581e-05\n",
       "1975        -2.053904e-05\n",
       "1976        -5.691884e-05\n",
       "1977        -9.285676e-05\n",
       "1978        -9.749599e-05\n",
       "1979        -7.967530e-05\n",
       "1980        -1.173384e-04\n",
       "1981        -1.501085e-04\n",
       "1982        -1.727785e-04\n",
       "1983        -1.455885e-04\n",
       "1984        -1.092429e-04\n",
       "1985        -6.034423e-05\n",
       "1986         2.189583e-05\n",
       "1987        -4.719810e-05\n",
       "1988         2.369206e-05\n",
       "1989         1.230335e-04\n",
       "1990         1.290870e-04\n",
       "1991         2.084528e-04\n",
       "1992         1.155512e-04\n",
       "1993         8.951579e-05\n",
       "1994         1.679812e-05\n",
       "1995         5.895664e-05\n",
       "1996         7.837708e-05\n",
       "1997         8.123243e-08\n",
       "1998         7.738588e-05\n",
       "1999        -6.096054e-05\n",
       "2000         1.442058e-05\n",
       "2001         2.484929e-06\n",
       "2002        -1.587698e-05\n",
       "2003         4.097555e-05\n",
       "2004        -5.844642e-06\n",
       "2005        -1.549779e-09\n",
       "2006        -8.009916e-05\n",
       "2007        -3.156038e-05\n",
       "2008         3.829075e-05\n",
       "2009        -3.983254e-05\n",
       "2010         8.018953e-06\n",
       "2011        -5.226157e-06\n",
       "2012        -1.371724e-05\n",
       "2013         4.205616e-05\n",
       "2014         8.219290e-05\n",
       "2015         9.523197e-05\n",
       "2016         1.356160e-04\n",
       "2017         1.920273e-04\n",
       "2018         1.820491e-04\n",
       "2019         1.395031e-04\n",
       "2020         1.529399e-04"
      ]
     },
     "execution_count": 25,
     "metadata": {},
     "output_type": "execute_result"
    }
   ],
   "source": [
    "pr_df"
   ]
  },
  {
   "cell_type": "code",
   "execution_count": 21,
   "metadata": {},
   "outputs": [],
   "source": [
    "# Extract the time axis for pr_df to only include the years\n",
    "pr_df.index = pr_df.index.year"
   ]
  },
  {
   "cell_type": "code",
   "execution_count": 23,
   "metadata": {},
   "outputs": [],
   "source": [
    "# Join the two dataframes\n",
    "merged_df = nao_df.join(pr_df, how=\"inner\")"
   ]
  },
  {
   "cell_type": "code",
   "execution_count": 31,
   "metadata": {},
   "outputs": [
    {
     "data": {
      "text/html": [
       "<div>\n",
       "<style scoped>\n",
       "    .dataframe tbody tr th:only-of-type {\n",
       "        vertical-align: middle;\n",
       "    }\n",
       "\n",
       "    .dataframe tbody tr th {\n",
       "        vertical-align: top;\n",
       "    }\n",
       "\n",
       "    .dataframe thead th {\n",
       "        text-align: right;\n",
       "    }\n",
       "</style>\n",
       "<table border=\"1\" class=\"dataframe\">\n",
       "  <thead>\n",
       "    <tr style=\"text-align: right;\">\n",
       "      <th></th>\n",
       "      <th>init_time</th>\n",
       "      <th>obs_nao</th>\n",
       "      <th>model_nao_mean</th>\n",
       "      <th>model_nao_members_min</th>\n",
       "      <th>model_nao_members_max</th>\n",
       "      <th>NAO anomaly (Pa)</th>\n",
       "      <th>var228 anomaly mean</th>\n",
       "      <th>calibrated_model_nao_mean</th>\n",
       "      <th>calibrated_model_nao_members_min</th>\n",
       "      <th>calibrated_model_nao_members_max</th>\n",
       "    </tr>\n",
       "  </thead>\n",
       "  <tbody>\n",
       "    <tr>\n",
       "      <th>1969</th>\n",
       "      <td>1964</td>\n",
       "      <td>-3.546816</td>\n",
       "      <td>-2.678413</td>\n",
       "      <td>-4.391946</td>\n",
       "      <td>-0.964879</td>\n",
       "      <td>-3.484751</td>\n",
       "      <td>-0.029693</td>\n",
       "      <td>NaN</td>\n",
       "      <td>NaN</td>\n",
       "      <td>NaN</td>\n",
       "    </tr>\n",
       "    <tr>\n",
       "      <th>1970</th>\n",
       "      <td>1965</td>\n",
       "      <td>-2.150437</td>\n",
       "      <td>-2.764763</td>\n",
       "      <td>-4.478297</td>\n",
       "      <td>-1.051230</td>\n",
       "      <td>-2.088378</td>\n",
       "      <td>0.019690</td>\n",
       "      <td>NaN</td>\n",
       "      <td>NaN</td>\n",
       "      <td>NaN</td>\n",
       "    </tr>\n",
       "    <tr>\n",
       "      <th>1971</th>\n",
       "      <td>1966</td>\n",
       "      <td>-2.038774</td>\n",
       "      <td>-2.841300</td>\n",
       "      <td>-4.554834</td>\n",
       "      <td>-1.127767</td>\n",
       "      <td>-1.976716</td>\n",
       "      <td>-0.001889</td>\n",
       "      <td>NaN</td>\n",
       "      <td>NaN</td>\n",
       "      <td>NaN</td>\n",
       "    </tr>\n",
       "    <tr>\n",
       "      <th>1972</th>\n",
       "      <td>1967</td>\n",
       "      <td>-1.472147</td>\n",
       "      <td>-1.915071</td>\n",
       "      <td>-3.628604</td>\n",
       "      <td>-0.201538</td>\n",
       "      <td>-1.410091</td>\n",
       "      <td>-0.005642</td>\n",
       "      <td>NaN</td>\n",
       "      <td>NaN</td>\n",
       "      <td>NaN</td>\n",
       "    </tr>\n",
       "    <tr>\n",
       "      <th>1973</th>\n",
       "      <td>1968</td>\n",
       "      <td>-0.037612</td>\n",
       "      <td>-1.817682</td>\n",
       "      <td>-3.531215</td>\n",
       "      <td>-0.104148</td>\n",
       "      <td>0.024441</td>\n",
       "      <td>0.026471</td>\n",
       "      <td>NaN</td>\n",
       "      <td>NaN</td>\n",
       "      <td>NaN</td>\n",
       "    </tr>\n",
       "  </tbody>\n",
       "</table>\n",
       "</div>"
      ],
      "text/plain": [
       "      init_time   obs_nao  model_nao_mean  model_nao_members_min  \\\n",
       "1969       1964 -3.546816       -2.678413              -4.391946   \n",
       "1970       1965 -2.150437       -2.764763              -4.478297   \n",
       "1971       1966 -2.038774       -2.841300              -4.554834   \n",
       "1972       1967 -1.472147       -1.915071              -3.628604   \n",
       "1973       1968 -0.037612       -1.817682              -3.531215   \n",
       "\n",
       "      model_nao_members_max  NAO anomaly (Pa)  var228 anomaly mean  \\\n",
       "1969              -0.964879         -3.484751            -0.029693   \n",
       "1970              -1.051230         -2.088378             0.019690   \n",
       "1971              -1.127767         -1.976716            -0.001889   \n",
       "1972              -0.201538         -1.410091            -0.005642   \n",
       "1973              -0.104148          0.024441             0.026471   \n",
       "\n",
       "      calibrated_model_nao_mean  calibrated_model_nao_members_min  \\\n",
       "1969                        NaN                               NaN   \n",
       "1970                        NaN                               NaN   \n",
       "1971                        NaN                               NaN   \n",
       "1972                        NaN                               NaN   \n",
       "1973                        NaN                               NaN   \n",
       "\n",
       "      calibrated_model_nao_members_max  \n",
       "1969                               NaN  \n",
       "1970                               NaN  \n",
       "1971                               NaN  \n",
       "1972                               NaN  \n",
       "1973                               NaN  "
      ]
     },
     "execution_count": 31,
     "metadata": {},
     "output_type": "execute_result"
    }
   ],
   "source": [
    "merged_df.head()"
   ]
  },
  {
   "cell_type": "code",
   "execution_count": 26,
   "metadata": {},
   "outputs": [],
   "source": [
    "# Convert the column var228 anomaly mean to mm day\n",
    "# by multiplying by 1000\n",
    "merged_df[\"var228 anomaly mean\"] = merged_df[\"var228 anomaly mean\"] * 1000"
   ]
  },
  {
   "cell_type": "code",
   "execution_count": 28,
   "metadata": {},
   "outputs": [],
   "source": [
    "# convert NAO columns to hpa\n",
    "merged_df[\"obs_nao\"] = merged_df[\"obs_nao\"] / 100\n",
    "merged_df[\"model_nao_mean\"] = merged_df[\"model_nao_mean\"] / 100\n",
    "merged_df[\"model_nao_members_min\"] = merged_df[\"model_nao_members_min\"] / 100\n",
    "merged_df[\"model_nao_members_max\"] = merged_df[\"model_nao_members_max\"] / 100\n",
    "merged_df[\"NAO anomaly (Pa)\"] = merged_df[\"NAO anomaly (Pa)\"] / 100"
   ]
  },
  {
   "cell_type": "code",
   "execution_count": 30,
   "metadata": {},
   "outputs": [],
   "source": [
    "# Create new columns for \"calibrated_model_nao_mean\", \"calibrated_model_nao_members_min\"\n",
    "# and \"calibrated_model_nao_members_max\"\n",
    "merged_df[\"calibrated_model_nao_mean\"] = np.nan\n",
    "merged_df[\"calibrated_model_nao_members_min\"] = np.nan\n",
    "merged_df[\"calibrated_model_nao_members_max\"] = np.nan"
   ]
  },
  {
   "cell_type": "code",
   "execution_count": 37,
   "metadata": {},
   "outputs": [],
   "source": [
    "# extract the slope and intercept coefficients\n",
    "coeffs_file = \"coeffs/nao_pr_scandi_slope.csv\"\n",
    "\n",
    "# Load in the coefficients\n",
    "coeffs_df = pd.read_csv(coeffs_file)\n",
    "\n",
    "# Extract the calibration coefficients\n",
    "slope = coeffs_df[\"slope\"].values[0]\n",
    "intercept = coeffs_df[\"intercept\"].values[0]\n",
    "\n",
    "# # Calibrate the model data\n",
    "merged_df[\"calibrated_model_nao_mean\"] = merged_df[\"model_nao_mean\"] * slope + intercept\n",
    "merged_df[\"calibrated_model_nao_members_min\"] = (\n",
    "    merged_df[\"model_nao_members_min\"] * slope + intercept\n",
    ")\n",
    "merged_df[\"calibrated_model_nao_members_max\"] = (\n",
    "    merged_df[\"model_nao_members_max\"] * slope + intercept\n",
    ")"
   ]
  },
  {
   "cell_type": "code",
   "execution_count": 38,
   "metadata": {},
   "outputs": [
    {
     "data": {
      "text/html": [
       "<div>\n",
       "<style scoped>\n",
       "    .dataframe tbody tr th:only-of-type {\n",
       "        vertical-align: middle;\n",
       "    }\n",
       "\n",
       "    .dataframe tbody tr th {\n",
       "        vertical-align: top;\n",
       "    }\n",
       "\n",
       "    .dataframe thead th {\n",
       "        text-align: right;\n",
       "    }\n",
       "</style>\n",
       "<table border=\"1\" class=\"dataframe\">\n",
       "  <thead>\n",
       "    <tr style=\"text-align: right;\">\n",
       "      <th></th>\n",
       "      <th>init_time</th>\n",
       "      <th>obs_nao</th>\n",
       "      <th>model_nao_mean</th>\n",
       "      <th>model_nao_members_min</th>\n",
       "      <th>model_nao_members_max</th>\n",
       "      <th>NAO anomaly (Pa)</th>\n",
       "      <th>var228 anomaly mean</th>\n",
       "      <th>calibrated_model_nao_mean</th>\n",
       "      <th>calibrated_model_nao_members_min</th>\n",
       "      <th>calibrated_model_nao_members_max</th>\n",
       "    </tr>\n",
       "  </thead>\n",
       "  <tbody>\n",
       "    <tr>\n",
       "      <th>1969</th>\n",
       "      <td>1964</td>\n",
       "      <td>-3.546816</td>\n",
       "      <td>-2.678413</td>\n",
       "      <td>-4.391946</td>\n",
       "      <td>-0.964879</td>\n",
       "      <td>-3.484751</td>\n",
       "      <td>-0.029693</td>\n",
       "      <td>-0.076406</td>\n",
       "      <td>-0.122861</td>\n",
       "      <td>-0.029951</td>\n",
       "    </tr>\n",
       "    <tr>\n",
       "      <th>1970</th>\n",
       "      <td>1965</td>\n",
       "      <td>-2.150437</td>\n",
       "      <td>-2.764763</td>\n",
       "      <td>-4.478297</td>\n",
       "      <td>-1.051230</td>\n",
       "      <td>-2.088378</td>\n",
       "      <td>0.019690</td>\n",
       "      <td>-0.078747</td>\n",
       "      <td>-0.125202</td>\n",
       "      <td>-0.032292</td>\n",
       "    </tr>\n",
       "    <tr>\n",
       "      <th>1971</th>\n",
       "      <td>1966</td>\n",
       "      <td>-2.038774</td>\n",
       "      <td>-2.841300</td>\n",
       "      <td>-4.554834</td>\n",
       "      <td>-1.127767</td>\n",
       "      <td>-1.976716</td>\n",
       "      <td>-0.001889</td>\n",
       "      <td>-0.080822</td>\n",
       "      <td>-0.127277</td>\n",
       "      <td>-0.034367</td>\n",
       "    </tr>\n",
       "    <tr>\n",
       "      <th>1972</th>\n",
       "      <td>1967</td>\n",
       "      <td>-1.472147</td>\n",
       "      <td>-1.915071</td>\n",
       "      <td>-3.628604</td>\n",
       "      <td>-0.201538</td>\n",
       "      <td>-1.410091</td>\n",
       "      <td>-0.005642</td>\n",
       "      <td>-0.055711</td>\n",
       "      <td>-0.102166</td>\n",
       "      <td>-0.009256</td>\n",
       "    </tr>\n",
       "    <tr>\n",
       "      <th>1973</th>\n",
       "      <td>1968</td>\n",
       "      <td>-0.037612</td>\n",
       "      <td>-1.817682</td>\n",
       "      <td>-3.531215</td>\n",
       "      <td>-0.104148</td>\n",
       "      <td>0.024441</td>\n",
       "      <td>0.026471</td>\n",
       "      <td>-0.053071</td>\n",
       "      <td>-0.099526</td>\n",
       "      <td>-0.006616</td>\n",
       "    </tr>\n",
       "  </tbody>\n",
       "</table>\n",
       "</div>"
      ],
      "text/plain": [
       "      init_time   obs_nao  model_nao_mean  model_nao_members_min  \\\n",
       "1969       1964 -3.546816       -2.678413              -4.391946   \n",
       "1970       1965 -2.150437       -2.764763              -4.478297   \n",
       "1971       1966 -2.038774       -2.841300              -4.554834   \n",
       "1972       1967 -1.472147       -1.915071              -3.628604   \n",
       "1973       1968 -0.037612       -1.817682              -3.531215   \n",
       "\n",
       "      model_nao_members_max  NAO anomaly (Pa)  var228 anomaly mean  \\\n",
       "1969              -0.964879         -3.484751            -0.029693   \n",
       "1970              -1.051230         -2.088378             0.019690   \n",
       "1971              -1.127767         -1.976716            -0.001889   \n",
       "1972              -0.201538         -1.410091            -0.005642   \n",
       "1973              -0.104148          0.024441             0.026471   \n",
       "\n",
       "      calibrated_model_nao_mean  calibrated_model_nao_members_min  \\\n",
       "1969                  -0.076406                         -0.122861   \n",
       "1970                  -0.078747                         -0.125202   \n",
       "1971                  -0.080822                         -0.127277   \n",
       "1972                  -0.055711                         -0.102166   \n",
       "1973                  -0.053071                         -0.099526   \n",
       "\n",
       "      calibrated_model_nao_members_max  \n",
       "1969                         -0.029951  \n",
       "1970                         -0.032292  \n",
       "1971                         -0.034367  \n",
       "1972                         -0.009256  \n",
       "1973                         -0.006616  "
      ]
     },
     "execution_count": 38,
     "metadata": {},
     "output_type": "execute_result"
    }
   ],
   "source": [
    "merged_df.head()"
   ]
  },
  {
   "cell_type": "code",
   "execution_count": 41,
   "metadata": {},
   "outputs": [
    {
     "data": {
      "image/png": "[encoded data removed]",
      "text/plain": [
       "<Figure size 640x480 with 2 Axes>"
      ]
     },
     "metadata": {},
     "output_type": "display_data"
    }
   ],
   "source": [
    "# Plot the calibrated_model_nao_mean against the var228 anomaly mean\n",
    "# with seperate y-axes\n",
    "from scipy.stats import pearsonr\n",
    "\n",
    "# Create a new figure and an axes\n",
    "fig, ax1 = plt.subplots()\n",
    "\n",
    "# Plot the calibrated_model_nao_mean on the first y-axis\n",
    "ax1.plot(merged_df.index, merged_df[\"calibrated_model_nao_mean\"], color=\"blue\")\n",
    "ax1.set_ylabel(\"calibrated_model_nao_mean\", color=\"blue\")\n",
    "ax1.tick_params(axis=\"y\", labelcolor=\"blue\")\n",
    "\n",
    "# Create a second y-axis that shares the same x-axis\n",
    "ax2 = ax1.twinx()\n",
    "\n",
    "# Plot the var228 anomaly mean on the second y-axis\n",
    "ax2.plot(merged_df.index, merged_df[\"var228 anomaly mean\"], color=\"red\")\n",
    "ax2.set_ylabel(\"var228 anomaly mean\", color=\"red\")\n",
    "ax2.tick_params(axis=\"y\", labelcolor=\"red\")\n",
    "\n",
    "# show the correlation coefiients\n",
    "corr, p = pearsonr(\n",
    "    merged_df[\"calibrated_model_nao_mean\"], merged_df[\"var228 anomaly mean\"]\n",
    ")\n",
    "\n",
    "# Include a textbox in the top left hand corner with the corr and p values\n",
    "plt.text(\n",
    "    0.05,\n",
    "    0.95,\n",
    "    f\"Corr: {round(corr, 2)}\\n p-value: {round(p, 2)}\",\n",
    "    horizontalalignment=\"left\",\n",
    "    verticalalignment=\"top\",\n",
    "    transform=plt.gca().transAxes,\n",
    "    bbox=dict(facecolor=\"white\", alpha=0.5),\n",
    ")\n",
    "\n",
    "# Show the plot\n",
    "plt.show()"
   ]
  },
  {
   "cell_type": "code",
   "execution_count": null,
   "metadata": {},
   "outputs": [],
   "source": [
    "# Testing the NUTS shapefiles\n",
    "# Load in the shapefile fo the eez data\n",
    "NUTS_shapefile = gpd.read_file(\"shapefiles/NUTS/NUTS_RG_10M_2021_4326.shp\")\n",
    "\n",
    "# Restrict to level code 0\n",
    "NUTS_shapefile = NUTS_shapefile[NUTS_shapefile.LEVL_CODE == 0]\n",
    "\n",
    "# Extract the second element of the tuple\n",
    "countries_codes = list(dicts.countries_nuts_id.values())\n",
    "\n",
    "# Limit the gpd to the countries in the dictionary\n",
    "NUTS_shapefile = NUTS_shapefile[NUTS_shapefile.NUTS_ID.isin(countries_codes)]\n",
    "\n",
    "# Keep only the NUTS_ID, NUTS_NAME, and geometry columns\n",
    "NUTS_shapefile = NUTS_shapefile[[\"NUTS_ID\", \"NUTS_NAME\", \"geometry\"]]"
   ]
  },
  {
   "cell_type": "code",
   "execution_count": null,
   "metadata": {},
   "outputs": [],
   "source": [
    "NUTS_shapefile.head()"
   ]
  },
  {
   "cell_type": "code",
   "execution_count": null,
   "metadata": {},
   "outputs": [],
   "source": [
    "# Load in the shapefile fo the eez data\n",
    "EEZ_shapefile = gpd.read_file(\"shapefiles/EEZ/eez_v12.shp\")"
   ]
  },
  {
   "cell_type": "code",
   "execution_count": null,
   "metadata": {},
   "outputs": [],
   "source": [
    "EEZ_shapefile.head()"
   ]
  },
  {
   "cell_type": "code",
   "execution_count": null,
   "metadata": {},
   "outputs": [],
   "source": [
    "# Print all of the column names for the eeZ shapefile\n",
    "print(EEZ_shapefile.columns)"
   ]
  },
  {
   "cell_type": "code",
   "execution_count": null,
   "metadata": {},
   "outputs": [],
   "source": [
    "# Throw away all of the columns, apart from \"GEONAME\", 'SOVEREIGN1',\n",
    "# \"ISOSOV1\", \"geometry\"\n",
    "EEZ_shapefile = EEZ_shapefile[[\"GEONAME\", \"SOVEREIGN1\", \"ISO_SOV1\", \"geometry\"]]"
   ]
  },
  {
   "cell_type": "code",
   "execution_count": null,
   "metadata": {},
   "outputs": [],
   "source": [
    "EEZ_shapefile.head()"
   ]
  },
  {
   "cell_type": "code",
   "execution_count": null,
   "metadata": {},
   "outputs": [],
   "source": [
    "iso_sov1 = EEZ_shapefile[\"ISO_SOV1\"].values"
   ]
  },
  {
   "cell_type": "code",
   "execution_count": null,
   "metadata": {},
   "outputs": [],
   "source": [
    "iso_sov1"
   ]
  },
  {
   "cell_type": "code",
   "execution_count": null,
   "metadata": {},
   "outputs": [],
   "source": [
    "# Extract the values of the region column from corr_df\n",
    "region_values = corr_df.region.values"
   ]
  },
  {
   "cell_type": "code",
   "execution_count": null,
   "metadata": {},
   "outputs": [],
   "source": [
    "region_values"
   ]
  },
  {
   "cell_type": "code",
   "execution_count": null,
   "metadata": {},
   "outputs": [],
   "source": [
    "# reload the dictionary\n",
    "importlib.reload(dicts)"
   ]
  },
  {
   "cell_type": "code",
   "execution_count": null,
   "metadata": {},
   "outputs": [],
   "source": [
    "# Convert the region values to equivalent iso_sov1 values\n",
    "# using the mapping in the dictionary\n",
    "iso_sov1_values = [dicts.iso_mapping[region] for region in region_values]"
   ]
  },
  {
   "cell_type": "code",
   "execution_count": null,
   "metadata": {},
   "outputs": [],
   "source": [
    "iso_sov1_values"
   ]
  },
  {
   "cell_type": "code",
   "execution_count": null,
   "metadata": {},
   "outputs": [],
   "source": [
    "# Constrain the geo dataframe to only include the iso_sov1 values\n",
    "EEZ_shapefile = EEZ_shapefile[EEZ_shapefile[\"ISO_SOV1\"].isin(iso_sov1_values)]"
   ]
  },
  {
   "cell_type": "code",
   "execution_count": null,
   "metadata": {},
   "outputs": [],
   "source": [
    "# Find where ISO_SOV1 is equal to \"ITA\"\n",
    "EEZ_shapefile.head()"
   ]
  },
  {
   "cell_type": "code",
   "execution_count": null,
   "metadata": {},
   "outputs": [],
   "source": [
    "# Where corr_df.region passed through iso_mapping dict is\n",
    "# equal to the values in EEZ_shapefile.ISO_SOV1\n",
    "# Add the corresponding correlation and p-value to the dataframe"
   ]
  },
  {
   "cell_type": "code",
   "execution_count": null,
   "metadata": {},
   "outputs": [],
   "source": [
    "# Filter df to only include the rows where GEONAME includes: \"Exclusive Economic Zone\"\n",
    "EEZ_shapefile = EEZ_shapefile[\n",
    "    EEZ_shapefile[\"GEONAME\"].str.contains(\"Exclusive Economic Zone\")\n",
    "]"
   ]
  },
  {
   "cell_type": "code",
   "execution_count": null,
   "metadata": {},
   "outputs": [],
   "source": [
    "EEZ_shapefile.head()"
   ]
  },
  {
   "cell_type": "code",
   "execution_count": null,
   "metadata": {},
   "outputs": [],
   "source": [
    "# Now we want to append the correlation and p-value to the dataframe\n",
    "# Add a new column to corr_df called \"ISO_SOV1\"\n",
    "corr_df[\"ISO_SOV1\"] = iso_sov1_values"
   ]
  },
  {
   "cell_type": "code",
   "execution_count": null,
   "metadata": {},
   "outputs": [],
   "source": [
    "corr_df[\"region\"] == \"EL\""
   ]
  },
  {
   "cell_type": "code",
   "execution_count": null,
   "metadata": {},
   "outputs": [],
   "source": [
    "# Loop over the columns in EEZ_shapefile and add the correlation and p-value\n",
    "# where the ISO_SOV1 values are equal\n",
    "for index, row in EEZ_shapefile.iterrows():\n",
    "    # Extract the ISO_SOV1 value\n",
    "    iso_sov1 = row[\"ISO_SOV1\"]\n",
    "    # Find the index of the row in corr_df that matches the ISO_SOV1\n",
    "    index_corr = corr_df[corr_df[\"ISO_SOV1\"] == iso_sov1].index\n",
    "    # Add the correlation and p-value to the dataframe\n",
    "    EEZ_shapefile.loc[index, \"correlation\"] = corr_df.loc[\n",
    "        index_corr, \"correlation\"\n",
    "    ].values\n",
    "    EEZ_shapefile.loc[index, \"p-value\"] = corr_df.loc[index_corr, \"p-value\"].values"
   ]
  },
  {
   "cell_type": "code",
   "execution_count": null,
   "metadata": {},
   "outputs": [],
   "source": [
    "# Same thing for the NUTS_shapefile\n",
    "for index, row in NUTS_shapefile.iterrows():\n",
    "    # Extract the NUTS_ID value\n",
    "    nuts_id = row[\"NUTS_ID\"]\n",
    "\n",
    "    # Find the index of the row in corr_df that matches the NUTS_ID\n",
    "    index_corr = corr_df[corr_df[\"region\"] == nuts_id].index\n",
    "\n",
    "    if len(index_corr) == 0:\n",
    "        print(f\"No match found for {nuts_id}\")\n",
    "        continue\n",
    "\n",
    "    # Add the correlation and p-value to the dataframe\n",
    "    NUTS_shapefile.loc[index, \"correlation\"] = corr_df.loc[\n",
    "        index_corr, \"correlation\"\n",
    "    ].values\n",
    "\n",
    "    NUTS_shapefile.loc[index, \"p-value\"] = corr_df.loc[index_corr, \"p-value\"].values"
   ]
  },
  {
   "cell_type": "code",
   "execution_count": null,
   "metadata": {},
   "outputs": [],
   "source": [
    "EEZ_shapefile.head()"
   ]
  },
  {
   "cell_type": "code",
   "execution_count": null,
   "metadata": {},
   "outputs": [],
   "source": [
    "NUTS_shapefile.head()"
   ]
  },
  {
   "cell_type": "code",
   "execution_count": null,
   "metadata": {},
   "outputs": [],
   "source": [
    "# Remove any rows from EEZ shapefile which contain \"(*)\" in the GEONAME column\n",
    "EEZ_shapefile = EEZ_shapefile[~EEZ_shapefile[\"GEONAME\"].str.contains(r\"\\(.*\\)\")]"
   ]
  },
  {
   "cell_type": "code",
   "execution_count": null,
   "metadata": {},
   "outputs": [],
   "source": [
    "EEZ_shapefile.head()"
   ]
  },
  {
   "cell_type": "code",
   "execution_count": null,
   "metadata": {},
   "outputs": [],
   "source": [
    "print(type(EEZ_shapefile))"
   ]
  },
  {
   "cell_type": "code",
   "execution_count": null,
   "metadata": {},
   "outputs": [],
   "source": [
    "# Reload the dicts\n",
    "importlib.reload(dicts)"
   ]
  },
  {
   "cell_type": "code",
   "execution_count": null,
   "metadata": {},
   "outputs": [],
   "source": [
    "# Import cartopy\n",
    "import cartopy.crs as ccrs\n",
    "\n",
    "# Now plot the EEZ_shapefile with the correlation as the color\n",
    "plt.figure(figsize=(10, 10))\n",
    "ax = plt.axes(projection=ccrs.PlateCarree())\n",
    "NUTS_shapefile.plot(\n",
    "    column=\"correlation\",\n",
    "    ax=ax,\n",
    "    legend=True,\n",
    "    cmap=\"coolwarm\",\n",
    "    vmin=-1,\n",
    "    vmax=1,\n",
    "    legend_kwds={\n",
    "        \"label\": \"Correlation\",\n",
    "        \"orientation\": \"horizontal\",\n",
    "        \"shrink\": 0.8,\n",
    "        \"pad\": 0.01,\n",
    "    },\n",
    ")\n",
    "# Use cartopy to add the coastlines\n",
    "ax.coastlines()\n",
    "# Make the colorbar smaller\n",
    "cbar = ax.get_figure().get_axes()[1]\n",
    "cbar.set_ylabel(\"Correlation\", fontsize=12)\n",
    "cbar.tick_params(labelsize=10)\n",
    "\n",
    "# Extract the lats of the northern eu grid box\n",
    "lat1, lat2 = dicts.northern_europe_grid[\"lat1\"], dicts.northern_europe_grid[\"lat2\"]\n",
    "lon1, lon2 = dicts.northern_europe_grid[\"lon1\"], dicts.northern_europe_grid[\"lon2\"]\n",
    "\n",
    "# # Plot the grid box\n",
    "# plt.plot([lon1, lon2, lon2, lon1, lon1], [lat1, lat1, lat2, lat2, lat1], \"r\")\n",
    "\n",
    "# Include hazels grid box\n",
    "lat1_n, lat2_n = (\n",
    "    dicts.iceland_grid_corrected[\"lat1\"],\n",
    "    dicts.iceland_grid_corrected[\"lat2\"],\n",
    ")\n",
    "lon1_n, lon2_n = (\n",
    "    dicts.iceland_grid_corrected[\"lon1\"],\n",
    "    dicts.iceland_grid_corrected[\"lon2\"],\n",
    ")\n",
    "\n",
    "# Plot the grid box\n",
    "plt.plot(\n",
    "    [lon1_n, lon2_n, lon2_n, lon1_n, lon1_n],\n",
    "    [lat1_n, lat1_n, lat2_n, lat2_n, lat1_n],\n",
    "    \"g\",\n",
    ")\n",
    "\n",
    "# Include hazels grid box\n",
    "lat1_s, lat2_s = (\n",
    "    dicts.azores_grid_corrected[\"lat1\"],\n",
    "    dicts.azores_grid_corrected[\"lat2\"],\n",
    ")\n",
    "lon1_s, lon2_s = (\n",
    "    dicts.azores_grid_corrected[\"lon1\"],\n",
    "    dicts.azores_grid_corrected[\"lon2\"],\n",
    ")\n",
    "\n",
    "# Plot the grid box\n",
    "plt.plot(\n",
    "    [lon1_s, lon2_s, lon2_s, lon1_s, lon1_s],\n",
    "    [lat1_s, lat1_s, lat2_s, lat2_s, lat1_s],\n",
    "    \"g\",\n",
    ")\n",
    "\n",
    "# Include ticks for the lat and lon\n",
    "ax.gridlines(draw_labels=True)\n",
    "\n",
    "# Constrain to specific bounds\n",
    "ax.set_xlim(-40, 50)\n",
    "ax.set_ylim(30, 80)"
   ]
  },
  {
   "cell_type": "code",
   "execution_count": null,
   "metadata": {},
   "outputs": [],
   "source": [
    "# Reload the dictionary\n",
    "importlib.reload(dicts)"
   ]
  },
  {
   "cell_type": "code",
   "execution_count": null,
   "metadata": {},
   "outputs": [],
   "source": [
    "# Limit the EEZ_shapefile to only include only the ISO_SOV1 values\n",
    "# Which are in dicts.eez_agg_countries\n",
    "EEZ_shapefile_n = EEZ_shapefile[EEZ_shapefile[\"ISO_SOV1\"].isin(dicts.eez_agg_countries)]"
   ]
  },
  {
   "cell_type": "code",
   "execution_count": null,
   "metadata": {},
   "outputs": [],
   "source": [
    "# Now plot the EEZ_shapefile with the correlation as the color\n",
    "plt.figure(figsize=(10, 10))\n",
    "ax = plt.axes(projection=ccrs.PlateCarree())\n",
    "EEZ_shapefile_n.plot(\n",
    "    column=\"correlation\",\n",
    "    ax=ax,\n",
    "    legend=True,\n",
    "    cmap=\"coolwarm\",\n",
    "    vmin=-1,\n",
    "    vmax=1,\n",
    "    legend_kwds={\n",
    "        \"label\": \"Correlation\",\n",
    "        \"orientation\": \"horizontal\",\n",
    "        \"shrink\": 0.8,\n",
    "        \"pad\": 0.01,\n",
    "    },\n",
    ")\n",
    "# Use cartopy to add the coastlines\n",
    "ax.coastlines()\n",
    "# Make the colorbar smaller\n",
    "cbar = ax.get_figure().get_axes()[1]\n",
    "cbar.set_ylabel(\"Correlation\", fontsize=12)\n",
    "cbar.tick_params(labelsize=10)\n",
    "\n",
    "# Include ticks for the lat and lon\n",
    "ax.gridlines(draw_labels=True)\n",
    "\n",
    "# Constrain to specific bounds\n",
    "ax.set_xlim(-40, 50)\n",
    "ax.set_ylim(30, 80)"
   ]
  },
  {
   "cell_type": "code",
   "execution_count": null,
   "metadata": {},
   "outputs": [],
   "source": [
    "corr_df.head()"
   ]
  },
  {
   "cell_type": "code",
   "execution_count": null,
   "metadata": {},
   "outputs": [],
   "source": [
    "# Reload dicts\n",
    "importlib.reload(dicts)"
   ]
  },
  {
   "cell_type": "code",
   "execution_count": null,
   "metadata": {},
   "outputs": [],
   "source": [
    "# Create a new column in cfs called N_Europe\n",
    "# which is the average of all of the countries (columns) in dicts.eez_agg_countries\n",
    "# Convert to three character names first\n",
    "for key in dicts.iso_mapping:\n",
    "    merged_df = merged_df.rename(columns={key: dicts.iso_mapping[key]})\n",
    "\n",
    "merged_df[\"N_Europe\"] = merged_df[dicts.eez_agg_countries].mean(axis=1)"
   ]
  },
  {
   "cell_type": "code",
   "execution_count": null,
   "metadata": {},
   "outputs": [],
   "source": [
    "merged_df.head()"
   ]
  },
  {
   "cell_type": "code",
   "execution_count": null,
   "metadata": {},
   "outputs": [],
   "source": [
    "from scipy.stats import pearsonr\n",
    "\n",
    "# Create a plot with two y-axes\n",
    "# Time on the x-axes\n",
    "# The variable on the left y-axes is the NAO anomaly (Pa)\n",
    "# The variable on the right y-axes is the wind power (GW) for N_Europe\n",
    "fig, ax1 = plt.subplots(figsize=(10, 5))\n",
    "\n",
    "# Plot the NAO anomaly\n",
    "ax1.plot(merged_df.index, merged_df[\"NAO anomaly (Pa)\"] / 100, \"b-\")\n",
    "\n",
    "# Set the x-axis label\n",
    "ax1.set_xlabel(\"Time\")\n",
    "\n",
    "# Set the y-axis label\n",
    "ax1.set_ylabel(\"Obs NAO anomalies (m/s)\", color=\"b\")\n",
    "\n",
    "# Include a black dashed line for y=0\n",
    "ax1.axhline(0, color=\"black\", linestyle=\"--\")\n",
    "\n",
    "# Set the color of the ticks\n",
    "ax1.tick_params(\"y\", colors=\"b\")\n",
    "\n",
    "# Create a second y-axis\n",
    "ax2 = ax1.twinx()\n",
    "\n",
    "# Plot the wind power\n",
    "ax2.plot(merged_df.index, merged_df.UK, \"r-\")\n",
    "\n",
    "# Set the y-axis label\n",
    "ax2.set_ylabel(\"UK HDD\", color=\"r\")\n",
    "\n",
    "# Set the colour of the ticks\n",
    "ax2.tick_params(\"y\", colors=\"r\")\n",
    "\n",
    "# Invert the y-axis\n",
    "ax2.invert_yaxis()\n",
    "\n",
    "# Calculate the correlation between the NAO anomaly and the wind power\n",
    "corr, p = pearsonr(merged_df[\"NAO anomaly (Pa)\"], merged_df.UK)\n",
    "\n",
    "# Include the correlation and p-value on the plot\n",
    "ax2.text(\n",
    "    0.05,\n",
    "    0.95,\n",
    "    f\"Correlation: {corr:.2f}\\nP-value: {p:.2f}\",\n",
    "    horizontalalignment=\"left\",\n",
    "    verticalalignment=\"top\",\n",
    "    bbox=dict(facecolor=\"white\", alpha=0.5),\n",
    "    transform=ax2.transAxes,\n",
    ")\n",
    "\n",
    "# Show the plot\n",
    "plt.show()"
   ]
  },
  {
   "cell_type": "code",
   "execution_count": null,
   "metadata": {},
   "outputs": [],
   "source": [
    "# Plot a scatter plot of NAO agaist wind power\n",
    "plt.figure(figsize=(8, 8))\n",
    "\n",
    "# Plot the scatter plot\n",
    "plt.scatter(merged_df[\"fcst_ts_mean\"], merged_df.N_Europe, color=\"k\")\n",
    "\n",
    "# Include a line of best fit\n",
    "m, b = np.polyfit(merged_df[\"fcst_ts_mean\"], merged_df.N_Europe, 1)\n",
    "\n",
    "# Plot the line of best fit\n",
    "plt.plot(\n",
    "    merged_df[\"fcst_ts_mean\"],\n",
    "    m * merged_df[\"fcst_ts_mean\"] + b,\n",
    "    \"k\",\n",
    ")\n",
    "\n",
    "# Set the x-axis label\n",
    "plt.xlabel(\"Model wind speed anomalies (m/s))\", color=\"b\")\n",
    "\n",
    "# Set the xticks to blue\n",
    "plt.tick_params(axis=\"x\", colors=\"b\")\n",
    "\n",
    "# Set the y-axis label\n",
    "plt.ylabel(\"Obs Wind Power (GW)\", color=\"r\")\n",
    "\n",
    "# Set the yticks to red\n",
    "plt.tick_params(axis=\"y\", colors=\"r\")"
   ]
  },
  {
   "cell_type": "code",
   "execution_count": null,
   "metadata": {},
   "outputs": [],
   "source": [
    "# Load in the ERA5 data for the NAO index\n",
    "# Use this file\n",
    "# adaptor.mars.internal-1691509121.3261805-29348-4-3a487c76-fc7b-421f-b5be-7436e2eb78d7.nc\n",
    "# in ~/ERA5/\n",
    "# Load the dataset\n",
    "era5_data_path = \"~/ERA5/adaptor.mars.internal-1691509121.3261805-29348-4-3a487c76-fc7b-421f-b5be-7436e2eb78d7.nc\"\n",
    "\n",
    "# Load the data into chunks\n",
    "ds_era5 = xr.open_mfdataset(\n",
    "    era5_data_path,\n",
    "    combine=\"by_coords\",\n",
    "    parallel=True,\n",
    "    chunks={\"time\": 100, \"latitude\": 100, \"longitude\": 100},\n",
    ")[\n",
    "    \"msl\"\n",
    "]  # for mean sea level pressure\n",
    "\n",
    "# Combine the first two expver variables\n",
    "obs_msl = ds_era5.sel(expver=1).combine_first(ds_era5.sel(expver=5))"
   ]
  },
  {
   "cell_type": "code",
   "execution_count": null,
   "metadata": {},
   "outputs": [],
   "source": [
    "# Constrain obs to ONDJFM\n",
    "obs_msl = obs_msl.sel(time=obs_msl.time.dt.month.isin([10, 11, 12, 1, 2, 3]))\n",
    "\n",
    "# Shift the time index back by 3 months\n",
    "obs_msl_shifted = obs_msl.shift(time=-3)\n",
    "\n",
    "# Take annual means\n",
    "obs_msl_annual = obs_msl_shifted.resample(time=\"Y\").mean()\n",
    "\n",
    "# Throw away years 1959, 2021, 2022 and 2023\n",
    "obs_msl_annual = obs_msl_annual.sel(time=slice(\"1960\", \"2019\"))\n",
    "\n",
    "# Remove the climatology\n",
    "obs_msl_anomaly = obs_msl_annual - obs_msl_annual.mean(dim=\"time\")"
   ]
  },
  {
   "cell_type": "code",
   "execution_count": null,
   "metadata": {},
   "outputs": [],
   "source": [
    "# Extract the lats and lons of the azores\n",
    "lat1, lat2 = dicts.era5_azores[\"lat1\"], dicts.era5_azores[\"lat2\"]\n",
    "lon1, lon2 = dicts.era5_azores[\"lon1\"], dicts.era5_azores[\"lon2\"]\n",
    "\n",
    "# Calculate the mean for the azores gridbox\n",
    "obs_msl_anomaly_azores = obs_msl_anomaly.sel(\n",
    "    latitude=slice(lat1, lat2), longitude=slice(lon1, lon2)\n",
    ").mean(dim=[\"latitude\", \"longitude\"])"
   ]
  },
  {
   "cell_type": "code",
   "execution_count": null,
   "metadata": {},
   "outputs": [],
   "source": [
    "# Same for iceland\n",
    "lat1, lat2 = dicts.era5_iceland[\"lat1\"], dicts.era5_iceland[\"lat2\"]\n",
    "lon1, lon2 = dicts.era5_iceland[\"lon1\"], dicts.era5_iceland[\"lon2\"]\n",
    "\n",
    "# Calculate the mean for the iceland gridbox\n",
    "obs_msl_anomaly_iceland = obs_msl_anomaly.sel(\n",
    "    latitude=slice(lat1, lat2), longitude=slice(lon1, lon2)\n",
    ").mean(dim=[\"latitude\", \"longitude\"])"
   ]
  },
  {
   "cell_type": "code",
   "execution_count": null,
   "metadata": {},
   "outputs": [],
   "source": [
    "# Calculate the NAO index (azores - iceland)\n",
    "nao_index = obs_msl_anomaly_azores - obs_msl_anomaly_iceland"
   ]
  },
  {
   "cell_type": "code",
   "execution_count": null,
   "metadata": {},
   "outputs": [],
   "source": [
    "# EXtract the time series\n",
    "nao_index_time = nao_index.time.values\n",
    "\n",
    "# Extract the values\n",
    "nao_index_values = nao_index.values\n",
    "\n",
    "# Create a dataframe\n",
    "nao_df = pd.DataFrame({\"time\": nao_index_time, \"value\": nao_index_values})\n",
    "\n",
    "# Take a centred 8-year running mean\n",
    "nao_running = nao_df.set_index(\"time\").rolling(8, center=True).mean()"
   ]
  },
  {
   "cell_type": "code",
   "execution_count": null,
   "metadata": {},
   "outputs": [],
   "source": [
    "# Have a look at the dataframe\n",
    "nao_running.head()"
   ]
  },
  {
   "cell_type": "code",
   "execution_count": null,
   "metadata": {},
   "outputs": [],
   "source": [
    "# Drop the NaN values\n",
    "nao_running = nao_running.dropna()"
   ]
  },
  {
   "cell_type": "code",
   "execution_count": null,
   "metadata": {},
   "outputs": [],
   "source": [
    "# Combine the two dataframes into one, using the index of the first\n",
    "eez_df = eez_cfs.join(nao_running, how=\"inner\")"
   ]
  },
  {
   "cell_type": "code",
   "execution_count": null,
   "metadata": {},
   "outputs": [],
   "source": [
    "eez_df.head()"
   ]
  },
  {
   "cell_type": "code",
   "execution_count": null,
   "metadata": {},
   "outputs": [],
   "source": [
    "# Rename the value column as 'NAO anomaly (Pa)'\n",
    "eez_df = eez_df.rename(columns={\"value\": \"NAO anomaly (Pa)\"})"
   ]
  },
  {
   "cell_type": "code",
   "execution_count": null,
   "metadata": {},
   "outputs": [],
   "source": [
    "# Drop the rows which contain NaN values in the NAO anomaly column\n",
    "eez_df = eez_df.dropna()"
   ]
  },
  {
   "cell_type": "code",
   "execution_count": null,
   "metadata": {},
   "outputs": [],
   "source": [
    "eez_df.head()"
   ]
  },
  {
   "cell_type": "code",
   "execution_count": null,
   "metadata": {},
   "outputs": [],
   "source": [
    "from scipy.stats import pearsonr\n",
    "import pandas as pd\n",
    "\n",
    "# Create a new dataframe with columns for:\n",
    "# 'region' - e.g. Netherlands_7\n",
    "# 'correlation' - the correlation between the NAO and the offshore wind CFs\n",
    "# 'p-value' - the p-value of the correlation\n",
    "# Set up the dataframe\n",
    "correlation_df = pd.DataFrame(columns=[\"region\", \"correlation\", \"p-value\"])\n",
    "\n",
    "# Loop over the regions\n",
    "for region in eez_df.columns[:-1]:\n",
    "    # Calculate the correlation\n",
    "    corr, p = pearsonr(eez_df[region], eez_df[\"NAO anomaly (Pa)\"])\n",
    "\n",
    "    # Create a new DataFrame to append\n",
    "    df_to_append = pd.DataFrame(\n",
    "        {\"region\": [region], \"correlation\": [corr], \"p-value\": [p]}\n",
    "    )\n",
    "\n",
    "    # Append to the dataframe\n",
    "    correlation_df = pd.concat([correlation_df, df_to_append], ignore_index=True)"
   ]
  },
  {
   "cell_type": "code",
   "execution_count": null,
   "metadata": {},
   "outputs": [],
   "source": [
    "correlation_df.head()"
   ]
  },
  {
   "cell_type": "code",
   "execution_count": null,
   "metadata": {},
   "outputs": [],
   "source": [
    "# Remove the numbers from the region column by removing the last 2 characters\n",
    "correlation_df[\"region\"] = correlation_df[\"region\"].str"
   ]
  },
  {
   "cell_type": "code",
   "execution_count": null,
   "metadata": {},
   "outputs": [],
   "source": [
    "correlation_df"
   ]
  },
  {
   "cell_type": "code",
   "execution_count": null,
   "metadata": {},
   "outputs": [],
   "source": [
    "# if any of the region names contain the string \"_\" then remove it\n",
    "correlation_df[\"region\"] = correlation_df[\"region\"].str.replace(\"_\", \" \")"
   ]
  },
  {
   "cell_type": "code",
   "execution_count": null,
   "metadata": {},
   "outputs": [],
   "source": [
    "correlation_df.head()"
   ]
  },
  {
   "cell_type": "code",
   "execution_count": null,
   "metadata": {},
   "outputs": [],
   "source": [
    "EEZ_shapefile[\"SOVEREIGN1\"]"
   ]
  },
  {
   "cell_type": "code",
   "execution_count": null,
   "metadata": {},
   "outputs": [],
   "source": [
    "# Create two new columns in the geopandas dataframe 'EEZ_shapefile'\n",
    "# 'correlation' - the correlation between the NAO and the offshore wind CFs\n",
    "# 'p-value' - the p-value of the correlation\n",
    "EEZ_shapefile[\"correlation\"] = np.nan\n",
    "EEZ_shapefile[\"p-value\"] = np.nan"
   ]
  },
  {
   "cell_type": "code",
   "execution_count": null,
   "metadata": {},
   "outputs": [],
   "source": [
    "EEZ_shapefile.head()"
   ]
  },
  {
   "cell_type": "code",
   "execution_count": null,
   "metadata": {},
   "outputs": [],
   "source": [
    "# Loop over the regions in correlation_df\n",
    "for region in correlation_df[\"region\"]:\n",
    "    # Extract the row from correlation_df\n",
    "    row = correlation_df[correlation_df[\"region\"] == region]\n",
    "\n",
    "    # Extract the correlation and p-value\n",
    "    corr = row[\"correlation\"].values[0]\n",
    "    p = row[\"p-value\"].values[0]\n",
    "\n",
    "    # Set the values in the EEZ_shapefile\n",
    "    EEZ_shapefile.loc[EEZ_shapefile[\"TERRITORY1\"] == region, \"correlation\"] = corr\n",
    "    EEZ_shapefile.loc[EEZ_shapefile[\"TERRITORY1\"] == region, \"p-value\"] = p"
   ]
  },
  {
   "cell_type": "code",
   "execution_count": null,
   "metadata": {},
   "outputs": [],
   "source": [
    "EEZ_shapefile[\"TERRITORY1\"] == \"France\", \"correlation\""
   ]
  },
  {
   "cell_type": "code",
   "execution_count": null,
   "metadata": {},
   "outputs": [],
   "source": [
    "# Extract the list of Terrirories\n",
    "territories = EEZ_shapefile[\"TERRITORY1\"]\n",
    "\n",
    "# Convert to a list\n",
    "territories = list(territories)\n",
    "\n",
    "# Print the territories\n",
    "print(territories)"
   ]
  },
  {
   "cell_type": "code",
   "execution_count": null,
   "metadata": {},
   "outputs": [],
   "source": [
    "# Constrain EEZ shapefile to only include the territories in the list\n",
    "EEZ_shapefile = EEZ_shapefile[EEZ_shapefile[\"TERRITORY1\"].isin(dicts.countries_list)]"
   ]
  },
  {
   "cell_type": "code",
   "execution_count": null,
   "metadata": {},
   "outputs": [],
   "source": [
    "# Print the correlation values for FRance\n",
    "print(EEZ_shapefile[EEZ_shapefile[\"SOVEREIGN1\"] == \"France\"][\"correlation\"])"
   ]
  },
  {
   "cell_type": "code",
   "execution_count": null,
   "metadata": {},
   "outputs": [],
   "source": [
    "# Import cartopy\n",
    "import cartopy.crs as ccrs\n",
    "\n",
    "# Now plot the EEZ_shapefile with the correlation as the color\n",
    "plt.figure(figsize=(10, 10))\n",
    "ax = plt.axes(projection=ccrs.PlateCarree())\n",
    "EEZ_shapefile.plot(\n",
    "    column=\"correlation\", ax=ax, legend=True, cmap=\"coolwarm\", shrink=0.5\n",
    ")\n",
    "# Use cartopy to add the coastlines\n",
    "ax.coastlines()\n",
    "# Make the colorbar smaller\n",
    "cbar = ax.get_figure().get_axes()[1]\n",
    "cbar.set_ylabel(\"Correlation\", fontsize=12)\n",
    "cbar.tick_params(labelsize=10)\n",
    "\n",
    "# Constrain to specific bounds\n",
    "ax.set_xlim(-50, 50)\n",
    "ax.set_ylim(30, 80)"
   ]
  },
  {
   "cell_type": "code",
   "execution_count": null,
   "metadata": {},
   "outputs": [],
   "source": [
    "# Now plot the EEZ_shapefile with the correlation as the color\n",
    "fig, ax = plt.subplots(figsize=(10, 10), subplot_kw={\"projection\": ccrs.PlateCarree()})\n",
    "cax = EEZ_shapefile.plot(\n",
    "    column=\"correlation\", ax=ax, cmap=\"coolwarm\", add_colorbar=False\n",
    ")\n",
    "\n",
    "# Use cartopy to add the coastlines\n",
    "ax.coastlines()\n",
    "\n",
    "# Add colorbar\n",
    "cbar = fig.colorbar(cax.collections[0], ax=ax, shrink=0.5)\n",
    "cbar.set_label(\"Correlation\")\n",
    "\n",
    "# Constrain to specific bounds\n",
    "ax.set_xlim(-50, 50)\n",
    "ax.set_ylim(30, 80)"
   ]
  }
 ],
 "metadata": {
  "kernelspec": {
   "display_name": "Python 3",
   "language": "python",
   "name": "python3"
  },
  "language_info": {
   "codemirror_mode": {
    "name": "ipython",
    "version": 3
   },
   "file_extension": ".py",
   "mimetype": "text/x-python",
   "name": "python",
   "nbconvert_exporter": "python",
   "pygments_lexer": "ipython3",
   "version": "3.10.8"
  }
 },
 "nbformat": 4,
 "nbformat_minor": 2
}
