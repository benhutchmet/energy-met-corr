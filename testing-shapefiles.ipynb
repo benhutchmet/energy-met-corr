{
 "cells": [
  {
   "cell_type": "code",
   "execution_count": null,
   "metadata": {},
   "outputs": [],
   "source": [
    "# Import the relevant modules\n",
    "import os\n",
    "import sys\n",
    "import glob\n",
    "\n",
    "# Import third party modules\n",
    "import numpy as np\n",
    "import xarray as xr\n",
    "import regionmask\n",
    "import geopandas as gpd\n",
    "import pandas as pd\n",
    "import matplotlib.pyplot as plt"
   ]
  },
  {
   "cell_type": "code",
   "execution_count": null,
   "metadata": {},
   "outputs": [],
   "source": [
    "import dictionaries_em as dicts"
   ]
  },
  {
   "cell_type": "code",
   "execution_count": null,
   "metadata": {},
   "outputs": [],
   "source": [
    "# Load in the onshore wind power data\n",
    "files = glob.glob(\n",
    "    os.path.join(dicts.clearheads_dir, \"NUTS_0_wp_ons_sim_0_historical_loc_weighted.nc\")\n",
    ")\n",
    "\n",
    "# Load the file\n",
    "ds = xr.open_dataset(files[0], chunks={\"time\": 100})\n",
    "\n",
    "# Print tyhe dataset\n",
    "print(ds)"
   ]
  },
  {
   "cell_type": "code",
   "execution_count": null,
   "metadata": {},
   "outputs": [],
   "source": [
    "# Print the nuts key values\n",
    "print(ds.NUTS_keys.values)"
   ]
  },
  {
   "cell_type": "code",
   "execution_count": null,
   "metadata": {},
   "outputs": [],
   "source": [
    "nuts_keys = ds.NUTS_keys.values"
   ]
  },
  {
   "cell_type": "code",
   "execution_count": null,
   "metadata": {},
   "outputs": [],
   "source": [
    "# Load in the shapefile\n",
    "NUTS_shapefile = gpd.read_file(\"shapefiles/NUTS/NUTS_RG_10M_2021_4326.shp\")\n",
    "\n",
    "# Look at the head of the file\n",
    "NUTS_shapefile.head()"
   ]
  },
  {
   "cell_type": "code",
   "execution_count": null,
   "metadata": {},
   "outputs": [],
   "source": [
    "# Using the dictionary for country codes, constrain the shapefile to only include those in the country codes\n",
    "NUTS_shapefile = NUTS_shapefile[NUTS_shapefile[\"CNTR_CODE\"].isin(nuts_keys)]\n",
    "\n",
    "# Constrain to onlty national level\n",
    "NUTS_shapefile = NUTS_shapefile[NUTS_shapefile[\"LEVL_CODE\"] == 0]"
   ]
  },
  {
   "cell_type": "code",
   "execution_count": null,
   "metadata": {},
   "outputs": [],
   "source": [
    "# Plot these shapes with different colors for each country\n",
    "plt.figure(figsize=(10, 10))\n",
    "ax = plt.axes()\n",
    "NUTS_shapefile.boundary.plot(ax=ax)"
   ]
  },
  {
   "cell_type": "code",
   "execution_count": null,
   "metadata": {},
   "outputs": [],
   "source": [
    "# Plot these shapes with different colors for each country\n",
    "plt.figure(figsize=(10, 10))\n",
    "ax = plt.axes()\n",
    "NUTS_shapefile.boundary.plot(ax=ax, column=\"country\", cmap=\"Set3\")"
   ]
  }
 ],
 "metadata": {
  "kernelspec": {
   "display_name": "Python 3",
   "language": "python",
   "name": "python3"
  },
  "language_info": {
   "codemirror_mode": {
    "name": "ipython",
    "version": 3
   },
   "file_extension": ".py",
   "mimetype": "text/x-python",
   "name": "python",
   "nbconvert_exporter": "python",
   "pygments_lexer": "ipython3",
   "version": "3.10.8"
  }
 },
 "nbformat": 4,
 "nbformat_minor": 2
}
