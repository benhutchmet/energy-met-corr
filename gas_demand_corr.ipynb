{
 "cells": [
  {
   "cell_type": "markdown",
   "metadata": {},
   "source": [
    "### Gas demand correlations ###\n",
    "\n",
    "Using NGrid data from Hazel (Thornton et al., 2019) for exploring the decadal relationship between different climate predictors (surface variables, indicies etc.) and UK gas demand (which has been postprocessed to remove non-linear trends)."
   ]
  },
  {
   "cell_type": "code",
   "execution_count": null,
   "metadata": {},
   "outputs": [],
   "source": [
    "# Local libraries\n",
    "import os\n",
    "import sys\n",
    "import glob\n",
    "\n",
    "# Third-party libraries\n",
    "import numpy as np\n",
    "import matplotlib.pyplot as plt\n",
    "import pandas as pd\n",
    "from scipy.stats import pearsonr"
   ]
  },
  {
   "cell_type": "markdown",
   "metadata": {},
   "source": [
    "These data are in .dat format, so we will need to convert this into .csv with NaNs using Pandas."
   ]
  },
  {
   "cell_type": "code",
   "execution_count": null,
   "metadata": {},
   "outputs": [],
   "source": [
    "# Print the files in the directory\n",
    "dir = \"/home/users/benhutch/NGrid_demand\"\n",
    "\n",
    "# List the files in this directory\n",
    "os.listdir(dir)"
   ]
  },
  {
   "cell_type": "markdown",
   "metadata": {},
   "source": [
    "### Data description ###\n",
    "\n",
    "#### Electricity demand ####\n",
    "\n",
    "* *Electricity_demand_5yrRmean_full_GB.dat* - daily UK electricity demand data with the 5-year running mean removed including data for weekends and holidays.\n",
    "* *Electricity_demand_5yrRmean_full_nonhol_GB.dat* - daily UK electricity demand data with the 5-year running mean removed *not* including data for weekends and holidays.\n",
    "\n",
    "#### Gas demand ####\n",
    "\n",
    "* *Gas_raw_demand_GB.dat* - daily gas demand for the UK.\n",
    "* *Gas_demand_5yrRmean_full_GB.dat* - daily gas demand for the UK with the 5-year running mean removed.\n",
    "* *Gas_demand_5yrRmean_full_nonhol_GB.dat* - daily gas demand for the UK with the 5-year running mean removed *not* including data for weekends and holidays."
   ]
  },
  {
   "cell_type": "code",
   "execution_count": null,
   "metadata": {},
   "outputs": [],
   "source": [
    "# We want to load these all into a .csv file\n",
    "raw_gas_file = \"Gas_raw_demand_GB.dat\"\n",
    "\n",
    "# load using pandas\n",
    "df_raw_gas = pd.read_csv(os.path.join(dir, raw_gas_file), sep=\" \", header=0)"
   ]
  },
  {
   "cell_type": "code",
   "execution_count": null,
   "metadata": {},
   "outputs": [],
   "source": [
    "df_raw_gas.head()"
   ]
  },
  {
   "cell_type": "code",
   "execution_count": null,
   "metadata": {},
   "outputs": [],
   "source": [
    "# Try loading the data with NaN values\n",
    "gas_file_nohols = \"Gas_demand_5yrRmean_full_nonhol_GB.dat\"\n",
    "\n",
    "# Load in the .csv file\n",
    "df_gas_nohols = pd.read_csv(os.path.join(dir, gas_file_nohols), sep=\" \", header=0, na_values=\"NA\")"
   ]
  },
  {
   "cell_type": "code",
   "execution_count": null,
   "metadata": {},
   "outputs": [],
   "source": [
    "df_gas_nohols.head()"
   ]
  },
  {
   "cell_type": "code",
   "execution_count": null,
   "metadata": {},
   "outputs": [],
   "source": [
    "# laod the other data\n",
    "gas_demand_with_hols = \"Gas_demand_5yrRmean_full_GB.dat\"\n",
    "\n",
    "# Load in the .csv file\n",
    "df_gas_hols = pd.read_csv(os.path.join(dir, gas_demand_with_hols), sep=\" \", header=0, na_values=\"NA\")\n"
   ]
  },
  {
   "cell_type": "code",
   "execution_count": null,
   "metadata": {},
   "outputs": [],
   "source": [
    "df_gas_hols.head()"
   ]
  },
  {
   "cell_type": "code",
   "execution_count": null,
   "metadata": {},
   "outputs": [],
   "source": [
    "# Convert the date to a datetime object\n",
    "df_gas_hols[\"date\"] = pd.to_datetime(df_gas_hols[\"date\"], format=\"%Y-%m-%d\")\n"
   ]
  },
  {
   "cell_type": "code",
   "execution_count": null,
   "metadata": {},
   "outputs": [],
   "source": [
    "df_gas_hols"
   ]
  },
  {
   "cell_type": "code",
   "execution_count": null,
   "metadata": {},
   "outputs": [],
   "source": [
    "# Convert the date to a datetime object\n",
    "df_gas_nohols[\"date\"] = pd.to_datetime(df_gas_nohols[\"date\"], format=\"%Y-%m-%d\")"
   ]
  },
  {
   "cell_type": "code",
   "execution_count": null,
   "metadata": {},
   "outputs": [],
   "source": [
    "# Same for the raw data\n",
    "df_raw_gas[\"date\"] = pd.to_datetime(df_raw_gas[\"date\"], format=\"%Y-%m-%d\")"
   ]
  },
  {
   "cell_type": "code",
   "execution_count": null,
   "metadata": {},
   "outputs": [],
   "source": [
    "# For nohols add the suffix _nohols to the demand_full_5yrRmean column\n",
    "df_gas_nohols.rename(columns={\"demand_full_5yrRmean\": \"demand_full_5yrRmean_nohols\"}, inplace=True)"
   ]
  },
  {
   "cell_type": "code",
   "execution_count": null,
   "metadata": {},
   "outputs": [],
   "source": [
    "# join the three dataframes on the date column\n",
    "df_gas = pd.merge(df_gas_hols, df_gas_nohols, on=\"date\")\n",
    "\n",
    "# merge this with the raw data\n",
    "df_gas = pd.merge(df_gas, df_raw_gas, on=\"date\")"
   ]
  },
  {
   "cell_type": "code",
   "execution_count": null,
   "metadata": {},
   "outputs": [],
   "source": [
    "df_gas.head()"
   ]
  },
  {
   "cell_type": "code",
   "execution_count": null,
   "metadata": {},
   "outputs": [],
   "source": [
    "# rename demand_MCM as gas_demand_raw\n",
    "df_gas.rename(columns={\"demand_MCM\": \"gas_demand_raw\"}, inplace=True)\n",
    "\n",
    "# rename demand_full_5yrRmean as gas_demand_5yrRmean\n",
    "df_gas.rename(columns={\"demand_full_5yrRmean\": \"gas_demand_5yrRmean\"}, inplace=True)\n",
    "\n",
    "# rename demand_full_5yrRmean_nohols as gas_demand_5yrRmean_nohols\n",
    "df_gas.rename(columns={\"demand_full_5yrRmean_nohols\": \"gas_demand_5yrRmean_nohols\"}, inplace=True)"
   ]
  },
  {
   "cell_type": "code",
   "execution_count": null,
   "metadata": {},
   "outputs": [],
   "source": [
    "df_gas.head()"
   ]
  },
  {
   "cell_type": "code",
   "execution_count": null,
   "metadata": {},
   "outputs": [],
   "source": [
    "# Load in the electricity demand data\n",
    "elec_file = \"Electricity_demand_5yrRmean_full_nonhol_GB.dat\"\n",
    "\n",
    "# Load in the .csv file\n",
    "df_elec_nohols = pd.read_csv(os.path.join(dir, elec_file), sep=\" \", header=0, na_values=\"NA\")"
   ]
  },
  {
   "cell_type": "code",
   "execution_count": null,
   "metadata": {},
   "outputs": [],
   "source": [
    "df_elec_nohols.head()"
   ]
  },
  {
   "cell_type": "code",
   "execution_count": null,
   "metadata": {},
   "outputs": [],
   "source": [
    "# rename demand_full_5yrRmean as elec_demand_5yrRmean_nohols\n",
    "df_elec_nohols.rename(columns={\"demand_full_5yrRmean\": \"elec_demand_5yrRmean_nohols\"}, inplace=True)"
   ]
  },
  {
   "cell_type": "code",
   "execution_count": null,
   "metadata": {},
   "outputs": [],
   "source": [
    "# laod the other data\n",
    "elec_demand_with_hols = \"Electricity_demand_5yrRmean_full_GB.dat\"\n",
    "\n",
    "# Load in the .csv file\n",
    "df_elec_hols = pd.read_csv(os.path.join(dir, elec_demand_with_hols), sep=\" \", header=0, na_values=\"NA\")"
   ]
  },
  {
   "cell_type": "code",
   "execution_count": null,
   "metadata": {},
   "outputs": [],
   "source": [
    "df_elec_hols.head()"
   ]
  },
  {
   "cell_type": "code",
   "execution_count": null,
   "metadata": {},
   "outputs": [],
   "source": [
    "# Convert the date to datetime\n",
    "df_elec_hols[\"date\"] = pd.to_datetime(df_elec_hols[\"date\"], format=\"%Y-%m-%d\")"
   ]
  },
  {
   "cell_type": "code",
   "execution_count": null,
   "metadata": {},
   "outputs": [],
   "source": [
    "# Convert the date to datetime\n",
    "df_elec_nohols[\"date\"] = pd.to_datetime(df_elec_nohols[\"date\"], format=\"%Y-%m-%d\")"
   ]
  },
  {
   "cell_type": "code",
   "execution_count": null,
   "metadata": {},
   "outputs": [],
   "source": [
    "# Merge the two dataframes on the date column\n",
    "df_elec = pd.merge(df_elec_hols, df_elec_nohols, on=\"date\")"
   ]
  },
  {
   "cell_type": "code",
   "execution_count": null,
   "metadata": {},
   "outputs": [],
   "source": [
    "df_elec"
   ]
  },
  {
   "cell_type": "code",
   "execution_count": null,
   "metadata": {},
   "outputs": [],
   "source": [
    "# rename demand_full_5yrRmean as elec_demand_5yrRmean\n",
    "df_elec.rename(columns={\"demand_full_5yrRmean\": \"elec_demand_5yrRmean\"}, inplace=True)"
   ]
  },
  {
   "cell_type": "code",
   "execution_count": null,
   "metadata": {},
   "outputs": [],
   "source": [
    "# Merge the two dataframes on 'date' column\n",
    "df_merged = df_elec.merge(df_gas, on='date', how='left')"
   ]
  },
  {
   "cell_type": "code",
   "execution_count": null,
   "metadata": {},
   "outputs": [],
   "source": [
    "df_merged"
   ]
  },
  {
   "cell_type": "code",
   "execution_count": null,
   "metadata": {},
   "outputs": [],
   "source": [
    "# set the filename\n",
    "output_file = \"gas_electricity_demand_data.csv\"\n",
    "\n",
    "# output directory\n",
    "output_dir = \"/home/users/benhutch/NGrid_demand/csv_files\"\n",
    "\n",
    "# if the directory does not exist, create it\n",
    "if not os.path.exists(output_dir):\n",
    "    os.makedirs(output_dir)\n",
    "\n",
    "# save the dataframe to a .csv file\n",
    "df_merged.to_csv(os.path.join(output_dir, output_file), index=False)"
   ]
  }
 ],
 "metadata": {
  "kernelspec": {
   "display_name": "Python 3",
   "language": "python",
   "name": "python3"
  },
  "language_info": {
   "codemirror_mode": {
    "name": "ipython",
    "version": 3
   },
   "file_extension": ".py",
   "mimetype": "text/x-python",
   "name": "python",
   "nbconvert_exporter": "python",
   "pygments_lexer": "ipython3",
   "version": "3.10.8"
  }
 },
 "nbformat": 4,
 "nbformat_minor": 2
}
